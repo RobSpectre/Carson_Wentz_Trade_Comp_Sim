{
 "cells": [
  {
   "cell_type": "markdown",
   "id": "70b5a494",
   "metadata": {},
   "source": [
    "# Projecting Carson Wentz's Trades impact on the Philadelphia Eagles 2022 Draft Picks"
   ]
  },
  {
   "cell_type": "markdown",
   "id": "b26f767c",
   "metadata": {},
   "source": [
    "By Kai Canoll"
   ]
  },
  {
   "cell_type": "markdown",
   "id": "7d08d546",
   "metadata": {},
   "source": [
    "### Synopsis:\n",
    "The trade between the Eagles and the Colts of Carson Wentz for a 2020 3rd round pick and a conditional 2021 2nd round pick was much discussed. It is certainly one of the weirder trades out there in terms of it's conditions. In short, in order for the Eagles to recieve a 1st round pick, Wentz has to either play:\n",
    "\n",
    "    1) 75% of offensive snaps for the Colts.\n",
    "    2) 70% of offensive snaps and the Colts have to make the playoffs. \n",
    "    \n",
    "If these conditions are not met, the Eagles will instead recieve a 2nd round pick from the Colts.\n",
    "    \n",
    "Now, as you can imagine, this leaves a huge distribution of possible draft picks the Eagles could recieve from the 1st and 2nd round. \n",
    "\n",
    "Each final compensatory pick has it's own probability of occurence, however, and I am here to try an project it!"
   ]
  },
  {
   "cell_type": "markdown",
   "id": "b230cf0f",
   "metadata": {},
   "source": [
    "### Sources:\n",
    "Look here for how I got my info:\n",
    "\n",
    "Sportsipy has good stats info for free on players:\n",
    "https://sportsreference.readthedocs.io/en/stable/examples.html\n",
    "\n",
    "538 has good projections on the season:\n",
    "https://data.fivethirtyeight.com/#nfl-elo\n",
    "\n",
    "Fantasy Pros has info on Carsons Rolling Offensive Snap % Count by Week\n",
    "https://www.fantasypros.com/nfl/reports/snap-counts/qb.php?year=2021&show=perc&print=true\n",
    "\n",
    "And the theoretical odds the Colts would win each given playoff round (independent of their opponent) is here:\n",
    "http://www.playoffstatus.com/nfl/nflpostseasonprob.html"
   ]
  },
  {
   "cell_type": "markdown",
   "id": "9c757e0a",
   "metadata": {},
   "source": [
    "## Change Variables of Interest Here"
   ]
  },
  {
   "cell_type": "code",
   "execution_count": 67,
   "id": "296c9ee7",
   "metadata": {},
   "outputs": [],
   "source": [
    "Sims=10000 #Number of Simulations, more the longer\n",
    "open_previous_csv= False#Skip Simulation code\n",
    "Carson_Injury_Risk=.113 #This is the big question, on a per game basis"
   ]
  },
  {
   "cell_type": "markdown",
   "id": "4b57abbe",
   "metadata": {},
   "source": [
    "## Function Definition"
   ]
  },
  {
   "cell_type": "code",
   "execution_count": 44,
   "id": "09703ed3",
   "metadata": {},
   "outputs": [],
   "source": [
    "\n",
    "#Creates barplot at the from the dataframe with and without sliders\n",
    "def Plotly_Bar_Plot(Fact1,Value,df,text_hover=\"\",slider_text=\"\",Color_Titler=\"\"\n",
    "                    ,titler=\"\"\n",
    "                    ,category_order=False,Sort_fact=\"\",Preset_Order=[]\n",
    "                    ,category_order_array={},vmin=\"\",vmax=\"\",xmin=\"\",xmax=\"\",barmoder='relative',cmin=\"\",cmax=\"\"):\n",
    "    if type(vmin) == str:\n",
    "        vmin = min(df[Value])\n",
    "    if type(vmax) == str:\n",
    "        vmax=  max(df[Value])\n",
    "    if type(xmin) == str:\n",
    "        xmin = min(df[Fact1])\n",
    "    if type(xmax) == str:\n",
    "        xmax=  max(df[Fact1])\n",
    "        \n",
    "\n",
    "    yaxiser=dict( range=[ vmin,vmax] ) #Set value limits at both ends\n",
    "    xaxiser=dict( range=[ xmin,xmax] ) #Set value limits at both ends\n",
    "    \n",
    "    if Color_Titler == \"\":\n",
    "        Color_Titler= Fact1\n",
    "    else:\n",
    "\n",
    "        cmin = min(df[Color_Titler])\n",
    "        cmax=  max(df[Color_Titler])\n",
    "    \n",
    "    if category_order == True: #If you want there to be a certain order to the data.\n",
    "        if category_order_array=={}:\n",
    "            if Sort_fact == \"\":\n",
    "                     category_order={'categoryorder':'array',\n",
    "                                     'categoryarray':constant_unique(Fact1,df=df)}\n",
    "            else:\n",
    "                    category_order={'categoryorder':'array','categoryarray':constant_unique(Fact1,Sort_fact,df)}\n",
    "        else:\n",
    "            category_order=category_order_array \n",
    "    else:\n",
    "        category_order={'categoryorder':'total ascending'}\n",
    "    #df = df.sort_values(by=[slider_text])\n",
    "    if slider_text == \"\":\n",
    "        fig = px.bar(df, x=df[Fact1], y=df[Value], color=df[Color_Titler], barmode = barmoder , color_discrete_map = constant_color_assigner(df[Fact1]))\n",
    "\n",
    "    else:\n",
    "        if Preset_Order == []:\n",
    "            Preset_Order= list(df[slider_text].sort_values().unique())\n",
    "\n",
    "        fig = px.bar(df, x=Fact1, y=Value, color=Color_Titler, text=Value,  range_color=[cmin,cmax]\n",
    "                    , animation_frame=slider_text, barmode = barmoder\n",
    "                    , color_discrete_map = constant_color_assigner(df[Fact1])\n",
    "                    ,category_orders={slider_text: Preset_Order})\n",
    "\n",
    "    fig.update_layout(title=titler   , xaxis_title=Fact1,   xaxis=xaxiser,yaxis= yaxiser)\n",
    "    fig.update_layout(barmode=barmoder)\n",
    "    fig.update_layout( margin=dict(l=80, r=80, t=100, b=80),paper_bgcolor=\"LightSteelBlue\",)\n",
    "    fig.write_html(titler+\".html\")\n",
    "    fig.show()  \n",
    "    \n",
    "def constant_color_assigner(column):\n",
    "    COLOR_DICT={}\n",
    "    color_lister = ['yellow','blue','green','red','orange','purple','pink']\n",
    "    color_lister = color_lister+color_lister\n",
    "    col_uniques = column.unique()\n",
    "    col_uniques.sort() #Get constant order for these values\n",
    "\n",
    "    for val in range(len(col_uniques)): #Iterate through list getting unique index each time\n",
    "        COLOR_DICT[col_uniques[val]] = color_lister[val]\n",
    "        if val%7==0:\n",
    "            color_lister += color_lister\n",
    "\n",
    "    return COLOR_DICT"
   ]
  },
  {
   "cell_type": "code",
   "execution_count": 3,
   "id": "e1b1ba8e",
   "metadata": {},
   "outputs": [],
   "source": [
    "#Import Statements\n",
    "from IPython.core.display import HTML\n",
    "import seaborn as sns\n",
    "import csv\n",
    "import matplotlib.pyplot as plt\n",
    "import pandas as pd\n",
    "import dask.dataframe\n",
    "\n",
    "import pandas as pd\n",
    "import matplotlib.pyplot as plt\n",
    "\n",
    "import plotly.graph_objects as go\n",
    "import pandas as pd\n",
    "import plotly.express as px\n",
    "import pandas as pd\n",
    "import numpy as np\n",
    "import matplotlib\n",
    "import cufflinks as cf\n",
    "import plotly\n",
    "import plotly.offline as py\n",
    "import plotly.graph_objs as go\n",
    "import random\n",
    "from sklearn.linear_model import LinearRegression\n",
    "from sklearn.linear_model import RidgeClassifier\n",
    "import plotly.offline as py\n",
    "import plotly.graph_objs as go\n",
    "\n",
    "import plotly.io as pio\n",
    "pio.renderers.default = \"notebook\"\n",
    "import requests\n",
    "import lxml.html as lh\n",
    "import pandas as pd\n",
    "import numpy as np\n",
    "import random\n",
    "from matplotlib import pyplot as plt\n",
    "from tqdm import tqdm\n",
    "import math\n",
    "import random"
   ]
  },
  {
   "cell_type": "markdown",
   "id": "a79d64ea",
   "metadata": {},
   "source": [
    "## Get Game Win Probs from FiveThirtyEight"
   ]
  },
  {
   "cell_type": "code",
   "execution_count": 4,
   "id": "ef3b7259",
   "metadata": {},
   "outputs": [],
   "source": [
    "NFL_ELO=pd.read_csv(\"https://projects.fivethirtyeight.com/nfl-api/nfl_elo_latest.csv\")"
   ]
  },
  {
   "cell_type": "code",
   "execution_count": 5,
   "id": "0deb8a64",
   "metadata": {},
   "outputs": [],
   "source": [
    "NFL_ELO=NFL_ELO.sort_values(by='date')"
   ]
  },
  {
   "cell_type": "markdown",
   "id": "bcdeaef3",
   "metadata": {},
   "source": [
    "## Find Postseason Projection for each team"
   ]
  },
  {
   "cell_type": "code",
   "execution_count": 6,
   "id": "aaf602ee",
   "metadata": {},
   "outputs": [],
   "source": [
    "url_playoff=\"http://www.playoffstatus.com/nfl/nflpostseasonprob.html\"\n",
    "#Create a handle, page, to handle the contents of the website\n",
    "page = requests.get(url_playoff)\n",
    "#Store the contents of the website under doc\n",
    "doc = lh.fromstring(page.content)\n",
    "tr_elements = doc.xpath('//tr')"
   ]
  },
  {
   "cell_type": "code",
   "execution_count": 7,
   "id": "0247b961",
   "metadata": {},
   "outputs": [],
   "source": [
    "\n",
    "col=[]\n",
    "i=0\n",
    "df=pd.DataFrame()\n",
    "Column_header=['Team','Conference','W','L','T','Super Bowl Winner','Super Bowl','Conference Championship','Round 2','Round 1']\n",
    "for t in Column_header:\n",
    "\n",
    "    col.append((t,[]))\n",
    "for j in range(1,len(tr_elements)):\n",
    "    #T is our j'th row\n",
    "    T=tr_elements[j]\n",
    "    \n",
    "    #If row is not of size 10, the //tr data is not from our table \n",
    "    if len(T)!=len(Column_header):\n",
    "        pass\n",
    "        \n",
    "\n",
    "    #i is the index of our column\n",
    "    i=0\n",
    "\n",
    "    #Iterate through each element of the row\n",
    "    for t in T.iterchildren():\n",
    "        data=t.text_content() \n",
    "        #Check if row is empty\n",
    "        if i>0:\n",
    "        #Convert any numerical value to integers\n",
    "            try:\n",
    "                data=int(data)\n",
    "            except:\n",
    "                pass\n",
    "\n",
    "        #Append the data to the empty list of the i'th column\n",
    "        if ((str(col[i][0])) in str(data)):\n",
    "            pass\n",
    "        else:\n",
    "            col[i][1].append(data)\n",
    "\n",
    "        #Increment i for the next column\n",
    "        i+=1"
   ]
  },
  {
   "cell_type": "markdown",
   "id": "297f62b7",
   "metadata": {},
   "source": [
    "## All Teams Playoff Postseason Odds Dataframe"
   ]
  },
  {
   "cell_type": "code",
   "execution_count": 8,
   "id": "b27dc906",
   "metadata": {},
   "outputs": [],
   "source": [
    "Dict={title:column for (title,column) in col}\n",
    "All_Playoffs=df.append(pd.DataFrame(Dict)[1:])"
   ]
  },
  {
   "cell_type": "markdown",
   "id": "d2a108b6",
   "metadata": {},
   "source": [
    "## Specifically Colts Chances at Each Round of Playoffs"
   ]
  },
  {
   "cell_type": "code",
   "execution_count": 9,
   "id": "53feb0f8",
   "metadata": {},
   "outputs": [],
   "source": [
    "Colts_Round_1_Chance=list(All_Playoffs[All_Playoffs[\"Team\"]==\"Colts\"][\"Round 1\"])[0][:-1]\n",
    "if Colts_Round_1_Chance=='<1':\n",
    "    Colts_Round_1_Chance=.001\n",
    "else:\n",
    "    Colts_Round_1_Chance=float(Colts_Round_1_Chance)/100\n",
    "Colts_Round_2_Chance=(list(All_Playoffs[All_Playoffs[\"Team\"]==\"Colts\"][\"Round 2\"])[0][:-1])\n",
    "if Colts_Round_2_Chance=='<1':\n",
    "    Colts_Round_2_Chance=.001\n",
    "else:\n",
    "    Colts_Round_2_Chance=float(Colts_Round_2_Chance)/100\n",
    "Colts_Conference_Championship_Chance=(list(All_Playoffs[All_Playoffs[\"Team\"]==\"Colts\"][\"Conference Championship\"])[0][:-1])\n",
    "if Colts_Conference_Championship_Chance=='<1':\n",
    "    Colts_Conference_Championship_Chance=.001\n",
    "else:\n",
    "    Colts_Conference_Championship_Chance=float(Colts_Conference_Championship_Chance)/100\n",
    "Colts_Super_Bowl_Chance=(list(All_Playoffs[All_Playoffs[\"Team\"]==\"Colts\"][\"Super Bowl\"])[0][:-1])\n",
    "if Colts_Super_Bowl_Chance=='<1':\n",
    "    Colts_Super_Bowl_Chance=.001\n",
    "else:\n",
    "    Colts_Super_Bowl_Chance=float(Colts_Super_Bowl_Chance)/100\n",
    "Colts_Super_Bowl_Winner_Chance=(list(All_Playoffs[All_Playoffs[\"Team\"]==\"Colts\"][\"Super Bowl Winner\"])[0][:-1])\n",
    "if Colts_Super_Bowl_Winner_Chance=='<1':\n",
    "    Colts_Super_Bowl_Winner_Chance=.001\n",
    "else:\n",
    "    Colts_Super_Bowl_Winner_Chance=float(Colts_Super_Bowl_Winner_Chance)/100"
   ]
  },
  {
   "cell_type": "markdown",
   "id": "f5a12ade",
   "metadata": {},
   "source": [
    "## Find Current Carson Wentz Snap Percentage"
   ]
  },
  {
   "cell_type": "code",
   "execution_count": 10,
   "id": "c907e5e1",
   "metadata": {},
   "outputs": [],
   "source": [
    "url=\"https://www.fantasypros.com/nfl/reports/snap-counts/qb.php?year=2021&show=perc&print=true\"\n",
    "\n",
    "#Create a handle, page, to handle the contents of the website\n",
    "page = requests.get(url)\n",
    "#Store the contents of the website under doc\n",
    "doc = lh.fromstring(page.content)\n",
    "tr_elements = doc.xpath('//tr')"
   ]
  },
  {
   "cell_type": "code",
   "execution_count": 11,
   "id": "fc9da4df",
   "metadata": {},
   "outputs": [],
   "source": [
    "col=[]\n",
    "i=0\n",
    "df=pd.DataFrame()\n",
    "Column_header=tr_elements[0]\n",
    "for t in Column_header:\n",
    "    i+=1\n",
    "    name=t.text_content()\n",
    "    #print(name)\n",
    "    col.append((name,[]))\n",
    "for j in range(1,len(tr_elements)):\n",
    "    #T is our j'th row\n",
    "    T=tr_elements[j]\n",
    "\n",
    "    #If row is not of size 10, the //tr data is not from our table \n",
    "    if len(T)!=len(Column_header):\n",
    "        break\n",
    "\n",
    "    #i is the index of our column\n",
    "    i=0\n",
    "\n",
    "    #Iterate through each element of the row\n",
    "    for t in T.iterchildren():\n",
    "        data=t.text_content() \n",
    "        #Check if row is empty\n",
    "        if i>0:\n",
    "        #Convert any numerical value to integers\n",
    "            try:\n",
    "                data=int(data)\n",
    "            except:\n",
    "                pass\n",
    "\n",
    "        #Append the data to the empty list of the i'th column\n",
    "        col[i][1].append(data)\n",
    "        #Increment i for the next column\n",
    "        i+=1\n",
    "\n",
    "Dict={title:column for (title,column) in col}\n",
    "df=df.append(pd.DataFrame(Dict)[1:])\n",
    "Current_Carson_Snap_Percentage=int(list(df[df[\"Player\"]==\"Carson Wentz \"][\"2\"])[0][:-1])#[-1:]"
   ]
  },
  {
   "cell_type": "markdown",
   "id": "ce5291c2",
   "metadata": {},
   "source": [
    "## List of Team Abbreviations"
   ]
  },
  {
   "cell_type": "code",
   "execution_count": 12,
   "id": "312d613b",
   "metadata": {},
   "outputs": [],
   "source": [
    "Teams_list=list(NFL_ELO.team1.unique())\n",
    "\n",
    "AFC_TEAMS=['TEN','BUF','CIN','IND','HOU','KC','NE','OAK','MIA','PIT','CLE','JAX','NYJ','LAC','BAL','DEN']\n"
   ]
  },
  {
   "cell_type": "markdown",
   "id": "a3f3d157",
   "metadata": {},
   "source": [
    "### Playoff adjusted for picks 19-32\n",
    "Adjusting for playoff odds is a little hard with what 538 gave me. Instead, I'm using \"http://www.playoffstatus.com/nfl/nflpostseasonprob.html\" which has the chances of Colts winning each theoretical playoff game"
   ]
  },
  {
   "cell_type": "code",
   "execution_count": 13,
   "id": "c6564e10",
   "metadata": {},
   "outputs": [],
   "source": [
    "Colts_Round2_chance_bayes_fix=Colts_Round_2_Chance/Colts_Round_1_Chance\n",
    "Colts_Conference_chance_bayes_fix=Colts_Conference_Championship_Chance/Colts_Round_2_Chance\n",
    "Colts_Super_Bowl_Chance_bayes_fix=Colts_Super_Bowl_Chance/Colts_Conference_Championship_Chance\n",
    "Colts_Super_Bowl_win_Chance_bayes_fix=Colts_Super_Bowl_Winner_Chance/Colts_Super_Bowl_Chance"
   ]
  },
  {
   "cell_type": "markdown",
   "id": "6ba2b024",
   "metadata": {},
   "source": [
    "## Actual Simulation Loop (Takes up to 15 minutes, sorry)"
   ]
  },
  {
   "cell_type": "code",
   "execution_count": 14,
   "id": "4bc2df9d",
   "metadata": {},
   "outputs": [
    {
     "name": "stderr",
     "output_type": "stream",
     "text": [
      "100%|█████████████████████████████████████| 10000/10000 [15:05<00:00, 11.04it/s]\n"
     ]
    }
   ],
   "source": [
    "Indiana_Only=NFL_ELO[(NFL_ELO[\"team1\"]==\"IND\")| (NFL_ELO[\"team2\"]==\"IND\")] # Get only indiana games\n",
    "\n",
    "# Random number between 0-1\n",
    "IND_COLTS_DRAFT_PICK=[]\n",
    "\n",
    "\n",
    "for sim in tqdm(range(Sims)): #100 sims\n",
    "    Season_Win_Totals=pd.DataFrame(index=Teams_list,columns=[\"Wins\",\"Losses\"]) #\n",
    "    Season_Win_Totals=Season_Win_Totals.fillna(0)\n",
    "    Second_Round_Adjuster=0\n",
    "    Percentage_of_Total_Snaps=0\n",
    "    Wins_First_Quarter=0\n",
    "    Wins_Midseason=0\n",
    "    Wins_Third_Quarter=0\n",
    "    Ind_Made_Playoffs=False\n",
    "    Out_of_Division=False\n",
    "    Out_of_Wildcard=False\n",
    "    Bench_Forever=False#Whether you've benched Carson Forever at this point\n",
    "    Game_Where_Indy_Fell_Out_of_Wildcard=None #Fill if Indy Falls out of WIldcard\n",
    "    Game_Where_Indy_Fell_Out_of_Division=None #Fill if Indy Falls out of Div\n",
    "    Game_Where_Indy_Fell_Out_of_Playoffs=None\n",
    "    Wins_of_Div_Winner=0\n",
    "    Wins_of_Last_WC=0\n",
    "    for index, row in NFL_ELO.iterrows():\n",
    "        \n",
    "        if math.isnan(row[\"score1\"]): # if games hasn't happened yet\n",
    "            Prob_of_team1_win=int(row[\"qbelo_prob1\"]*1000) #Out of 1000 chance\n",
    "\n",
    "            Win_Decision=int(random.uniform(0, 1)*1000) #Random number out of 100, do this for .1% chance of tie\n",
    "            if Prob_of_team1_win > Win_Decision:\n",
    "                row[\"score1\"] =1\n",
    "                row[\"score2\"] =0\n",
    "            elif Prob_of_team1_win == Win_Decision:\n",
    "                row[\"score1\"] =1\n",
    "                row[\"score2\"] =1\n",
    "            else:\n",
    "                row[\"score1\"] =0\n",
    "                row[\"score2\"] =1\n",
    "        if row[\"score1\"] > row[\"score2\"]: #Team 1 Wins\n",
    "            Season_Win_Totals.at[row[\"team1\"],\"Wins\"]+=1\n",
    "            Season_Win_Totals.at[row[\"team2\"],\"Losses\"]+=1\n",
    "        elif row[\"score1\"] == row[\"score2\"]: #Team 1 Wins\n",
    "            Season_Win_Totals.at[row[\"team1\"],\"Wins\"]+=.5\n",
    "            Season_Win_Totals.at[row[\"team2\"],\"Losses\"]+=.5\n",
    "        else:\n",
    "            Season_Win_Totals.at[row[\"team2\"],\"Wins\"]+=1\n",
    "            Season_Win_Totals.at[row[\"team1\"],\"Losses\"]+=1\n",
    "        #Each Part of Season Check\n",
    "        \n",
    "\n",
    "        #Carson Injury Counter\n",
    "        #https://www.draftsharks.com/injury-predictor\n",
    "        #Check in on Indy\n",
    "        if row[\"team1\"]==\"IND\" or row[\"team2\"]==\"IND\": #Current row is Indy\n",
    "            \n",
    "            #When should they start benching him forever:\n",
    "            #Greater than 5 games under ,500\n",
    "            Total_Indy_Games_So_Far=Season_Win_Totals.at[\"IND\",\"Losses\"] + Season_Win_Totals.at[\"IND\",\"Wins\"]\n",
    "            Total_IND_Wins=Season_Win_Totals.at[\"IND\",\"Wins\"]\n",
    "            Total_TEN_Wins=Season_Win_Totals.at[\"TEN\",\"Wins\"]\n",
    "            Total_JAX_Wins=Season_Win_Totals.at[\"JAX\",\"Wins\"]\n",
    "            Total_HOU_Wins=Season_Win_Totals.at[\"HOU\",\"Wins\"]\n",
    "            Indy_Games_Remaing=17-Total_Indy_Games_So_Far\n",
    "            #If you're totally out of the division, bench him forever\n",
    "            if (Indy_Games_Remaing<(Total_TEN_Wins-Total_IND_Wins)) or (Indy_Games_Remaing<(Total_JAX_Wins-Total_IND_Wins)) or(Indy_Games_Remaing<(Total_HOU_Wins-Total_IND_Wins)):\n",
    "                if Out_of_Division ==False:\n",
    "                        Game_Where_Indy_Fell_Out_of_Division=Total_Indy_Games_So_Far\n",
    "                        if Out_of_Wildcard==True and Out_of_Division==False: #Both out of division and wildcard\n",
    "                            Game_Where_Indy_Fell_Out_of_Playoffs=Total_Indy_Games_So_Far\n",
    "                Out_of_Division=True #Affect Wildcard Decision\n",
    "                if random.uniform(0, 1)> .3: #Made up Chance that they don't bench Carson despite lost season\n",
    "\n",
    "                    Bench_Forever=True\n",
    "            if (Season_Win_Totals.at[\"IND\",\"Losses\"] - Season_Win_Totals.at[\"IND\",\"Wins\"]) > 5: #Totally out of it, goes to second round\n",
    "                if random.uniform(0, 1)> .3 and Out_of_Wildcard: #Made up Chance that they don't bench Carson despite lost season\n",
    "                    Bench_Forever=True\n",
    "                    \n",
    "            #Check if out of Wildcard\n",
    "            Season_Win_Totals_temp = Season_Win_Totals.sample(frac=1)\n",
    "            AFC_RECORDS_temp=Season_Win_Totals_temp[Season_Win_Totals_temp.index.isin(AFC_TEAMS)]\n",
    "            AFC_RECORDS_temp = AFC_RECORDS_temp.sample(frac=1)\n",
    "            AFC_RECORDS_temp=AFC_RECORDS_temp.sort_values(by=\"Wins\").reset_index()\n",
    "            AFC_RECORDS_temp[\"AFC SEEDING\"]=AFC_RECORDS_temp.index+1\n",
    "            \n",
    "            #Check INdy position in AFC\n",
    "            IND_POS_IN_AFC=AFC_RECORDS_temp[AFC_RECORDS_temp[\"index\"]==\"IND\"]\n",
    "            if int(IND_POS_IN_AFC[\"AFC SEEDING\"])<=9:#Currently out of Wildcard \n",
    "                Second_Place_WC_Team=AFC_RECORDS_temp[AFC_RECORDS_temp[\"AFC SEEDING\"]==10] #Find 2nd Wildcard Team\n",
    "                Second_Place_WC_Team_Wins=float(Second_Place_WC_Team[\"Wins\"])\n",
    "                Second_Place_WC_Team_Name=list(Second_Place_WC_Team[\"index\"])[0]\n",
    "                if Indy_Games_Remaing<(Second_Place_WC_Team_Wins-Total_IND_Wins): #Can't catch up to Second Place WC\n",
    "                    if Out_of_Wildcard ==False:\n",
    "                        Game_Where_Indy_Fell_Out_of_Wildcard=Total_Indy_Games_So_Far\n",
    "                        if Out_of_Wildcard==False and Out_of_Division==True: #Both out of division and wildcard\n",
    "                            Game_Where_Indy_Fell_Out_of_Playoffs=Total_Indy_Games_So_Far\n",
    "                    Out_of_Wildcard=True\n",
    "                    \n",
    "                    #print(Second_Place_WC_Team_Name + \" has \"+str(Second_Place_WC_Team_Wins)+ \" wins with \"+str(Indy_Games_Remaing)+ \" games remaining while Indy has\"+ str(Total_IND_Wins))\n",
    "                    if random.uniform(0, 1)> .3 and Out_of_Division==True: #Made up Chance that they don't bench Carson despite lost season\n",
    "                        \n",
    "                        Bench_Forever=True                \n",
    "\n",
    "            #How much less they'll use Carson\n",
    "            if (Season_Win_Totals.at[\"IND\",\"Losses\"] - Season_Win_Totals.at[\"IND\",\"Wins\"]) >1: #If they are down 2+ losses, they'll use Carson Less\n",
    "                Losses_minus_wins=Season_Win_Totals.at[\"IND\",\"Losses\"] - Season_Win_Totals.at[\"IND\",\"Wins\"] #Carson Struggling, bring prob down\n",
    "            else:\n",
    "                Losses_minus_wins=1 #Otherwise play normal\n",
    "                \n",
    "                \n",
    "            if (Season_Win_Totals.at[\"IND\",\"Losses\"] + Season_Win_Totals.at[\"IND\",\"Wins\"])==4:\n",
    "                \n",
    "                Wins_First_Quarter= int(Season_Win_Totals.at[\"IND\",\"Wins\"])\n",
    "            if (Season_Win_Totals.at[\"IND\",\"Losses\"] + Season_Win_Totals.at[\"IND\",\"Wins\"])==8:\n",
    "                Wins_Midseason= int(Season_Win_Totals.at[\"IND\",\"Wins\"])\n",
    "            if (Season_Win_Totals.at[\"IND\",\"Losses\"] + Season_Win_Totals.at[\"IND\",\"Wins\"])==12:\n",
    "                Wins_Third_Quarter= int(Season_Win_Totals.at[\"IND\",\"Wins\"])\n",
    "            try: #If there is info present on his snap percentage\n",
    "                Current_Carson_Snap_Percentage=int(list(df[df[\"Player\"]==\"Carson Wentz \"][str(Season_Win_Totals.at[\"IND\",\"Losses\"] + Season_Win_Totals.at[\"IND\",\"Wins\"])])[0][:-1])#[-1:]\n",
    "                Percentage_of_Total_Snaps+=Current_Carson_Snap_Percentage/100\n",
    "            except: #If there is no info on his snap percentage\n",
    "                if Bench_Forever==True: #He's not getting back in the game because the coach decided the season was over\n",
    "                    Percentage_of_Total_Snaps+=0 #No more Snaps for Carson\n",
    "                else:\n",
    "                    if random.uniform(0, 1)<Carson_Injury_Risk: #How much he plays in that game\n",
    "                        Percentage_of_Total_Snaps+=random.uniform(0, 1)#Misses a random amount of game due do injury\n",
    "                    else:\n",
    "                        if Losses_minus_wins ==1: #If he has more wins than losses, or is .500\n",
    "                            Percentage_of_Total_Snaps+=1\n",
    "                        else:\n",
    "                            Percentage_of_Total_Snaps+=.98**(Losses_minus_wins) #Each loss greater than win bring Carsons Playing down\n",
    "\n",
    "        \n",
    "    #AFC ONLY\n",
    "    Season_Win_Totals = Season_Win_Totals.sample(frac=1)\n",
    "    AFC_RECORDS=Season_Win_Totals[Season_Win_Totals.index.isin(AFC_TEAMS)]\n",
    "    AFC_RECORDS = AFC_RECORDS.sample(frac=1)\n",
    "    AFC_RECORDS=AFC_RECORDS.sort_values(by=\"Wins\").reset_index()\n",
    "    AFC_RECORDS[\"AFC SEEDING\"]=AFC_RECORDS.index+1\n",
    "    IND_AFC_PLACEMENT=int(list(AFC_RECORDS[AFC_RECORDS[\"index\"]==\"IND\"][\"AFC SEEDING\"])[0])\n",
    "    #TOTAL NFL\n",
    "    \n",
    "    #NFC ONLY\n",
    "    Season_Win_Totals = Season_Win_Totals.sample(frac=1)\n",
    "    NFC_RECORDS=Season_Win_Totals[~Season_Win_Totals.index.isin(AFC_TEAMS)]\n",
    "    NFC_RECORDS = NFC_RECORDS.sample(frac=1)\n",
    "    NFC_RECORDS=NFC_RECORDS.sort_values(by=\"Wins\").reset_index()\n",
    "    NFC_RECORDS[\"AFC SEEDING\"]=NFC_RECORDS.index+1    \n",
    "    Season_Win_Totals=Season_Win_Totals.sort_values(by=\"Wins\").reset_index()\n",
    "    \n",
    "\n",
    "    \n",
    "\n",
    "    #Get Draft Pick from overall NFL order\n",
    "    \n",
    "    #Get INdys placement in AFC\n",
    "    \n",
    "    #Wins for each AFC SOUTH team\n",
    "    IND_wins=float(Season_Win_Totals[Season_Win_Totals[\"index\"]==\"IND\"][\"Wins\"])\n",
    "    HOU_wins=float(Season_Win_Totals[Season_Win_Totals[\"index\"]==\"HOU\"][\"Wins\"])\n",
    "    JAX_wins=float(Season_Win_Totals[Season_Win_Totals[\"index\"]==\"JAX\"][\"Wins\"])\n",
    "    TEN_wins=float(Season_Win_Totals[Season_Win_Totals[\"index\"]==\"TEN\"][\"Wins\"])\n",
    "    \n",
    "    #Division Winner Wins\n",
    "    Wins_of_Div_Winner=max([IND_wins,HOU_wins,JAX_wins,TEN_wins])\n",
    "    Wins_of_Last_WC=float(AFC_RECORDS[AFC_RECORDS[\"AFC SEEDING\"]==10][\"Wins\"])\n",
    "    \n",
    "    ##Playoff Seeding\n",
    "    if (IND_AFC_PLACEMENT>9) or ((IND_wins>HOU_wins)and(IND_wins>JAX_wins)and(IND_wins>TEN_wins)): #Makes Playoffs\n",
    "        Ind_Made_Playoffs= True\n",
    "\n",
    "        if random.uniform(0, 1)>Colts_Round2_chance_bayes_fix:  #Colts lose in First Round in Random Sim\n",
    "            Draft_Pick=19 + int(random.uniform(0, 1)*6)\n",
    "            Playoff_Result = \"First Round Exit\"\n",
    "        else:\n",
    "                if random.uniform(0, 1)>Colts_Conference_chance_bayes_fix:\n",
    "                    Draft_Pick=25 + int(random.uniform(0, 1)*4)\n",
    "                    Playoff_Result = \"Second Round Exit\"\n",
    "                else:\n",
    "                    if random.uniform(0, 1)>Colts_Super_Bowl_Chance_bayes_fix:\n",
    "                        Draft_Pick=29 + int(random.uniform(0, 1)*2) #It's actually a combination of their regular season record\n",
    "                        Playoff_Result = \"Conference Final Exit\"\n",
    "                    else:\n",
    "                        if random.uniform(0, 1)>Colts_Super_Bowl_win_Chance_bayes_fix:\n",
    "                            Draft_Pick=31\n",
    "                            Playoff_Result = \"Super Bowl Exit\"\n",
    "                        else:\n",
    "                            Draft_Pick=32\n",
    "                            Playoff_Result = \"Super Bowl Win\"\n",
    "            \n",
    "    else:\n",
    "        Playoff_Result = \"Missed Playoffs\"\n",
    "        AFC_PLAYOFF_TEAMS=list(AFC_RECORDS[AFC_RECORDS[\"AFC SEEDING\"]>9][\"index\"].values)\n",
    "        NFC_PLAYOFF_TEAMS=list(NFC_RECORDS[NFC_RECORDS[\"AFC SEEDING\"]>9][\"index\"].values)\n",
    "        All_Playoff_Teams=AFC_PLAYOFF_TEAMS+NFC_PLAYOFF_TEAMS\n",
    "        Season_Win_Totals=Season_Win_Totals[~Season_Win_Totals[\"index\"].isin(All_Playoff_Teams)]\n",
    "        Season_Win_Totals=Season_Win_Totals.sort_values(by=\"Wins\").reset_index()\n",
    "        Season_Win_Totals[\"Draft Pick Interpolated\"]=Season_Win_Totals.index+1\n",
    "        Draft_Pick=int(Season_Win_Totals[Season_Win_Totals[\"index\"]==\"IND\"][\"Draft Pick Interpolated\"])\n",
    "    \n",
    "    if (Percentage_of_Total_Snaps/17)<.7 and Ind_Made_Playoffs== True: #Makes playoffs but <70% snaps\n",
    "        Second_Round_Adjuster=1 #Carson didn't play enough and they missed the playoffs\n",
    "    elif (Percentage_of_Total_Snaps/17)<.75:#Percentage of Total Snaps\n",
    "        Second_Round_Adjuster=1       \n",
    "    IND_COLTS_DRAFT_PICK.append([Draft_Pick+(32*Second_Round_Adjuster),IND_wins,Wins_First_Quarter,Wins_Midseason,Wins_Third_Quarter,Percentage_of_Total_Snaps\n",
    "                                 ,Ind_Made_Playoffs,Playoff_Result,Game_Where_Indy_Fell_Out_of_Playoffs,Bench_Forever,Out_of_Division,Game_Where_Indy_Fell_Out_of_Division,Wins_of_Div_Winner,\n",
    "                                 Out_of_Wildcard,Game_Where_Indy_Fell_Out_of_Wildcard,Wins_of_Last_WC])"
   ]
  },
  {
   "cell_type": "markdown",
   "id": "1148c539",
   "metadata": {},
   "source": [
    "## Compile DataFrame of Simulations"
   ]
  },
  {
   "cell_type": "code",
   "execution_count": 45,
   "id": "0027ec62",
   "metadata": {},
   "outputs": [],
   "source": [
    "IND_WINS=pd.DataFrame(IND_COLTS_DRAFT_PICK,columns=['Final Pick','Total Projected Indy Wins','First Quarter Wins','Second Quarter Wins','Third Quarter Wins',\"Games Played By Carson (17 Max)\",\"Colts Made Playoffs\"\n",
    "                                                    ,\"Playoff_Result\",\"Game_Where_Indy_Fell_Out_of_Playoffs\",\"Carson Benched On Purpose\",\"Out_of_Division\",\n",
    "                                                    \"Game_Where_Indy_Fell_Out_of_Division\",\"Wins_of_Div_Winner\",\"Out_of_Wildcard\",\n",
    "                                                   \"Game_Where_Indy_Fell_Out_of_Wildcard\",\"Wins_of_Last_WC\"])"
   ]
  },
  {
   "cell_type": "code",
   "execution_count": 69,
   "id": "cead942d",
   "metadata": {},
   "outputs": [],
   "source": [
    "if open_previous_csv==True:\n",
    "    IND_WINS=pd.read_csv(\"Latest_Simulation_Dataframe.csv\")"
   ]
  },
  {
   "cell_type": "markdown",
   "id": "b2bf5af3",
   "metadata": {},
   "source": [
    "## Take a look at Simulation Dataframe, each row is an outcome"
   ]
  },
  {
   "cell_type": "code",
   "execution_count": 70,
   "id": "668beac1",
   "metadata": {},
   "outputs": [
    {
     "data": {
      "text/html": [
       "<div>\n",
       "<style scoped>\n",
       "    .dataframe tbody tr th:only-of-type {\n",
       "        vertical-align: middle;\n",
       "    }\n",
       "\n",
       "    .dataframe tbody tr th {\n",
       "        vertical-align: top;\n",
       "    }\n",
       "\n",
       "    .dataframe thead th {\n",
       "        text-align: right;\n",
       "    }\n",
       "</style>\n",
       "<table border=\"1\" class=\"dataframe\">\n",
       "  <thead>\n",
       "    <tr style=\"text-align: right;\">\n",
       "      <th></th>\n",
       "      <th>Unnamed: 0</th>\n",
       "      <th>Final Pick</th>\n",
       "      <th>Total Projected Indy Wins</th>\n",
       "      <th>First Quarter Wins</th>\n",
       "      <th>Second Quarter Wins</th>\n",
       "      <th>Third Quarter Wins</th>\n",
       "      <th>Games Played By Carson (17 Max)</th>\n",
       "      <th>Colts Made Playoffs</th>\n",
       "      <th>Playoff_Result</th>\n",
       "      <th>Game_Where_Indy_Fell_Out_of_Playoffs</th>\n",
       "      <th>Carson Benched On Purpose</th>\n",
       "      <th>Out_of_Division</th>\n",
       "      <th>Game_Where_Indy_Fell_Out_of_Division</th>\n",
       "      <th>Wins_of_Div_Winner</th>\n",
       "      <th>Out_of_Wildcard</th>\n",
       "      <th>Game_Where_Indy_Fell_Out_of_Wildcard</th>\n",
       "      <th>Wins_of_Last_WC</th>\n",
       "      <th>Carson Final Snap %</th>\n",
       "      <th>Percentage of Total Occurances (%)</th>\n",
       "    </tr>\n",
       "  </thead>\n",
       "  <tbody>\n",
       "    <tr>\n",
       "      <th>0</th>\n",
       "      <td>0</td>\n",
       "      <td>13</td>\n",
       "      <td>8.0</td>\n",
       "      <td>1</td>\n",
       "      <td>2</td>\n",
       "      <td>5</td>\n",
       "      <td>16.360328</td>\n",
       "      <td>False</td>\n",
       "      <td>Missed Playoffs</td>\n",
       "      <td>NaN</td>\n",
       "      <td>False</td>\n",
       "      <td>False</td>\n",
       "      <td>NaN</td>\n",
       "      <td>8.0</td>\n",
       "      <td>True</td>\n",
       "      <td>17.0</td>\n",
       "      <td>10.0</td>\n",
       "      <td>0.962372</td>\n",
       "      <td>0.01</td>\n",
       "    </tr>\n",
       "    <tr>\n",
       "      <th>1</th>\n",
       "      <td>1</td>\n",
       "      <td>24</td>\n",
       "      <td>10.0</td>\n",
       "      <td>1</td>\n",
       "      <td>4</td>\n",
       "      <td>7</td>\n",
       "      <td>16.831592</td>\n",
       "      <td>True</td>\n",
       "      <td>First Round Exit</td>\n",
       "      <td>NaN</td>\n",
       "      <td>False</td>\n",
       "      <td>False</td>\n",
       "      <td>NaN</td>\n",
       "      <td>10.0</td>\n",
       "      <td>False</td>\n",
       "      <td>NaN</td>\n",
       "      <td>10.0</td>\n",
       "      <td>0.990094</td>\n",
       "      <td>0.01</td>\n",
       "    </tr>\n",
       "    <tr>\n",
       "      <th>2</th>\n",
       "      <td>2</td>\n",
       "      <td>27</td>\n",
       "      <td>9.0</td>\n",
       "      <td>1</td>\n",
       "      <td>3</td>\n",
       "      <td>5</td>\n",
       "      <td>14.381250</td>\n",
       "      <td>True</td>\n",
       "      <td>Second Round Exit</td>\n",
       "      <td>NaN</td>\n",
       "      <td>True</td>\n",
       "      <td>True</td>\n",
       "      <td>17.0</td>\n",
       "      <td>11.0</td>\n",
       "      <td>False</td>\n",
       "      <td>NaN</td>\n",
       "      <td>9.0</td>\n",
       "      <td>0.845956</td>\n",
       "      <td>0.01</td>\n",
       "    </tr>\n",
       "    <tr>\n",
       "      <th>3</th>\n",
       "      <td>3</td>\n",
       "      <td>38</td>\n",
       "      <td>6.0</td>\n",
       "      <td>1</td>\n",
       "      <td>4</td>\n",
       "      <td>5</td>\n",
       "      <td>11.620453</td>\n",
       "      <td>False</td>\n",
       "      <td>Missed Playoffs</td>\n",
       "      <td>15.0</td>\n",
       "      <td>True</td>\n",
       "      <td>True</td>\n",
       "      <td>15.0</td>\n",
       "      <td>11.0</td>\n",
       "      <td>True</td>\n",
       "      <td>15.0</td>\n",
       "      <td>10.0</td>\n",
       "      <td>0.683556</td>\n",
       "      <td>0.01</td>\n",
       "    </tr>\n",
       "    <tr>\n",
       "      <th>4</th>\n",
       "      <td>4</td>\n",
       "      <td>16</td>\n",
       "      <td>8.0</td>\n",
       "      <td>1</td>\n",
       "      <td>3</td>\n",
       "      <td>5</td>\n",
       "      <td>13.343097</td>\n",
       "      <td>False</td>\n",
       "      <td>Missed Playoffs</td>\n",
       "      <td>16.0</td>\n",
       "      <td>True</td>\n",
       "      <td>True</td>\n",
       "      <td>15.0</td>\n",
       "      <td>10.0</td>\n",
       "      <td>True</td>\n",
       "      <td>16.0</td>\n",
       "      <td>9.0</td>\n",
       "      <td>0.784888</td>\n",
       "      <td>0.01</td>\n",
       "    </tr>\n",
       "  </tbody>\n",
       "</table>\n",
       "</div>"
      ],
      "text/plain": [
       "   Unnamed: 0  Final Pick  Total Projected Indy Wins  First Quarter Wins  \\\n",
       "0           0          13                        8.0                   1   \n",
       "1           1          24                       10.0                   1   \n",
       "2           2          27                        9.0                   1   \n",
       "3           3          38                        6.0                   1   \n",
       "4           4          16                        8.0                   1   \n",
       "\n",
       "   Second Quarter Wins  Third Quarter Wins  Games Played By Carson (17 Max)  \\\n",
       "0                    2                   5                        16.360328   \n",
       "1                    4                   7                        16.831592   \n",
       "2                    3                   5                        14.381250   \n",
       "3                    4                   5                        11.620453   \n",
       "4                    3                   5                        13.343097   \n",
       "\n",
       "   Colts Made Playoffs     Playoff_Result  \\\n",
       "0                False    Missed Playoffs   \n",
       "1                 True   First Round Exit   \n",
       "2                 True  Second Round Exit   \n",
       "3                False    Missed Playoffs   \n",
       "4                False    Missed Playoffs   \n",
       "\n",
       "   Game_Where_Indy_Fell_Out_of_Playoffs  Carson Benched On Purpose  \\\n",
       "0                                   NaN                      False   \n",
       "1                                   NaN                      False   \n",
       "2                                   NaN                       True   \n",
       "3                                  15.0                       True   \n",
       "4                                  16.0                       True   \n",
       "\n",
       "   Out_of_Division  Game_Where_Indy_Fell_Out_of_Division  Wins_of_Div_Winner  \\\n",
       "0            False                                   NaN                 8.0   \n",
       "1            False                                   NaN                10.0   \n",
       "2             True                                  17.0                11.0   \n",
       "3             True                                  15.0                11.0   \n",
       "4             True                                  15.0                10.0   \n",
       "\n",
       "   Out_of_Wildcard  Game_Where_Indy_Fell_Out_of_Wildcard  Wins_of_Last_WC  \\\n",
       "0             True                                  17.0             10.0   \n",
       "1            False                                   NaN             10.0   \n",
       "2            False                                   NaN              9.0   \n",
       "3             True                                  15.0             10.0   \n",
       "4             True                                  16.0              9.0   \n",
       "\n",
       "   Carson Final Snap %  Percentage of Total Occurances (%)  \n",
       "0             0.962372                                0.01  \n",
       "1             0.990094                                0.01  \n",
       "2             0.845956                                0.01  \n",
       "3             0.683556                                0.01  \n",
       "4             0.784888                                0.01  "
      ]
     },
     "execution_count": 70,
     "metadata": {},
     "output_type": "execute_result"
    }
   ],
   "source": [
    "IND_WINS.head(5)"
   ]
  },
  {
   "cell_type": "markdown",
   "id": "525bfac1",
   "metadata": {},
   "source": [
    "## Average Snap Percentage by Carson"
   ]
  },
  {
   "cell_type": "code",
   "execution_count": 71,
   "id": "f3de640f",
   "metadata": {},
   "outputs": [],
   "source": [
    "IND_WINS[\"Carson Final Snap %\"]=IND_WINS[\"Games Played By Carson (17 Max)\"]/17"
   ]
  },
  {
   "cell_type": "code",
   "execution_count": 72,
   "id": "725c648d",
   "metadata": {},
   "outputs": [
    {
     "name": "stdout",
     "output_type": "stream",
     "text": [
      "Carson's Average Final Expected Overall Snap Percentage is 86.572%\n"
     ]
    }
   ],
   "source": [
    "print(\"Carson's Average Final Expected Overall Snap Percentage is {}%\".format(str(round(IND_WINS[\"Carson Final Snap %\"].mean()*100,3))))"
   ]
  },
  {
   "cell_type": "markdown",
   "id": "18567d8e",
   "metadata": {},
   "source": [
    "# Average Draft Pick Colts"
   ]
  },
  {
   "cell_type": "code",
   "execution_count": 73,
   "id": "8fb9c502",
   "metadata": {},
   "outputs": [
    {
     "name": "stdout",
     "output_type": "stream",
     "text": [
      "The Average Compensation Pick From Colts to the Eagles is Pick #20.1011\n"
     ]
    }
   ],
   "source": [
    "IND_COLTS_DRAFT_PICK=IND_WINS['Final Pick']\n",
    "print(\"The Average Compensation Pick From Colts to the Eagles is Pick #{}\".format(str(sum(IND_WINS['Final Pick'])/len(IND_WINS['Final Pick']))))"
   ]
  },
  {
   "cell_type": "markdown",
   "id": "c326fab9",
   "metadata": {},
   "source": [
    "## Highest Occuring Draft Pick"
   ]
  },
  {
   "cell_type": "code",
   "execution_count": 74,
   "id": "4dd05306",
   "metadata": {},
   "outputs": [
    {
     "name": "stdout",
     "output_type": "stream",
     "text": [
      "The Most Likely Compensation Pick From Colts to the Eagles is Pick #14\n"
     ]
    }
   ],
   "source": [
    "IND_COLTS_DRAFT_PICK=IND_WINS['Final Pick']\n",
    "print(\"The Most Likely Compensation Pick From Colts to the Eagles is Pick #{}\".format(str(list(IND_WINS['Final Pick'].mode())[0])))"
   ]
  },
  {
   "cell_type": "markdown",
   "id": "21ccdad4",
   "metadata": {},
   "source": [
    "## Histogram of All Draft Picks"
   ]
  },
  {
   "cell_type": "code",
   "execution_count": 75,
   "id": "8c67c65c",
   "metadata": {},
   "outputs": [
    {
     "data": {
      "image/png": "[encoded data removed]",
      "text/plain": [
       "<Figure size 640x480 with 1 Axes>"
      ]
     },
     "metadata": {
      "needs_background": "light"
     },
     "output_type": "display_data"
    }
   ],
   "source": [
    "\n",
    "data = list(IND_WINS['Final Pick'])\n",
    "\n",
    "# fixed bin size\n",
    "bins = np.arange(-100, 100, 1) # fixed bin size\n",
    "from matplotlib.pyplot import figure\n",
    "\n",
    "figure(figsize=(8, 6), dpi=80)\n",
    "\n",
    "plt.xlim(0, 64)\n",
    "\n",
    "plt.hist(data, bins=bins, alpha=0.5,weights=np.ones(len(data)) / len(data))\n",
    "plt.title('Carson Wentz Trade Comp. Pick over {} simulations'.format(str(Sims)))\n",
    "plt.xlabel('Final Projected Compensation Pick'.format(str(Sims)))\n",
    "plt.ylabel('Percentage of Total Outcomes')\n",
    "plt.savefig('Latest_Full_PDF_of_Wentz_Trade_Comp_Pick.jpg')\n",
    "plt.show()"
   ]
  },
  {
   "cell_type": "markdown",
   "id": "4c6ea2a6",
   "metadata": {},
   "source": [
    "## CDF of Draft Picks"
   ]
  },
  {
   "cell_type": "code",
   "execution_count": 76,
   "id": "46026556",
   "metadata": {},
   "outputs": [],
   "source": [
    "Eagles_First_Round_DP_list=[]\n",
    "for j in range(0,66):\n",
    "    Eagles_First_Round_DP_list.append([j,float(str(sum(i < j for i in IND_COLTS_DRAFT_PICK)/len(IND_COLTS_DRAFT_PICK)*100)[:5])])"
   ]
  },
  {
   "cell_type": "code",
   "execution_count": 77,
   "id": "cf21b76d",
   "metadata": {},
   "outputs": [
    {
     "data": {
      "text/html": [
       "<div>                            <div id=\"6541d179-e88c-43ee-bc28-8a446c7eea2c\" class=\"plotly-graph-div\" style=\"height:525px; width:100%;\"></div>            <script type=\"text/javascript\">                require([\"plotly\"], function(Plotly) {                    window.PLOTLYENV=window.PLOTLYENV || {};                                    if (document.getElementById(\"6541d179-e88c-43ee-bc28-8a446c7eea2c\")) {                    Plotly.newPlot(                        \"6541d179-e88c-43ee-bc28-8a446c7eea2c\",                        [{\"alignmentgroup\": \"True\", \"hovertemplate\": \"Final Pick=%{marker.color}<br>Chance of Pick Higher Than This=%{y}<extra></extra>\", \"legendgroup\": \"\", \"marker\": {\"color\": [0, 1, 2, 3, 4, 5, 6, 7, 8, 9, 10, 11, 12, 13, 14, 15, 16, 17, 18, 19, 20, 21, 22, 23, 24, 25, 26, 27, 28, 29, 30, 31, 32, 33, 34, 35, 36, 37, 38, 39, 40, 41, 42, 43, 44, 45, 46, 47, 48, 49, 50, 51, 52, 53, 54, 55, 56, 57, 58, 59, 60, 61, 62, 63, 64, 65], \"coloraxis\": \"coloraxis\"}, \"name\": \"\", \"offsetgroup\": \"\", \"orientation\": \"v\", \"showlegend\": false, \"textposition\": \"auto\", \"type\": \"bar\", \"x\": [0, 1, 2, 3, 4, 5, 6, 7, 8, 9, 10, 11, 12, 13, 14, 15, 16, 17, 18, 19, 20, 21, 22, 23, 24, 25, 26, 27, 28, 29, 30, 31, 32, 33, 34, 35, 36, 37, 38, 39, 40, 41, 42, 43, 44, 45, 46, 47, 48, 49, 50, 51, 52, 53, 54, 55, 56, 57, 58, 59, 60, 61, 62, 63, 64, 65], \"xaxis\": \"x\", \"y\": [0.0, 0.0, 0.02, 0.18, 0.6, 1.5, 2.62, 4.25, 6.58, 9.969, 13.63, 17.7, 22.59, 27.54, 32.45, 37.46, 42.07, 46.28, 50.13, 53.16, 56.15, 59.33, 62.35, 65.31, 68.44, 71.35, 73.61, 76.07, 78.33, 80.63, 82.44, 84.17, 85.45, 85.52, 85.72, 86.13, 86.76, 87.81, 89.09, 90.47, 91.85, 93.43, 94.84, 95.89, 96.94, 97.74, 98.52, 98.97, 99.36, 99.62, 99.82, 99.87, 99.87, 99.88, 99.89, 99.9, 99.91, 99.92, 99.92, 99.95, 99.96, 99.97, 99.98, 99.98, 100.0, 100.0], \"yaxis\": \"y\"}],                        {\"barmode\": \"relative\", \"coloraxis\": {\"colorbar\": {\"title\": {\"text\": \"Final Pick\"}}, \"colorscale\": [[0.0, \"#0d0887\"], [0.1111111111111111, \"#46039f\"], [0.2222222222222222, \"#7201a8\"], [0.3333333333333333, \"#9c179e\"], [0.4444444444444444, \"#bd3786\"], [0.5555555555555556, \"#d8576b\"], [0.6666666666666666, \"#ed7953\"], [0.7777777777777778, \"#fb9f3a\"], [0.8888888888888888, \"#fdca26\"], [1.0, \"#f0f921\"]]}, \"legend\": {\"tracegroupgap\": 0}, \"margin\": {\"b\": 80, \"l\": 80, \"r\": 80, \"t\": 100}, \"paper_bgcolor\": \"LightSteelBlue\", \"template\": {\"data\": {\"bar\": [{\"error_x\": {\"color\": \"#2a3f5f\"}, \"error_y\": {\"color\": \"#2a3f5f\"}, \"marker\": {\"line\": {\"color\": \"#E5ECF6\", \"width\": 0.5}}, \"type\": \"bar\"}], \"barpolar\": [{\"marker\": {\"line\": {\"color\": \"#E5ECF6\", \"width\": 0.5}}, \"type\": \"barpolar\"}], \"carpet\": [{\"aaxis\": {\"endlinecolor\": \"#2a3f5f\", \"gridcolor\": \"white\", \"linecolor\": \"white\", \"minorgridcolor\": \"white\", \"startlinecolor\": \"#2a3f5f\"}, \"baxis\": {\"endlinecolor\": \"#2a3f5f\", \"gridcolor\": \"white\", \"linecolor\": \"white\", \"minorgridcolor\": \"white\", \"startlinecolor\": \"#2a3f5f\"}, \"type\": \"carpet\"}], \"choropleth\": [{\"colorbar\": {\"outlinewidth\": 0, \"ticks\": \"\"}, \"type\": \"choropleth\"}], \"contour\": [{\"colorbar\": {\"outlinewidth\": 0, \"ticks\": \"\"}, \"colorscale\": [[0.0, \"#0d0887\"], [0.1111111111111111, \"#46039f\"], [0.2222222222222222, \"#7201a8\"], [0.3333333333333333, \"#9c179e\"], [0.4444444444444444, \"#bd3786\"], [0.5555555555555556, \"#d8576b\"], [0.6666666666666666, \"#ed7953\"], [0.7777777777777778, \"#fb9f3a\"], [0.8888888888888888, \"#fdca26\"], [1.0, \"#f0f921\"]], \"type\": \"contour\"}], \"contourcarpet\": [{\"colorbar\": {\"outlinewidth\": 0, \"ticks\": \"\"}, \"type\": \"contourcarpet\"}], \"heatmap\": [{\"colorbar\": {\"outlinewidth\": 0, \"ticks\": \"\"}, \"colorscale\": [[0.0, \"#0d0887\"], [0.1111111111111111, \"#46039f\"], [0.2222222222222222, \"#7201a8\"], [0.3333333333333333, \"#9c179e\"], [0.4444444444444444, \"#bd3786\"], [0.5555555555555556, \"#d8576b\"], [0.6666666666666666, \"#ed7953\"], [0.7777777777777778, \"#fb9f3a\"], [0.8888888888888888, \"#fdca26\"], [1.0, \"#f0f921\"]], \"type\": \"heatmap\"}], \"heatmapgl\": [{\"colorbar\": {\"outlinewidth\": 0, \"ticks\": \"\"}, \"colorscale\": [[0.0, \"#0d0887\"], [0.1111111111111111, \"#46039f\"], [0.2222222222222222, \"#7201a8\"], [0.3333333333333333, \"#9c179e\"], [0.4444444444444444, \"#bd3786\"], [0.5555555555555556, \"#d8576b\"], [0.6666666666666666, \"#ed7953\"], [0.7777777777777778, \"#fb9f3a\"], [0.8888888888888888, \"#fdca26\"], [1.0, \"#f0f921\"]], \"type\": \"heatmapgl\"}], \"histogram\": [{\"marker\": {\"colorbar\": {\"outlinewidth\": 0, \"ticks\": \"\"}}, \"type\": \"histogram\"}], \"histogram2d\": [{\"colorbar\": {\"outlinewidth\": 0, \"ticks\": \"\"}, \"colorscale\": [[0.0, \"#0d0887\"], [0.1111111111111111, \"#46039f\"], [0.2222222222222222, \"#7201a8\"], [0.3333333333333333, \"#9c179e\"], [0.4444444444444444, \"#bd3786\"], [0.5555555555555556, \"#d8576b\"], [0.6666666666666666, \"#ed7953\"], [0.7777777777777778, \"#fb9f3a\"], [0.8888888888888888, \"#fdca26\"], [1.0, \"#f0f921\"]], \"type\": \"histogram2d\"}], \"histogram2dcontour\": [{\"colorbar\": {\"outlinewidth\": 0, \"ticks\": \"\"}, \"colorscale\": [[0.0, \"#0d0887\"], [0.1111111111111111, \"#46039f\"], [0.2222222222222222, \"#7201a8\"], [0.3333333333333333, \"#9c179e\"], [0.4444444444444444, \"#bd3786\"], [0.5555555555555556, \"#d8576b\"], [0.6666666666666666, \"#ed7953\"], [0.7777777777777778, \"#fb9f3a\"], [0.8888888888888888, \"#fdca26\"], [1.0, \"#f0f921\"]], \"type\": \"histogram2dcontour\"}], \"mesh3d\": [{\"colorbar\": {\"outlinewidth\": 0, \"ticks\": \"\"}, \"type\": \"mesh3d\"}], \"parcoords\": [{\"line\": {\"colorbar\": {\"outlinewidth\": 0, \"ticks\": \"\"}}, \"type\": \"parcoords\"}], \"pie\": [{\"automargin\": true, \"type\": \"pie\"}], \"scatter\": [{\"marker\": {\"colorbar\": {\"outlinewidth\": 0, \"ticks\": \"\"}}, \"type\": \"scatter\"}], \"scatter3d\": [{\"line\": {\"colorbar\": {\"outlinewidth\": 0, \"ticks\": \"\"}}, \"marker\": {\"colorbar\": {\"outlinewidth\": 0, \"ticks\": \"\"}}, \"type\": \"scatter3d\"}], \"scattercarpet\": [{\"marker\": {\"colorbar\": {\"outlinewidth\": 0, \"ticks\": \"\"}}, \"type\": \"scattercarpet\"}], \"scattergeo\": [{\"marker\": {\"colorbar\": {\"outlinewidth\": 0, \"ticks\": \"\"}}, \"type\": \"scattergeo\"}], \"scattergl\": [{\"marker\": {\"colorbar\": {\"outlinewidth\": 0, \"ticks\": \"\"}}, \"type\": \"scattergl\"}], \"scattermapbox\": [{\"marker\": {\"colorbar\": {\"outlinewidth\": 0, \"ticks\": \"\"}}, \"type\": \"scattermapbox\"}], \"scatterpolar\": [{\"marker\": {\"colorbar\": {\"outlinewidth\": 0, \"ticks\": \"\"}}, \"type\": \"scatterpolar\"}], \"scatterpolargl\": [{\"marker\": {\"colorbar\": {\"outlinewidth\": 0, \"ticks\": \"\"}}, \"type\": \"scatterpolargl\"}], \"scatterternary\": [{\"marker\": {\"colorbar\": {\"outlinewidth\": 0, \"ticks\": \"\"}}, \"type\": \"scatterternary\"}], \"surface\": [{\"colorbar\": {\"outlinewidth\": 0, \"ticks\": \"\"}, \"colorscale\": [[0.0, \"#0d0887\"], [0.1111111111111111, \"#46039f\"], [0.2222222222222222, \"#7201a8\"], [0.3333333333333333, \"#9c179e\"], [0.4444444444444444, \"#bd3786\"], [0.5555555555555556, \"#d8576b\"], [0.6666666666666666, \"#ed7953\"], [0.7777777777777778, \"#fb9f3a\"], [0.8888888888888888, \"#fdca26\"], [1.0, \"#f0f921\"]], \"type\": \"surface\"}], \"table\": [{\"cells\": {\"fill\": {\"color\": \"#EBF0F8\"}, \"line\": {\"color\": \"white\"}}, \"header\": {\"fill\": {\"color\": \"#C8D4E3\"}, \"line\": {\"color\": \"white\"}}, \"type\": \"table\"}]}, \"layout\": {\"annotationdefaults\": {\"arrowcolor\": \"#2a3f5f\", \"arrowhead\": 0, \"arrowwidth\": 1}, \"coloraxis\": {\"colorbar\": {\"outlinewidth\": 0, \"ticks\": \"\"}}, \"colorscale\": {\"diverging\": [[0, \"#8e0152\"], [0.1, \"#c51b7d\"], [0.2, \"#de77ae\"], [0.3, \"#f1b6da\"], [0.4, \"#fde0ef\"], [0.5, \"#f7f7f7\"], [0.6, \"#e6f5d0\"], [0.7, \"#b8e186\"], [0.8, \"#7fbc41\"], [0.9, \"#4d9221\"], [1, \"#276419\"]], \"sequential\": [[0.0, \"#0d0887\"], [0.1111111111111111, \"#46039f\"], [0.2222222222222222, \"#7201a8\"], [0.3333333333333333, \"#9c179e\"], [0.4444444444444444, \"#bd3786\"], [0.5555555555555556, \"#d8576b\"], [0.6666666666666666, \"#ed7953\"], [0.7777777777777778, \"#fb9f3a\"], [0.8888888888888888, \"#fdca26\"], [1.0, \"#f0f921\"]], \"sequentialminus\": [[0.0, \"#0d0887\"], [0.1111111111111111, \"#46039f\"], [0.2222222222222222, \"#7201a8\"], [0.3333333333333333, \"#9c179e\"], [0.4444444444444444, \"#bd3786\"], [0.5555555555555556, \"#d8576b\"], [0.6666666666666666, \"#ed7953\"], [0.7777777777777778, \"#fb9f3a\"], [0.8888888888888888, \"#fdca26\"], [1.0, \"#f0f921\"]]}, \"colorway\": [\"#636efa\", \"#EF553B\", \"#00cc96\", \"#ab63fa\", \"#FFA15A\", \"#19d3f3\", \"#FF6692\", \"#B6E880\", \"#FF97FF\", \"#FECB52\"], \"font\": {\"color\": \"#2a3f5f\"}, \"geo\": {\"bgcolor\": \"white\", \"lakecolor\": \"white\", \"landcolor\": \"#E5ECF6\", \"showlakes\": true, \"showland\": true, \"subunitcolor\": \"white\"}, \"hoverlabel\": {\"align\": \"left\"}, \"hovermode\": \"closest\", \"mapbox\": {\"style\": \"light\"}, \"paper_bgcolor\": \"white\", \"plot_bgcolor\": \"#E5ECF6\", \"polar\": {\"angularaxis\": {\"gridcolor\": \"white\", \"linecolor\": \"white\", \"ticks\": \"\"}, \"bgcolor\": \"#E5ECF6\", \"radialaxis\": {\"gridcolor\": \"white\", \"linecolor\": \"white\", \"ticks\": \"\"}}, \"scene\": {\"xaxis\": {\"backgroundcolor\": \"#E5ECF6\", \"gridcolor\": \"white\", \"gridwidth\": 2, \"linecolor\": \"white\", \"showbackground\": true, \"ticks\": \"\", \"zerolinecolor\": \"white\"}, \"yaxis\": {\"backgroundcolor\": \"#E5ECF6\", \"gridcolor\": \"white\", \"gridwidth\": 2, \"linecolor\": \"white\", \"showbackground\": true, \"ticks\": \"\", \"zerolinecolor\": \"white\"}, \"zaxis\": {\"backgroundcolor\": \"#E5ECF6\", \"gridcolor\": \"white\", \"gridwidth\": 2, \"linecolor\": \"white\", \"showbackground\": true, \"ticks\": \"\", \"zerolinecolor\": \"white\"}}, \"shapedefaults\": {\"line\": {\"color\": \"#2a3f5f\"}}, \"ternary\": {\"aaxis\": {\"gridcolor\": \"white\", \"linecolor\": \"white\", \"ticks\": \"\"}, \"baxis\": {\"gridcolor\": \"white\", \"linecolor\": \"white\", \"ticks\": \"\"}, \"bgcolor\": \"#E5ECF6\", \"caxis\": {\"gridcolor\": \"white\", \"linecolor\": \"white\", \"ticks\": \"\"}}, \"title\": {\"x\": 0.05}, \"xaxis\": {\"automargin\": true, \"gridcolor\": \"white\", \"linecolor\": \"white\", \"ticks\": \"\", \"title\": {\"standoff\": 15}, \"zerolinecolor\": \"white\", \"zerolinewidth\": 2}, \"yaxis\": {\"automargin\": true, \"gridcolor\": \"white\", \"linecolor\": \"white\", \"ticks\": \"\", \"title\": {\"standoff\": 15}, \"zerolinecolor\": \"white\", \"zerolinewidth\": 2}}}, \"title\": {\"text\": \"CDF of Final Pick Chance\"}, \"xaxis\": {\"anchor\": \"y\", \"domain\": [0.0, 1.0], \"range\": [0, 65], \"title\": {\"text\": \"Final Pick\"}}, \"yaxis\": {\"anchor\": \"x\", \"domain\": [0.0, 1.0], \"range\": [0.0, 100.0], \"title\": {\"text\": \"Chance of Pick Higher Than This\"}}},                        {\"responsive\": true}                    ).then(function(){\n",
       "                            \n",
       "var gd = document.getElementById('6541d179-e88c-43ee-bc28-8a446c7eea2c');\n",
       "var x = new MutationObserver(function (mutations, observer) {{\n",
       "        var display = window.getComputedStyle(gd).display;\n",
       "        if (!display || display === 'none') {{\n",
       "            console.log([gd, 'removed!']);\n",
       "            Plotly.purge(gd);\n",
       "            observer.disconnect();\n",
       "        }}\n",
       "}});\n",
       "\n",
       "// Listen for the removal of the full notebook cells\n",
       "var notebookContainer = gd.closest('#notebook-container');\n",
       "if (notebookContainer) {{\n",
       "    x.observe(notebookContainer, {childList: true});\n",
       "}}\n",
       "\n",
       "// Listen for the clearing of the current output cell\n",
       "var outputEl = gd.closest('.output');\n",
       "if (outputEl) {{\n",
       "    x.observe(outputEl, {childList: true});\n",
       "}}\n",
       "\n",
       "                        })                };                });            </script>        </div>"
      ]
     },
     "metadata": {},
     "output_type": "display_data"
    }
   ],
   "source": [
    "Eagles_First_Round_DP_list_df=pd.DataFrame(Eagles_First_Round_DP_list,columns=['Final Pick','Chance of Pick Higher Than This'])\n",
    "Plotly_Bar_Plot(df=Eagles_First_Round_DP_list_df,Fact1='Final Pick'\n",
    "               ,Value='Chance of Pick Higher Than This',titler='CDF of Final Pick Chance')"
   ]
  },
  {
   "cell_type": "markdown",
   "id": "0620c9b3",
   "metadata": {},
   "source": [
    "## Chance of Draft Pick in the First Round"
   ]
  },
  {
   "cell_type": "code",
   "execution_count": 78,
   "id": "d0d2399a",
   "metadata": {},
   "outputs": [
    {
     "name": "stdout",
     "output_type": "stream",
     "text": [
      "The Eagles received a 1st Round Pick in 85.52% of all simulations.\n"
     ]
    }
   ],
   "source": [
    "Eagles_First_Round_DP=str(sum(i < 33 for i in IND_COLTS_DRAFT_PICK)/len(IND_COLTS_DRAFT_PICK)*100)[:5]\n",
    "print(\"The Eagles received a 1st Round Pick in {}% of all simulations.\".format(Eagles_First_Round_DP))"
   ]
  },
  {
   "cell_type": "markdown",
   "id": "7dd66c7a",
   "metadata": {},
   "source": [
    "## Chance of Top 20 Pick"
   ]
  },
  {
   "cell_type": "code",
   "execution_count": 79,
   "id": "75392951",
   "metadata": {},
   "outputs": [
    {
     "name": "stdout",
     "output_type": "stream",
     "text": [
      "The Eagles received a pick in the top 20 in 59.33% of all simulations.\n"
     ]
    }
   ],
   "source": [
    "Eagles_First_Round_DP=str(sum(i < 21 for i in IND_COLTS_DRAFT_PICK)/len(IND_COLTS_DRAFT_PICK)*100)[:5]\n",
    "print(\"The Eagles received a pick in the top 20 in {}% of all simulations.\".format(Eagles_First_Round_DP))"
   ]
  },
  {
   "cell_type": "markdown",
   "id": "5b03b6c8",
   "metadata": {},
   "source": [
    "## Chance of Top 10 Pick"
   ]
  },
  {
   "cell_type": "code",
   "execution_count": 80,
   "id": "692fa85a",
   "metadata": {},
   "outputs": [
    {
     "name": "stdout",
     "output_type": "stream",
     "text": [
      "The Eagles received a pick in the top 10 in 17.7% of all simulations.\n"
     ]
    }
   ],
   "source": [
    "Eagles_First_Round_DP=str(sum(i < 11 for i in IND_COLTS_DRAFT_PICK)/len(IND_COLTS_DRAFT_PICK)*100)[:5]\n",
    "print(\"The Eagles received a pick in the top 10 in {}% of all simulations.\".format(Eagles_First_Round_DP))"
   ]
  },
  {
   "cell_type": "markdown",
   "id": "0652923e",
   "metadata": {},
   "source": [
    "## Chance of Top 5 Pick"
   ]
  },
  {
   "cell_type": "code",
   "execution_count": 81,
   "id": "b4e98072",
   "metadata": {},
   "outputs": [
    {
     "name": "stdout",
     "output_type": "stream",
     "text": [
      "The Eagles received a pick in the top 5 in 2.62% of all simulations.\n"
     ]
    }
   ],
   "source": [
    "Eagles_First_Round_DP=str(sum(i < 6 for i in IND_COLTS_DRAFT_PICK)/len(IND_COLTS_DRAFT_PICK)*100)[:5]\n",
    "print(\"The Eagles received a pick in the top 5 in {}% of all simulations.\".format(Eagles_First_Round_DP))"
   ]
  },
  {
   "cell_type": "markdown",
   "id": "59eec78a",
   "metadata": {},
   "source": [
    "## Lowest Probable Pick"
   ]
  },
  {
   "cell_type": "code",
   "execution_count": 82,
   "id": "e35a71d0",
   "metadata": {},
   "outputs": [
    {
     "data": {
      "text/plain": [
       "63"
      ]
     },
     "execution_count": 82,
     "metadata": {},
     "output_type": "execute_result"
    }
   ],
   "source": [
    "max(IND_COLTS_DRAFT_PICK)"
   ]
  },
  {
   "cell_type": "markdown",
   "id": "c7ba02a3",
   "metadata": {},
   "source": [
    "## Highest Probable Pick"
   ]
  },
  {
   "cell_type": "code",
   "execution_count": 83,
   "id": "0c8bfddc",
   "metadata": {},
   "outputs": [
    {
     "data": {
      "text/plain": [
       "1"
      ]
     },
     "execution_count": 83,
     "metadata": {},
     "output_type": "execute_result"
    }
   ],
   "source": [
    "min(IND_COLTS_DRAFT_PICK)"
   ]
  },
  {
   "cell_type": "markdown",
   "id": "d44747db",
   "metadata": {},
   "source": [
    "## Average Pick By First Quarter Result"
   ]
  },
  {
   "cell_type": "code",
   "execution_count": 84,
   "id": "5abc4dbd",
   "metadata": {},
   "outputs": [
    {
     "data": {
      "text/plain": [
       "First Quarter Wins\n",
       "1    20.1011\n",
       "Name: Final Pick, dtype: float64"
      ]
     },
     "execution_count": 84,
     "metadata": {},
     "output_type": "execute_result"
    }
   ],
   "source": [
    "IND_WINS.groupby(['First Quarter Wins'])['Final Pick'].mean()"
   ]
  },
  {
   "cell_type": "markdown",
   "id": "d349a5f1",
   "metadata": {},
   "source": [
    "## Average Pick by Halfway Point Result"
   ]
  },
  {
   "cell_type": "code",
   "execution_count": 85,
   "id": "c7b35fb9",
   "metadata": {},
   "outputs": [
    {
     "data": {
      "text/plain": [
       "Second Quarter Wins\n",
       "1    26.928977\n",
       "2    21.494695\n",
       "3    18.619735\n",
       "4    19.859253\n",
       "5    22.145455\n",
       "Name: Final Pick, dtype: float64"
      ]
     },
     "execution_count": 85,
     "metadata": {},
     "output_type": "execute_result"
    }
   ],
   "source": [
    "IND_WINS.groupby(['Second Quarter Wins'])['Final Pick'].mean()"
   ]
  },
  {
   "cell_type": "markdown",
   "id": "34f5e530",
   "metadata": {},
   "source": [
    "## Average Pick by Third Quarter Result"
   ]
  },
  {
   "cell_type": "code",
   "execution_count": 86,
   "id": "65fa049d",
   "metadata": {},
   "outputs": [
    {
     "data": {
      "text/plain": [
       "Third Quarter Wins\n",
       "1    35.500000\n",
       "2    31.348148\n",
       "3    25.324832\n",
       "4    20.501453\n",
       "5    17.477126\n",
       "6    19.593512\n",
       "7    21.892641\n",
       "8    23.457565\n",
       "9    24.652174\n",
       "Name: Final Pick, dtype: float64"
      ]
     },
     "execution_count": 86,
     "metadata": {},
     "output_type": "execute_result"
    }
   ],
   "source": [
    "IND_WINS.groupby(['Third Quarter Wins'])['Final Pick'].mean()"
   ]
  },
  {
   "cell_type": "markdown",
   "id": "f497f830",
   "metadata": {},
   "source": [
    "## Desired Wins By Third Quarter for Eagles\n",
    "### This number of wins by week 13 would represent the lowest average comp. pick"
   ]
  },
  {
   "cell_type": "code",
   "execution_count": 87,
   "id": "a38aa0ef",
   "metadata": {},
   "outputs": [
    {
     "data": {
      "text/plain": [
       "5"
      ]
     },
     "execution_count": 87,
     "metadata": {},
     "output_type": "execute_result"
    }
   ],
   "source": [
    "list(IND_WINS.groupby(['Third Quarter Wins'],as_index=False)['Final Pick'].mean().sort_values(by='Final Pick')['Third Quarter Wins'])[0]"
   ]
  },
  {
   "cell_type": "code",
   "execution_count": 88,
   "id": "687d1d85",
   "metadata": {},
   "outputs": [],
   "source": [
    "#Each instance of a final pick is a percenage point\n",
    "IND_WINS['Percentage of Total Occurances (%)']=round((1/Sims)*100,4)\n",
    "IND_WINS[\"Colts Made Playoffs\"]=(IND_WINS[\"Colts Made Playoffs\"]).astype(str)"
   ]
  },
  {
   "cell_type": "markdown",
   "id": "e3825aca",
   "metadata": {},
   "source": [
    "## Draft Pick by Time Out of Playoff Picture"
   ]
  },
  {
   "cell_type": "code",
   "execution_count": 89,
   "id": "82da56e8",
   "metadata": {},
   "outputs": [
    {
     "data": {
      "text/html": [
       "<div>                            <div id=\"ab92809d-70f2-40c4-b430-dd38c7eec5bd\" class=\"plotly-graph-div\" style=\"height:525px; width:100%;\"></div>            <script type=\"text/javascript\">                require([\"plotly\"], function(Plotly) {                    window.PLOTLYENV=window.PLOTLYENV || {};                                    if (document.getElementById(\"ab92809d-70f2-40c4-b430-dd38c7eec5bd\")) {                    Plotly.newPlot(                        \"ab92809d-70f2-40c4-b430-dd38c7eec5bd\",                        [{\"alignmentgroup\": \"True\", \"hovertemplate\": \"Game_Where_Indy_Fell_Out_of_Playoffs=12.0<br>Final Pick=%{x}<br>Percentage of Total Occurances (%)=%{text}<br>Carson Final Snap %=%{marker.color}<extra></extra>\", \"legendgroup\": \"\", \"marker\": {\"color\": [0.543, 0.5034], \"coloraxis\": \"coloraxis\"}, \"name\": \"\", \"offsetgroup\": \"\", \"orientation\": \"v\", \"showlegend\": false, \"text\": [0.01, 0.01], \"textposition\": \"auto\", \"type\": \"bar\", \"x\": [36, 37], \"xaxis\": \"x\", \"y\": [0.01, 0.01], \"yaxis\": \"y\"}],                        {\"barmode\": \"relative\", \"coloraxis\": {\"cmax\": 0.8876, \"cmin\": 0.5034, \"colorbar\": {\"title\": {\"text\": \"Carson Final Snap %\"}}, \"colorscale\": [[0.0, \"#0d0887\"], [0.1111111111111111, \"#46039f\"], [0.2222222222222222, \"#7201a8\"], [0.3333333333333333, \"#9c179e\"], [0.4444444444444444, \"#bd3786\"], [0.5555555555555556, \"#d8576b\"], [0.6666666666666666, \"#ed7953\"], [0.7777777777777778, \"#fb9f3a\"], [0.8888888888888888, \"#fdca26\"], [1.0, \"#f0f921\"]]}, \"legend\": {\"tracegroupgap\": 0}, \"margin\": {\"b\": 80, \"l\": 80, \"r\": 80, \"t\": 100}, \"paper_bgcolor\": \"LightSteelBlue\", \"sliders\": [{\"active\": 0, \"currentvalue\": {\"prefix\": \"Game_Where_Indy_Fell_Out_of_Playoffs=\"}, \"len\": 0.9, \"pad\": {\"b\": 10, \"t\": 60}, \"steps\": [{\"args\": [[\"12.0\"], {\"frame\": {\"duration\": 0, \"redraw\": true}, \"fromcurrent\": true, \"mode\": \"immediate\", \"transition\": {\"duration\": 0, \"easing\": \"linear\"}}], \"label\": \"12.0\", \"method\": \"animate\"}, {\"args\": [[\"13.0\"], {\"frame\": {\"duration\": 0, \"redraw\": true}, \"fromcurrent\": true, \"mode\": \"immediate\", \"transition\": {\"duration\": 0, \"easing\": \"linear\"}}], \"label\": \"13.0\", \"method\": \"animate\"}, {\"args\": [[\"14.0\"], {\"frame\": {\"duration\": 0, \"redraw\": true}, \"fromcurrent\": true, \"mode\": \"immediate\", \"transition\": {\"duration\": 0, \"easing\": \"linear\"}}], \"label\": \"14.0\", \"method\": \"animate\"}, {\"args\": [[\"15.0\"], {\"frame\": {\"duration\": 0, \"redraw\": true}, \"fromcurrent\": true, \"mode\": \"immediate\", \"transition\": {\"duration\": 0, \"easing\": \"linear\"}}], \"label\": \"15.0\", \"method\": \"animate\"}, {\"args\": [[\"16.0\"], {\"frame\": {\"duration\": 0, \"redraw\": true}, \"fromcurrent\": true, \"mode\": \"immediate\", \"transition\": {\"duration\": 0, \"easing\": \"linear\"}}], \"label\": \"16.0\", \"method\": \"animate\"}, {\"args\": [[\"17.0\"], {\"frame\": {\"duration\": 0, \"redraw\": true}, \"fromcurrent\": true, \"mode\": \"immediate\", \"transition\": {\"duration\": 0, \"easing\": \"linear\"}}], \"label\": \"17.0\", \"method\": \"animate\"}], \"x\": 0.1, \"xanchor\": \"left\", \"y\": 0, \"yanchor\": \"top\"}], \"template\": {\"data\": {\"bar\": [{\"error_x\": {\"color\": \"#2a3f5f\"}, \"error_y\": {\"color\": \"#2a3f5f\"}, \"marker\": {\"line\": {\"color\": \"#E5ECF6\", \"width\": 0.5}}, \"type\": \"bar\"}], \"barpolar\": [{\"marker\": {\"line\": {\"color\": \"#E5ECF6\", \"width\": 0.5}}, \"type\": \"barpolar\"}], \"carpet\": [{\"aaxis\": {\"endlinecolor\": \"#2a3f5f\", \"gridcolor\": \"white\", \"linecolor\": \"white\", \"minorgridcolor\": \"white\", \"startlinecolor\": \"#2a3f5f\"}, \"baxis\": {\"endlinecolor\": \"#2a3f5f\", \"gridcolor\": \"white\", \"linecolor\": \"white\", \"minorgridcolor\": \"white\", \"startlinecolor\": \"#2a3f5f\"}, \"type\": \"carpet\"}], \"choropleth\": [{\"colorbar\": {\"outlinewidth\": 0, \"ticks\": \"\"}, \"type\": \"choropleth\"}], \"contour\": [{\"colorbar\": {\"outlinewidth\": 0, \"ticks\": \"\"}, \"colorscale\": [[0.0, \"#0d0887\"], [0.1111111111111111, \"#46039f\"], [0.2222222222222222, \"#7201a8\"], [0.3333333333333333, \"#9c179e\"], [0.4444444444444444, \"#bd3786\"], [0.5555555555555556, \"#d8576b\"], [0.6666666666666666, \"#ed7953\"], [0.7777777777777778, \"#fb9f3a\"], [0.8888888888888888, \"#fdca26\"], [1.0, \"#f0f921\"]], \"type\": \"contour\"}], \"contourcarpet\": [{\"colorbar\": {\"outlinewidth\": 0, \"ticks\": \"\"}, \"type\": \"contourcarpet\"}], \"heatmap\": [{\"colorbar\": {\"outlinewidth\": 0, \"ticks\": \"\"}, \"colorscale\": [[0.0, \"#0d0887\"], [0.1111111111111111, \"#46039f\"], [0.2222222222222222, \"#7201a8\"], [0.3333333333333333, \"#9c179e\"], [0.4444444444444444, \"#bd3786\"], [0.5555555555555556, \"#d8576b\"], [0.6666666666666666, \"#ed7953\"], [0.7777777777777778, \"#fb9f3a\"], [0.8888888888888888, \"#fdca26\"], [1.0, \"#f0f921\"]], \"type\": \"heatmap\"}], \"heatmapgl\": [{\"colorbar\": {\"outlinewidth\": 0, \"ticks\": \"\"}, \"colorscale\": [[0.0, \"#0d0887\"], [0.1111111111111111, \"#46039f\"], [0.2222222222222222, \"#7201a8\"], [0.3333333333333333, \"#9c179e\"], [0.4444444444444444, \"#bd3786\"], [0.5555555555555556, \"#d8576b\"], [0.6666666666666666, \"#ed7953\"], [0.7777777777777778, \"#fb9f3a\"], [0.8888888888888888, \"#fdca26\"], [1.0, \"#f0f921\"]], \"type\": \"heatmapgl\"}], \"histogram\": [{\"marker\": {\"colorbar\": {\"outlinewidth\": 0, \"ticks\": \"\"}}, \"type\": \"histogram\"}], \"histogram2d\": [{\"colorbar\": {\"outlinewidth\": 0, \"ticks\": \"\"}, \"colorscale\": [[0.0, \"#0d0887\"], [0.1111111111111111, \"#46039f\"], [0.2222222222222222, \"#7201a8\"], [0.3333333333333333, \"#9c179e\"], [0.4444444444444444, \"#bd3786\"], [0.5555555555555556, \"#d8576b\"], [0.6666666666666666, \"#ed7953\"], [0.7777777777777778, \"#fb9f3a\"], [0.8888888888888888, \"#fdca26\"], [1.0, \"#f0f921\"]], \"type\": \"histogram2d\"}], \"histogram2dcontour\": [{\"colorbar\": {\"outlinewidth\": 0, \"ticks\": \"\"}, \"colorscale\": [[0.0, \"#0d0887\"], [0.1111111111111111, \"#46039f\"], [0.2222222222222222, \"#7201a8\"], [0.3333333333333333, \"#9c179e\"], [0.4444444444444444, \"#bd3786\"], [0.5555555555555556, \"#d8576b\"], [0.6666666666666666, \"#ed7953\"], [0.7777777777777778, \"#fb9f3a\"], [0.8888888888888888, \"#fdca26\"], [1.0, \"#f0f921\"]], \"type\": \"histogram2dcontour\"}], \"mesh3d\": [{\"colorbar\": {\"outlinewidth\": 0, \"ticks\": \"\"}, \"type\": \"mesh3d\"}], \"parcoords\": [{\"line\": {\"colorbar\": {\"outlinewidth\": 0, \"ticks\": \"\"}}, \"type\": \"parcoords\"}], \"pie\": [{\"automargin\": true, \"type\": \"pie\"}], \"scatter\": [{\"marker\": {\"colorbar\": {\"outlinewidth\": 0, \"ticks\": \"\"}}, \"type\": \"scatter\"}], \"scatter3d\": [{\"line\": {\"colorbar\": {\"outlinewidth\": 0, \"ticks\": \"\"}}, \"marker\": {\"colorbar\": {\"outlinewidth\": 0, \"ticks\": \"\"}}, \"type\": \"scatter3d\"}], \"scattercarpet\": [{\"marker\": {\"colorbar\": {\"outlinewidth\": 0, \"ticks\": \"\"}}, \"type\": \"scattercarpet\"}], \"scattergeo\": [{\"marker\": {\"colorbar\": {\"outlinewidth\": 0, \"ticks\": \"\"}}, \"type\": \"scattergeo\"}], \"scattergl\": [{\"marker\": {\"colorbar\": {\"outlinewidth\": 0, \"ticks\": \"\"}}, \"type\": \"scattergl\"}], \"scattermapbox\": [{\"marker\": {\"colorbar\": {\"outlinewidth\": 0, \"ticks\": \"\"}}, \"type\": \"scattermapbox\"}], \"scatterpolar\": [{\"marker\": {\"colorbar\": {\"outlinewidth\": 0, \"ticks\": \"\"}}, \"type\": \"scatterpolar\"}], \"scatterpolargl\": [{\"marker\": {\"colorbar\": {\"outlinewidth\": 0, \"ticks\": \"\"}}, \"type\": \"scatterpolargl\"}], \"scatterternary\": [{\"marker\": {\"colorbar\": {\"outlinewidth\": 0, \"ticks\": \"\"}}, \"type\": \"scatterternary\"}], \"surface\": [{\"colorbar\": {\"outlinewidth\": 0, \"ticks\": \"\"}, \"colorscale\": [[0.0, \"#0d0887\"], [0.1111111111111111, \"#46039f\"], [0.2222222222222222, \"#7201a8\"], [0.3333333333333333, \"#9c179e\"], [0.4444444444444444, \"#bd3786\"], [0.5555555555555556, \"#d8576b\"], [0.6666666666666666, \"#ed7953\"], [0.7777777777777778, \"#fb9f3a\"], [0.8888888888888888, \"#fdca26\"], [1.0, \"#f0f921\"]], \"type\": \"surface\"}], \"table\": [{\"cells\": {\"fill\": {\"color\": \"#EBF0F8\"}, \"line\": {\"color\": \"white\"}}, \"header\": {\"fill\": {\"color\": \"#C8D4E3\"}, \"line\": {\"color\": \"white\"}}, \"type\": \"table\"}]}, \"layout\": {\"annotationdefaults\": {\"arrowcolor\": \"#2a3f5f\", \"arrowhead\": 0, \"arrowwidth\": 1}, \"coloraxis\": {\"colorbar\": {\"outlinewidth\": 0, \"ticks\": \"\"}}, \"colorscale\": {\"diverging\": [[0, \"#8e0152\"], [0.1, \"#c51b7d\"], [0.2, \"#de77ae\"], [0.3, \"#f1b6da\"], [0.4, \"#fde0ef\"], [0.5, \"#f7f7f7\"], [0.6, \"#e6f5d0\"], [0.7, \"#b8e186\"], [0.8, \"#7fbc41\"], [0.9, \"#4d9221\"], [1, \"#276419\"]], \"sequential\": [[0.0, \"#0d0887\"], [0.1111111111111111, \"#46039f\"], [0.2222222222222222, \"#7201a8\"], [0.3333333333333333, \"#9c179e\"], [0.4444444444444444, \"#bd3786\"], [0.5555555555555556, \"#d8576b\"], [0.6666666666666666, \"#ed7953\"], [0.7777777777777778, \"#fb9f3a\"], [0.8888888888888888, \"#fdca26\"], [1.0, \"#f0f921\"]], \"sequentialminus\": [[0.0, \"#0d0887\"], [0.1111111111111111, \"#46039f\"], [0.2222222222222222, \"#7201a8\"], [0.3333333333333333, \"#9c179e\"], [0.4444444444444444, \"#bd3786\"], [0.5555555555555556, \"#d8576b\"], [0.6666666666666666, \"#ed7953\"], [0.7777777777777778, \"#fb9f3a\"], [0.8888888888888888, \"#fdca26\"], [1.0, \"#f0f921\"]]}, \"colorway\": [\"#636efa\", \"#EF553B\", \"#00cc96\", \"#ab63fa\", \"#FFA15A\", \"#19d3f3\", \"#FF6692\", \"#B6E880\", \"#FF97FF\", \"#FECB52\"], \"font\": {\"color\": \"#2a3f5f\"}, \"geo\": {\"bgcolor\": \"white\", \"lakecolor\": \"white\", \"landcolor\": \"#E5ECF6\", \"showlakes\": true, \"showland\": true, \"subunitcolor\": \"white\"}, \"hoverlabel\": {\"align\": \"left\"}, \"hovermode\": \"closest\", \"mapbox\": {\"style\": \"light\"}, \"paper_bgcolor\": \"white\", \"plot_bgcolor\": \"#E5ECF6\", \"polar\": {\"angularaxis\": {\"gridcolor\": \"white\", \"linecolor\": \"white\", \"ticks\": \"\"}, \"bgcolor\": \"#E5ECF6\", \"radialaxis\": {\"gridcolor\": \"white\", \"linecolor\": \"white\", \"ticks\": \"\"}}, \"scene\": {\"xaxis\": {\"backgroundcolor\": \"#E5ECF6\", \"gridcolor\": \"white\", \"gridwidth\": 2, \"linecolor\": \"white\", \"showbackground\": true, \"ticks\": \"\", \"zerolinecolor\": \"white\"}, \"yaxis\": {\"backgroundcolor\": \"#E5ECF6\", \"gridcolor\": \"white\", \"gridwidth\": 2, \"linecolor\": \"white\", \"showbackground\": true, \"ticks\": \"\", \"zerolinecolor\": \"white\"}, \"zaxis\": {\"backgroundcolor\": \"#E5ECF6\", \"gridcolor\": \"white\", \"gridwidth\": 2, \"linecolor\": \"white\", \"showbackground\": true, \"ticks\": \"\", \"zerolinecolor\": \"white\"}}, \"shapedefaults\": {\"line\": {\"color\": \"#2a3f5f\"}}, \"ternary\": {\"aaxis\": {\"gridcolor\": \"white\", \"linecolor\": \"white\", \"ticks\": \"\"}, \"baxis\": {\"gridcolor\": \"white\", \"linecolor\": \"white\", \"ticks\": \"\"}, \"bgcolor\": \"#E5ECF6\", \"caxis\": {\"gridcolor\": \"white\", \"linecolor\": \"white\", \"ticks\": \"\"}}, \"title\": {\"x\": 0.05}, \"xaxis\": {\"automargin\": true, \"gridcolor\": \"white\", \"linecolor\": \"white\", \"ticks\": \"\", \"title\": {\"standoff\": 15}, \"zerolinecolor\": \"white\", \"zerolinewidth\": 2}, \"yaxis\": {\"automargin\": true, \"gridcolor\": \"white\", \"linecolor\": \"white\", \"ticks\": \"\", \"title\": {\"standoff\": 15}, \"zerolinecolor\": \"white\", \"zerolinewidth\": 2}}}, \"title\": {\"text\": \"Projected Final Comp. Pick from Colts to Eagles by Game_Where_Indy_Fell_Out_of_Playoffs\"}, \"updatemenus\": [{\"buttons\": [{\"args\": [null, {\"frame\": {\"duration\": 500, \"redraw\": true}, \"fromcurrent\": true, \"mode\": \"immediate\", \"transition\": {\"duration\": 500, \"easing\": \"linear\"}}], \"label\": \"&#9654;\", \"method\": \"animate\"}, {\"args\": [[null], {\"frame\": {\"duration\": 0, \"redraw\": true}, \"fromcurrent\": true, \"mode\": \"immediate\", \"transition\": {\"duration\": 0, \"easing\": \"linear\"}}], \"label\": \"&#9724;\", \"method\": \"animate\"}], \"direction\": \"left\", \"pad\": {\"r\": 10, \"t\": 70}, \"showactive\": false, \"type\": \"buttons\", \"x\": 0.1, \"xanchor\": \"right\", \"y\": 0, \"yanchor\": \"top\"}], \"xaxis\": {\"anchor\": \"y\", \"domain\": [0.0, 1.0], \"range\": [1, 50], \"title\": {\"text\": \"Final Pick\"}}, \"yaxis\": {\"anchor\": \"x\", \"domain\": [0.0, 1.0], \"range\": [0.01, 2.58], \"title\": {\"text\": \"Percentage of Total Occurances (%)\"}}},                        {\"responsive\": true}                    ).then(function(){\n",
       "                            Plotly.addFrames('ab92809d-70f2-40c4-b430-dd38c7eec5bd', [{\"data\": [{\"alignmentgroup\": \"True\", \"hovertemplate\": \"Game_Where_Indy_Fell_Out_of_Playoffs=12.0<br>Final Pick=%{x}<br>Percentage of Total Occurances (%)=%{text}<br>Carson Final Snap %=%{marker.color}<extra></extra>\", \"legendgroup\": \"\", \"marker\": {\"color\": [0.543, 0.5034], \"coloraxis\": \"coloraxis\"}, \"name\": \"\", \"offsetgroup\": \"\", \"orientation\": \"v\", \"showlegend\": false, \"text\": [0.01, 0.01], \"textposition\": \"auto\", \"x\": [36, 37], \"xaxis\": \"x\", \"y\": [0.01, 0.01], \"yaxis\": \"y\", \"type\": \"bar\"}], \"name\": \"12.0\"}, {\"data\": [{\"alignmentgroup\": \"True\", \"hovertemplate\": \"Game_Where_Indy_Fell_Out_of_Playoffs=13.0<br>Final Pick=%{x}<br>Percentage of Total Occurances (%)=%{text}<br>Carson Final Snap %=%{marker.color}<extra></extra>\", \"legendgroup\": \"\", \"marker\": {\"color\": [0.6183, 0.6505, 0.6243, 0.6579, 0.6506, 0.6392], \"coloraxis\": \"coloraxis\"}, \"name\": \"\", \"offsetgroup\": \"\", \"orientation\": \"v\", \"showlegend\": false, \"text\": [0.03, 0.02, 0.02, 0.02, 0.02, 0.02], \"textposition\": \"auto\", \"x\": [33, 34, 35, 36, 37, 40], \"xaxis\": \"x\", \"y\": [0.03, 0.02, 0.02, 0.02, 0.02, 0.02], \"yaxis\": \"y\", \"type\": \"bar\"}], \"name\": \"13.0\"}, {\"data\": [{\"alignmentgroup\": \"True\", \"hovertemplate\": \"Game_Where_Indy_Fell_Out_of_Playoffs=14.0<br>Final Pick=%{x}<br>Percentage of Total Occurances (%)=%{text}<br>Carson Final Snap %=%{marker.color}<extra></extra>\", \"legendgroup\": \"\", \"marker\": {\"color\": [0.7529, 0.7885, 0.7771, 0.7813, 0.7808, 0.7702, 0.7621, 0.7921, 0.7838, 0.6579, 0.6643, 0.6903, 0.6817, 0.6818, 0.6876, 0.6894, 0.689, 0.7052, 0.684, 0.6916, 0.6903, 0.6804, 0.698, 0.609, 0.7183], \"coloraxis\": \"coloraxis\"}, \"name\": \"\", \"offsetgroup\": \"\", \"orientation\": \"v\", \"showlegend\": false, \"text\": [0.01, 0.01, 0.05, 0.05, 0.05, 0.03, 0.01, 0.02, 0.01, 0.16, 0.29, 0.36, 0.59, 0.65, 0.51, 0.51, 0.59, 0.39, 0.21, 0.16, 0.11, 0.09, 0.05, 0.01, 0.02], \"textposition\": \"auto\", \"x\": [2, 3, 5, 6, 7, 8, 9, 10, 14, 33, 34, 35, 36, 37, 38, 39, 40, 41, 42, 43, 44, 45, 46, 47, 48], \"xaxis\": \"x\", \"y\": [0.01, 0.01, 0.05, 0.05, 0.05, 0.03, 0.01, 0.02, 0.01, 0.16, 0.29, 0.36, 0.59, 0.65, 0.51, 0.51, 0.59, 0.39, 0.21, 0.16, 0.11, 0.09, 0.05, 0.01, 0.02], \"yaxis\": \"y\", \"type\": \"bar\"}], \"name\": \"14.0\"}, {\"data\": [{\"alignmentgroup\": \"True\", \"hovertemplate\": \"Game_Where_Indy_Fell_Out_of_Playoffs=15.0<br>Final Pick=%{x}<br>Percentage of Total Occurances (%)=%{text}<br>Carson Final Snap %=%{marker.color}<extra></extra>\", \"legendgroup\": \"\", \"marker\": {\"color\": [0.762, 0.7576, 0.77, 0.7754, 0.7802, 0.7837, 0.7763, 0.781, 0.7799, 0.7842, 0.7848, 0.784, 0.7812, 0.7713, 0.7859, 0.783, 0.7838, 0.7895, 0.6648, 0.7183, 0.7176, 0.6995, 0.7135, 0.7037, 0.7158, 0.7058, 0.7145, 0.7183, 0.7079, 0.7098, 0.7219, 0.7111, 0.7184, 0.7244, 0.7251], \"coloraxis\": \"coloraxis\"}, \"name\": \"\", \"offsetgroup\": \"\", \"orientation\": \"v\", \"showlegend\": false, \"text\": [0.01, 0.04, 0.21, 0.36, 0.39, 0.4, 0.5, 0.8, 0.59, 0.41, 0.5, 0.35, 0.32, 0.16, 0.09, 0.06, 0.01, 0.01, 0.01, 0.07, 0.23, 0.37, 0.47, 0.67, 0.55, 0.69, 0.66, 0.48, 0.4, 0.25, 0.18, 0.13, 0.06, 0.02, 0.01], \"textposition\": \"auto\", \"x\": [1, 2, 3, 4, 5, 6, 7, 8, 9, 10, 11, 12, 13, 14, 15, 16, 17, 18, 33, 34, 35, 36, 37, 38, 39, 40, 41, 42, 43, 44, 45, 46, 47, 48, 49], \"xaxis\": \"x\", \"y\": [0.01, 0.04, 0.21, 0.36, 0.39, 0.4, 0.5, 0.8, 0.59, 0.41, 0.5, 0.35, 0.32, 0.16, 0.09, 0.06, 0.01, 0.01, 0.01, 0.07, 0.23, 0.37, 0.47, 0.67, 0.55, 0.69, 0.66, 0.48, 0.4, 0.25, 0.18, 0.13, 0.06, 0.02, 0.01], \"yaxis\": \"y\", \"type\": \"bar\"}], \"name\": \"15.0\"}, {\"data\": [{\"alignmentgroup\": \"True\", \"hovertemplate\": \"Game_Where_Indy_Fell_Out_of_Playoffs=16.0<br>Final Pick=%{x}<br>Percentage of Total Occurances (%)=%{text}<br>Carson Final Snap %=%{marker.color}<extra></extra>\", \"legendgroup\": \"\", \"marker\": {\"color\": [0.762, 0.817, 0.8158, 0.8064, 0.8057, 0.8111, 0.8175, 0.8149, 0.8158, 0.817, 0.821, 0.8144, 0.8101, 0.8156, 0.8292, 0.8144, 0.8109, 0.8166, 0.6919, 0.7125, 0.7149, 0.73, 0.7135, 0.7181, 0.7077, 0.7089, 0.7139, 0.7143, 0.7128, 0.7063, 0.7173, 0.7323, 0.7155, 0.7177, 0.7175], \"coloraxis\": \"coloraxis\"}, \"name\": \"\", \"offsetgroup\": \"\", \"orientation\": \"v\", \"showlegend\": false, \"text\": [0.01, 0.07, 0.12, 0.31, 0.38, 0.55, 0.83, 1.0, 1.13, 1.19, 1.27, 1.22, 0.81, 0.76, 0.44, 0.41, 0.19, 0.04, 0.03, 0.02, 0.05, 0.08, 0.16, 0.25, 0.21, 0.3, 0.3, 0.38, 0.34, 0.37, 0.22, 0.17, 0.15, 0.07, 0.02], \"textposition\": \"auto\", \"x\": [1, 2, 3, 4, 5, 6, 7, 8, 9, 10, 11, 12, 13, 14, 15, 16, 17, 18, 34, 35, 36, 37, 38, 39, 40, 41, 42, 43, 44, 45, 46, 47, 48, 49, 50], \"xaxis\": \"x\", \"y\": [0.01, 0.07, 0.12, 0.31, 0.38, 0.55, 0.83, 1.0, 1.13, 1.19, 1.27, 1.22, 0.81, 0.76, 0.44, 0.41, 0.19, 0.04, 0.03, 0.02, 0.05, 0.08, 0.16, 0.25, 0.21, 0.3, 0.3, 0.38, 0.34, 0.37, 0.22, 0.17, 0.15, 0.07, 0.02], \"yaxis\": \"y\", \"type\": \"bar\"}], \"name\": \"16.0\"}, {\"data\": [{\"alignmentgroup\": \"True\", \"hovertemplate\": \"Game_Where_Indy_Fell_Out_of_Playoffs=17.0<br>Final Pick=%{x}<br>Percentage of Total Occurances (%)=%{text}<br>Carson Final Snap %=%{marker.color}<extra></extra>\", \"legendgroup\": \"\", \"marker\": {\"color\": [0.833, 0.824, 0.8458, 0.8382, 0.8525, 0.8613, 0.8678, 0.8659, 0.8751, 0.8783, 0.8742, 0.8753, 0.8779, 0.8736, 0.8816, 0.8812, 0.8876, 0.743, 0.7145, 0.7159, 0.7267, 0.7342, 0.723, 0.7185, 0.7202, 0.7319, 0.6957, 0.7032, 0.7183, 0.7015, 0.6978], \"coloraxis\": \"coloraxis\"}, \"name\": \"\", \"offsetgroup\": \"\", \"orientation\": \"v\", \"showlegend\": false, \"text\": [0.04, 0.08, 0.23, 0.28, 0.58, 0.88, 1.35, 1.52, 2.05, 2.39, 2.32, 2.58, 2.56, 2.05, 1.68, 1.2, 0.56, 0.01, 0.05, 0.03, 0.07, 0.07, 0.05, 0.06, 0.1, 0.09, 0.11, 0.04, 0.12, 0.04, 0.08], \"textposition\": \"auto\", \"x\": [2, 3, 4, 5, 6, 7, 8, 9, 10, 11, 12, 13, 14, 15, 16, 17, 18, 36, 37, 38, 39, 40, 41, 42, 43, 44, 45, 46, 47, 48, 49], \"xaxis\": \"x\", \"y\": [0.04, 0.08, 0.23, 0.28, 0.58, 0.88, 1.35, 1.52, 2.05, 2.39, 2.32, 2.58, 2.56, 2.05, 1.68, 1.2, 0.56, 0.01, 0.05, 0.03, 0.07, 0.07, 0.05, 0.06, 0.1, 0.09, 0.11, 0.04, 0.12, 0.04, 0.08], \"yaxis\": \"y\", \"type\": \"bar\"}], \"name\": \"17.0\"}]);\n",
       "                        }).then(function(){\n",
       "                            \n",
       "var gd = document.getElementById('ab92809d-70f2-40c4-b430-dd38c7eec5bd');\n",
       "var x = new MutationObserver(function (mutations, observer) {{\n",
       "        var display = window.getComputedStyle(gd).display;\n",
       "        if (!display || display === 'none') {{\n",
       "            console.log([gd, 'removed!']);\n",
       "            Plotly.purge(gd);\n",
       "            observer.disconnect();\n",
       "        }}\n",
       "}});\n",
       "\n",
       "// Listen for the removal of the full notebook cells\n",
       "var notebookContainer = gd.closest('#notebook-container');\n",
       "if (notebookContainer) {{\n",
       "    x.observe(notebookContainer, {childList: true});\n",
       "}}\n",
       "\n",
       "// Listen for the clearing of the current output cell\n",
       "var outputEl = gd.closest('.output');\n",
       "if (outputEl) {{\n",
       "    x.observe(outputEl, {childList: true});\n",
       "}}\n",
       "\n",
       "                        })                };                });            </script>        </div>"
      ]
     },
     "metadata": {},
     "output_type": "display_data"
    }
   ],
   "source": [
    "Wins_by_First_Quarter_Result=IND_WINS.groupby(['Final Pick','Game_Where_Indy_Fell_Out_of_Playoffs'],as_index=False)['Percentage of Total Occurances (%)'].sum()\n",
    "Carson_Final_Snap_Percentage=IND_WINS.groupby([\"Final Pick\",'Game_Where_Indy_Fell_Out_of_Playoffs'],as_index=False)['Carson Final Snap %'].mean()\n",
    "Wins_by_First_Quarter_Result=pd.merge(Wins_by_First_Quarter_Result,Carson_Final_Snap_Percentage,how=\"inner\",\n",
    "        left_on=['Game_Where_Indy_Fell_Out_of_Playoffs',\"Final Pick\"], right_on=['Game_Where_Indy_Fell_Out_of_Playoffs',\"Final Pick\"])\n",
    "Wins_by_First_Quarter_Result=Wins_by_First_Quarter_Result.round(4)\n",
    "Plotly_Bar_Plot(df=Wins_by_First_Quarter_Result,Fact1='Final Pick',slider_text='Game_Where_Indy_Fell_Out_of_Playoffs',\n",
    "                Color_Titler='Carson Final Snap %',Value='Percentage of Total Occurances (%)',titler='Projected Final Comp. Pick from Colts to Eagles by Game_Where_Indy_Fell_Out_of_Playoffs')"
   ]
  },
  {
   "cell_type": "markdown",
   "id": "077c31f9",
   "metadata": {},
   "source": [
    "## Total Wins For Indy and Average Draft Pick"
   ]
  },
  {
   "cell_type": "code",
   "execution_count": 90,
   "id": "e09d1027",
   "metadata": {},
   "outputs": [
    {
     "data": {
      "text/html": [
       "<div>                            <div id=\"2a00fbb5-c2d0-448a-b266-82d740565cac\" class=\"plotly-graph-div\" style=\"height:525px; width:100%;\"></div>            <script type=\"text/javascript\">                require([\"plotly\"], function(Plotly) {                    window.PLOTLYENV=window.PLOTLYENV || {};                                    if (document.getElementById(\"2a00fbb5-c2d0-448a-b266-82d740565cac\")) {                    Plotly.newPlot(                        \"2a00fbb5-c2d0-448a-b266-82d740565cac\",                        [{\"alignmentgroup\": \"True\", \"hovertemplate\": \"Total Projected Indy Wins=2.0<br>Final Pick=%{x}<br>Percentage of Total Occurances (%)=%{text}<br>Carson Final Snap %=%{marker.color}<extra></extra>\", \"legendgroup\": \"\", \"marker\": {\"color\": [0.6194, 0.6541], \"coloraxis\": \"coloraxis\"}, \"name\": \"\", \"offsetgroup\": \"\", \"orientation\": \"v\", \"showlegend\": false, \"text\": [0.02, 0.01], \"textposition\": \"auto\", \"type\": \"bar\", \"x\": [33, 34], \"xaxis\": \"x\", \"y\": [0.02, 0.01], \"yaxis\": \"y\"}],                        {\"barmode\": \"relative\", \"coloraxis\": {\"cmax\": 0.9959, \"cmin\": 0.6194, \"colorbar\": {\"title\": {\"text\": \"Carson Final Snap %\"}}, \"colorscale\": [[0.0, \"#0d0887\"], [0.1111111111111111, \"#46039f\"], [0.2222222222222222, \"#7201a8\"], [0.3333333333333333, \"#9c179e\"], [0.4444444444444444, \"#bd3786\"], [0.5555555555555556, \"#d8576b\"], [0.6666666666666666, \"#ed7953\"], [0.7777777777777778, \"#fb9f3a\"], [0.8888888888888888, \"#fdca26\"], [1.0, \"#f0f921\"]]}, \"legend\": {\"tracegroupgap\": 0}, \"margin\": {\"b\": 80, \"l\": 80, \"r\": 80, \"t\": 100}, \"paper_bgcolor\": \"LightSteelBlue\", \"sliders\": [{\"active\": 0, \"currentvalue\": {\"prefix\": \"Total Projected Indy Wins=\"}, \"len\": 0.9, \"pad\": {\"b\": 10, \"t\": 60}, \"steps\": [{\"args\": [[\"2.0\"], {\"frame\": {\"duration\": 0, \"redraw\": true}, \"fromcurrent\": true, \"mode\": \"immediate\", \"transition\": {\"duration\": 0, \"easing\": \"linear\"}}], \"label\": \"2.0\", \"method\": \"animate\"}, {\"args\": [[\"3.0\"], {\"frame\": {\"duration\": 0, \"redraw\": true}, \"fromcurrent\": true, \"mode\": \"immediate\", \"transition\": {\"duration\": 0, \"easing\": \"linear\"}}], \"label\": \"3.0\", \"method\": \"animate\"}, {\"args\": [[\"4.0\"], {\"frame\": {\"duration\": 0, \"redraw\": true}, \"fromcurrent\": true, \"mode\": \"immediate\", \"transition\": {\"duration\": 0, \"easing\": \"linear\"}}], \"label\": \"4.0\", \"method\": \"animate\"}, {\"args\": [[\"5.0\"], {\"frame\": {\"duration\": 0, \"redraw\": true}, \"fromcurrent\": true, \"mode\": \"immediate\", \"transition\": {\"duration\": 0, \"easing\": \"linear\"}}], \"label\": \"5.0\", \"method\": \"animate\"}, {\"args\": [[\"6.0\"], {\"frame\": {\"duration\": 0, \"redraw\": true}, \"fromcurrent\": true, \"mode\": \"immediate\", \"transition\": {\"duration\": 0, \"easing\": \"linear\"}}], \"label\": \"6.0\", \"method\": \"animate\"}, {\"args\": [[\"7.0\"], {\"frame\": {\"duration\": 0, \"redraw\": true}, \"fromcurrent\": true, \"mode\": \"immediate\", \"transition\": {\"duration\": 0, \"easing\": \"linear\"}}], \"label\": \"7.0\", \"method\": \"animate\"}, {\"args\": [[\"8.0\"], {\"frame\": {\"duration\": 0, \"redraw\": true}, \"fromcurrent\": true, \"mode\": \"immediate\", \"transition\": {\"duration\": 0, \"easing\": \"linear\"}}], \"label\": \"8.0\", \"method\": \"animate\"}, {\"args\": [[\"9.0\"], {\"frame\": {\"duration\": 0, \"redraw\": true}, \"fromcurrent\": true, \"mode\": \"immediate\", \"transition\": {\"duration\": 0, \"easing\": \"linear\"}}], \"label\": \"9.0\", \"method\": \"animate\"}, {\"args\": [[\"10.0\"], {\"frame\": {\"duration\": 0, \"redraw\": true}, \"fromcurrent\": true, \"mode\": \"immediate\", \"transition\": {\"duration\": 0, \"easing\": \"linear\"}}], \"label\": \"10.0\", \"method\": \"animate\"}, {\"args\": [[\"11.0\"], {\"frame\": {\"duration\": 0, \"redraw\": true}, \"fromcurrent\": true, \"mode\": \"immediate\", \"transition\": {\"duration\": 0, \"easing\": \"linear\"}}], \"label\": \"11.0\", \"method\": \"animate\"}, {\"args\": [[\"12.0\"], {\"frame\": {\"duration\": 0, \"redraw\": true}, \"fromcurrent\": true, \"mode\": \"immediate\", \"transition\": {\"duration\": 0, \"easing\": \"linear\"}}], \"label\": \"12.0\", \"method\": \"animate\"}, {\"args\": [[\"13.0\"], {\"frame\": {\"duration\": 0, \"redraw\": true}, \"fromcurrent\": true, \"mode\": \"immediate\", \"transition\": {\"duration\": 0, \"easing\": \"linear\"}}], \"label\": \"13.0\", \"method\": \"animate\"}, {\"args\": [[\"14.0\"], {\"frame\": {\"duration\": 0, \"redraw\": true}, \"fromcurrent\": true, \"mode\": \"immediate\", \"transition\": {\"duration\": 0, \"easing\": \"linear\"}}], \"label\": \"14.0\", \"method\": \"animate\"}], \"x\": 0.1, \"xanchor\": \"left\", \"y\": 0, \"yanchor\": \"top\"}], \"template\": {\"data\": {\"bar\": [{\"error_x\": {\"color\": \"#2a3f5f\"}, \"error_y\": {\"color\": \"#2a3f5f\"}, \"marker\": {\"line\": {\"color\": \"#E5ECF6\", \"width\": 0.5}}, \"type\": \"bar\"}], \"barpolar\": [{\"marker\": {\"line\": {\"color\": \"#E5ECF6\", \"width\": 0.5}}, \"type\": \"barpolar\"}], \"carpet\": [{\"aaxis\": {\"endlinecolor\": \"#2a3f5f\", \"gridcolor\": \"white\", \"linecolor\": \"white\", \"minorgridcolor\": \"white\", \"startlinecolor\": \"#2a3f5f\"}, \"baxis\": {\"endlinecolor\": \"#2a3f5f\", \"gridcolor\": \"white\", \"linecolor\": \"white\", \"minorgridcolor\": \"white\", \"startlinecolor\": \"#2a3f5f\"}, \"type\": \"carpet\"}], \"choropleth\": [{\"colorbar\": {\"outlinewidth\": 0, \"ticks\": \"\"}, \"type\": \"choropleth\"}], \"contour\": [{\"colorbar\": {\"outlinewidth\": 0, \"ticks\": \"\"}, \"colorscale\": [[0.0, \"#0d0887\"], [0.1111111111111111, \"#46039f\"], [0.2222222222222222, \"#7201a8\"], [0.3333333333333333, \"#9c179e\"], [0.4444444444444444, \"#bd3786\"], [0.5555555555555556, \"#d8576b\"], [0.6666666666666666, \"#ed7953\"], [0.7777777777777778, \"#fb9f3a\"], [0.8888888888888888, \"#fdca26\"], [1.0, \"#f0f921\"]], \"type\": \"contour\"}], \"contourcarpet\": [{\"colorbar\": {\"outlinewidth\": 0, \"ticks\": \"\"}, \"type\": \"contourcarpet\"}], \"heatmap\": [{\"colorbar\": {\"outlinewidth\": 0, \"ticks\": \"\"}, \"colorscale\": [[0.0, \"#0d0887\"], [0.1111111111111111, \"#46039f\"], [0.2222222222222222, \"#7201a8\"], [0.3333333333333333, \"#9c179e\"], [0.4444444444444444, \"#bd3786\"], [0.5555555555555556, \"#d8576b\"], [0.6666666666666666, \"#ed7953\"], [0.7777777777777778, \"#fb9f3a\"], [0.8888888888888888, \"#fdca26\"], [1.0, \"#f0f921\"]], \"type\": \"heatmap\"}], \"heatmapgl\": [{\"colorbar\": {\"outlinewidth\": 0, \"ticks\": \"\"}, \"colorscale\": [[0.0, \"#0d0887\"], [0.1111111111111111, \"#46039f\"], [0.2222222222222222, \"#7201a8\"], [0.3333333333333333, \"#9c179e\"], [0.4444444444444444, \"#bd3786\"], [0.5555555555555556, \"#d8576b\"], [0.6666666666666666, \"#ed7953\"], [0.7777777777777778, \"#fb9f3a\"], [0.8888888888888888, \"#fdca26\"], [1.0, \"#f0f921\"]], \"type\": \"heatmapgl\"}], \"histogram\": [{\"marker\": {\"colorbar\": {\"outlinewidth\": 0, \"ticks\": \"\"}}, \"type\": \"histogram\"}], \"histogram2d\": [{\"colorbar\": {\"outlinewidth\": 0, \"ticks\": \"\"}, \"colorscale\": [[0.0, \"#0d0887\"], [0.1111111111111111, \"#46039f\"], [0.2222222222222222, \"#7201a8\"], [0.3333333333333333, \"#9c179e\"], [0.4444444444444444, \"#bd3786\"], [0.5555555555555556, \"#d8576b\"], [0.6666666666666666, \"#ed7953\"], [0.7777777777777778, \"#fb9f3a\"], [0.8888888888888888, \"#fdca26\"], [1.0, \"#f0f921\"]], \"type\": \"histogram2d\"}], \"histogram2dcontour\": [{\"colorbar\": {\"outlinewidth\": 0, \"ticks\": \"\"}, \"colorscale\": [[0.0, \"#0d0887\"], [0.1111111111111111, \"#46039f\"], [0.2222222222222222, \"#7201a8\"], [0.3333333333333333, \"#9c179e\"], [0.4444444444444444, \"#bd3786\"], [0.5555555555555556, \"#d8576b\"], [0.6666666666666666, \"#ed7953\"], [0.7777777777777778, \"#fb9f3a\"], [0.8888888888888888, \"#fdca26\"], [1.0, \"#f0f921\"]], \"type\": \"histogram2dcontour\"}], \"mesh3d\": [{\"colorbar\": {\"outlinewidth\": 0, \"ticks\": \"\"}, \"type\": \"mesh3d\"}], \"parcoords\": [{\"line\": {\"colorbar\": {\"outlinewidth\": 0, \"ticks\": \"\"}}, \"type\": \"parcoords\"}], \"pie\": [{\"automargin\": true, \"type\": \"pie\"}], \"scatter\": [{\"marker\": {\"colorbar\": {\"outlinewidth\": 0, \"ticks\": \"\"}}, \"type\": \"scatter\"}], \"scatter3d\": [{\"line\": {\"colorbar\": {\"outlinewidth\": 0, \"ticks\": \"\"}}, \"marker\": {\"colorbar\": {\"outlinewidth\": 0, \"ticks\": \"\"}}, \"type\": \"scatter3d\"}], \"scattercarpet\": [{\"marker\": {\"colorbar\": {\"outlinewidth\": 0, \"ticks\": \"\"}}, \"type\": \"scattercarpet\"}], \"scattergeo\": [{\"marker\": {\"colorbar\": {\"outlinewidth\": 0, \"ticks\": \"\"}}, \"type\": \"scattergeo\"}], \"scattergl\": [{\"marker\": {\"colorbar\": {\"outlinewidth\": 0, \"ticks\": \"\"}}, \"type\": \"scattergl\"}], \"scattermapbox\": [{\"marker\": {\"colorbar\": {\"outlinewidth\": 0, \"ticks\": \"\"}}, \"type\": \"scattermapbox\"}], \"scatterpolar\": [{\"marker\": {\"colorbar\": {\"outlinewidth\": 0, \"ticks\": \"\"}}, \"type\": \"scatterpolar\"}], \"scatterpolargl\": [{\"marker\": {\"colorbar\": {\"outlinewidth\": 0, \"ticks\": \"\"}}, \"type\": \"scatterpolargl\"}], \"scatterternary\": [{\"marker\": {\"colorbar\": {\"outlinewidth\": 0, \"ticks\": \"\"}}, \"type\": \"scatterternary\"}], \"surface\": [{\"colorbar\": {\"outlinewidth\": 0, \"ticks\": \"\"}, \"colorscale\": [[0.0, \"#0d0887\"], [0.1111111111111111, \"#46039f\"], [0.2222222222222222, \"#7201a8\"], [0.3333333333333333, \"#9c179e\"], [0.4444444444444444, \"#bd3786\"], [0.5555555555555556, \"#d8576b\"], [0.6666666666666666, \"#ed7953\"], [0.7777777777777778, \"#fb9f3a\"], [0.8888888888888888, \"#fdca26\"], [1.0, \"#f0f921\"]], \"type\": \"surface\"}], \"table\": [{\"cells\": {\"fill\": {\"color\": \"#EBF0F8\"}, \"line\": {\"color\": \"white\"}}, \"header\": {\"fill\": {\"color\": \"#C8D4E3\"}, \"line\": {\"color\": \"white\"}}, \"type\": \"table\"}]}, \"layout\": {\"annotationdefaults\": {\"arrowcolor\": \"#2a3f5f\", \"arrowhead\": 0, \"arrowwidth\": 1}, \"coloraxis\": {\"colorbar\": {\"outlinewidth\": 0, \"ticks\": \"\"}}, \"colorscale\": {\"diverging\": [[0, \"#8e0152\"], [0.1, \"#c51b7d\"], [0.2, \"#de77ae\"], [0.3, \"#f1b6da\"], [0.4, \"#fde0ef\"], [0.5, \"#f7f7f7\"], [0.6, \"#e6f5d0\"], [0.7, \"#b8e186\"], [0.8, \"#7fbc41\"], [0.9, \"#4d9221\"], [1, \"#276419\"]], \"sequential\": [[0.0, \"#0d0887\"], [0.1111111111111111, \"#46039f\"], [0.2222222222222222, \"#7201a8\"], [0.3333333333333333, \"#9c179e\"], [0.4444444444444444, \"#bd3786\"], [0.5555555555555556, \"#d8576b\"], [0.6666666666666666, \"#ed7953\"], [0.7777777777777778, \"#fb9f3a\"], [0.8888888888888888, \"#fdca26\"], [1.0, \"#f0f921\"]], \"sequentialminus\": [[0.0, \"#0d0887\"], [0.1111111111111111, \"#46039f\"], [0.2222222222222222, \"#7201a8\"], [0.3333333333333333, \"#9c179e\"], [0.4444444444444444, \"#bd3786\"], [0.5555555555555556, \"#d8576b\"], [0.6666666666666666, \"#ed7953\"], [0.7777777777777778, \"#fb9f3a\"], [0.8888888888888888, \"#fdca26\"], [1.0, \"#f0f921\"]]}, \"colorway\": [\"#636efa\", \"#EF553B\", \"#00cc96\", \"#ab63fa\", \"#FFA15A\", \"#19d3f3\", \"#FF6692\", \"#B6E880\", \"#FF97FF\", \"#FECB52\"], \"font\": {\"color\": \"#2a3f5f\"}, \"geo\": {\"bgcolor\": \"white\", \"lakecolor\": \"white\", \"landcolor\": \"#E5ECF6\", \"showlakes\": true, \"showland\": true, \"subunitcolor\": \"white\"}, \"hoverlabel\": {\"align\": \"left\"}, \"hovermode\": \"closest\", \"mapbox\": {\"style\": \"light\"}, \"paper_bgcolor\": \"white\", \"plot_bgcolor\": \"#E5ECF6\", \"polar\": {\"angularaxis\": {\"gridcolor\": \"white\", \"linecolor\": \"white\", \"ticks\": \"\"}, \"bgcolor\": \"#E5ECF6\", \"radialaxis\": {\"gridcolor\": \"white\", \"linecolor\": \"white\", \"ticks\": \"\"}}, \"scene\": {\"xaxis\": {\"backgroundcolor\": \"#E5ECF6\", \"gridcolor\": \"white\", \"gridwidth\": 2, \"linecolor\": \"white\", \"showbackground\": true, \"ticks\": \"\", \"zerolinecolor\": \"white\"}, \"yaxis\": {\"backgroundcolor\": \"#E5ECF6\", \"gridcolor\": \"white\", \"gridwidth\": 2, \"linecolor\": \"white\", \"showbackground\": true, \"ticks\": \"\", \"zerolinecolor\": \"white\"}, \"zaxis\": {\"backgroundcolor\": \"#E5ECF6\", \"gridcolor\": \"white\", \"gridwidth\": 2, \"linecolor\": \"white\", \"showbackground\": true, \"ticks\": \"\", \"zerolinecolor\": \"white\"}}, \"shapedefaults\": {\"line\": {\"color\": \"#2a3f5f\"}}, \"ternary\": {\"aaxis\": {\"gridcolor\": \"white\", \"linecolor\": \"white\", \"ticks\": \"\"}, \"baxis\": {\"gridcolor\": \"white\", \"linecolor\": \"white\", \"ticks\": \"\"}, \"bgcolor\": \"#E5ECF6\", \"caxis\": {\"gridcolor\": \"white\", \"linecolor\": \"white\", \"ticks\": \"\"}}, \"title\": {\"x\": 0.05}, \"xaxis\": {\"automargin\": true, \"gridcolor\": \"white\", \"linecolor\": \"white\", \"ticks\": \"\", \"title\": {\"standoff\": 15}, \"zerolinecolor\": \"white\", \"zerolinewidth\": 2}, \"yaxis\": {\"automargin\": true, \"gridcolor\": \"white\", \"linecolor\": \"white\", \"ticks\": \"\", \"title\": {\"standoff\": 15}, \"zerolinecolor\": \"white\", \"zerolinewidth\": 2}}}, \"title\": {\"text\": \"Projected Final Comp. Pick from Colts to Eagles by Total Projected Indy Wins\"}, \"updatemenus\": [{\"buttons\": [{\"args\": [null, {\"frame\": {\"duration\": 500, \"redraw\": true}, \"fromcurrent\": true, \"mode\": \"immediate\", \"transition\": {\"duration\": 500, \"easing\": \"linear\"}}], \"label\": \"&#9654;\", \"method\": \"animate\"}, {\"args\": [[null], {\"frame\": {\"duration\": 0, \"redraw\": true}, \"fromcurrent\": true, \"mode\": \"immediate\", \"transition\": {\"duration\": 0, \"easing\": \"linear\"}}], \"label\": \"&#9724;\", \"method\": \"animate\"}], \"direction\": \"left\", \"pad\": {\"r\": 10, \"t\": 70}, \"showactive\": false, \"type\": \"buttons\", \"x\": 0.1, \"xanchor\": \"right\", \"y\": 0, \"yanchor\": \"top\"}], \"xaxis\": {\"anchor\": \"y\", \"domain\": [0.0, 1.0], \"range\": [1, 63], \"title\": {\"text\": \"Final Pick\"}}, \"yaxis\": {\"anchor\": \"x\", \"domain\": [0.0, 1.0], \"range\": [0.01, 3.95], \"title\": {\"text\": \"Percentage of Total Occurances (%)\"}}},                        {\"responsive\": true}                    ).then(function(){\n",
       "                            Plotly.addFrames('2a00fbb5-c2d0-448a-b266-82d740565cac', [{\"data\": [{\"alignmentgroup\": \"True\", \"hovertemplate\": \"Total Projected Indy Wins=2.0<br>Final Pick=%{x}<br>Percentage of Total Occurances (%)=%{text}<br>Carson Final Snap %=%{marker.color}<extra></extra>\", \"legendgroup\": \"\", \"marker\": {\"color\": [0.6194, 0.6541], \"coloraxis\": \"coloraxis\"}, \"name\": \"\", \"offsetgroup\": \"\", \"orientation\": \"v\", \"showlegend\": false, \"text\": [0.02, 0.01], \"textposition\": \"auto\", \"x\": [33, 34], \"xaxis\": \"x\", \"y\": [0.02, 0.01], \"yaxis\": \"y\", \"type\": \"bar\"}], \"name\": \"2.0\"}, {\"data\": [{\"alignmentgroup\": \"True\", \"hovertemplate\": \"Total Projected Indy Wins=3.0<br>Final Pick=%{x}<br>Percentage of Total Occurances (%)=%{text}<br>Carson Final Snap %=%{marker.color}<extra></extra>\", \"legendgroup\": \"\", \"marker\": {\"color\": [0.7535, 0.6465, 0.6381, 0.655, 0.7186], \"coloraxis\": \"coloraxis\"}, \"name\": \"\", \"offsetgroup\": \"\", \"orientation\": \"v\", \"showlegend\": false, \"text\": [0.01, 0.09, 0.06, 0.03, 0.01], \"textposition\": \"auto\", \"x\": [2, 33, 34, 35, 36], \"xaxis\": \"x\", \"y\": [0.01, 0.09, 0.06, 0.03, 0.01], \"yaxis\": \"y\", \"type\": \"bar\"}], \"name\": \"3.0\"}, {\"data\": [{\"alignmentgroup\": \"True\", \"hovertemplate\": \"Total Projected Indy Wins=4.0<br>Final Pick=%{x}<br>Percentage of Total Occurances (%)=%{text}<br>Carson Final Snap %=%{marker.color}<extra></extra>\", \"legendgroup\": \"\", \"marker\": {\"color\": [0.762, 0.7928, 0.7817, 0.7746, 0.7844, 0.6654, 0.6827, 0.6877, 0.6844, 0.6909], \"coloraxis\": \"coloraxis\"}, \"name\": \"\", \"offsetgroup\": \"\", \"orientation\": \"v\", \"showlegend\": false, \"text\": [0.01, 0.1, 0.11, 0.09, 0.05, 0.09, 0.27, 0.3, 0.23, 0.13], \"textposition\": \"auto\", \"x\": [1, 2, 3, 4, 5, 33, 34, 35, 36, 37], \"xaxis\": \"x\", \"y\": [0.01, 0.1, 0.11, 0.09, 0.05, 0.09, 0.27, 0.3, 0.23, 0.13], \"yaxis\": \"y\", \"type\": \"bar\"}], \"name\": \"4.0\"}, {\"data\": [{\"alignmentgroup\": \"True\", \"hovertemplate\": \"Total Projected Indy Wins=5.0<br>Final Pick=%{x}<br>Percentage of Total Occurances (%)=%{text}<br>Carson Final Snap %=%{marker.color}<extra></extra>\", \"legendgroup\": \"\", \"marker\": {\"color\": [0.762, 0.8305, 0.7965, 0.8024, 0.7943, 0.7874, 0.7968, 0.7671, 0.7701, 0.6791, 0.7145, 0.6881, 0.6906, 0.6989, 0.6987, 0.6958, 0.6678, 0.7295], \"coloraxis\": \"coloraxis\"}, \"name\": \"\", \"offsetgroup\": \"\", \"orientation\": \"v\", \"showlegend\": false, \"text\": [0.01, 0.05, 0.29, 0.64, 0.62, 0.37, 0.21, 0.04, 0.02, 0.07, 0.29, 0.75, 0.89, 0.7, 0.37, 0.14, 0.04, 0.01], \"textposition\": \"auto\", \"x\": [1, 2, 3, 4, 5, 6, 7, 8, 9, 34, 35, 36, 37, 38, 39, 40, 41, 43], \"xaxis\": \"x\", \"y\": [0.01, 0.05, 0.29, 0.64, 0.62, 0.37, 0.21, 0.04, 0.02, 0.07, 0.29, 0.75, 0.89, 0.7, 0.37, 0.14, 0.04, 0.01], \"yaxis\": \"y\", \"type\": \"bar\"}], \"name\": \"5.0\"}, {\"data\": [{\"alignmentgroup\": \"True\", \"hovertemplate\": \"Total Projected Indy Wins=6.0<br>Final Pick=%{x}<br>Percentage of Total Occurances (%)=%{text}<br>Carson Final Snap %=%{marker.color}<extra></extra>\", \"legendgroup\": \"\", \"marker\": {\"color\": [0.822, 0.826, 0.8219, 0.8279, 0.8216, 0.8229, 0.825, 0.8364, 0.8191, 0.7766, 0.9111, 0.8483, 0.9581, 0.7164, 0.7026, 0.7164, 0.7005, 0.7098, 0.6999, 0.714, 0.7021, 0.707, 0.6998, 0.7004], \"coloraxis\": \"coloraxis\"}, \"name\": \"\", \"offsetgroup\": \"\", \"orientation\": \"v\", \"showlegend\": false, \"text\": [0.02, 0.17, 0.44, 1.19, 1.71, 2.1, 1.46, 0.58, 0.25, 0.03, 0.01, 0.01, 0.01, 0.01, 0.06, 0.26, 0.65, 0.92, 1.2, 0.76, 0.36, 0.15, 0.08, 0.01], \"textposition\": \"auto\", \"x\": [3, 4, 5, 6, 7, 8, 9, 10, 11, 12, 20, 25, 31, 35, 36, 37, 38, 39, 40, 41, 42, 43, 44, 53], \"xaxis\": \"x\", \"y\": [0.02, 0.17, 0.44, 1.19, 1.71, 2.1, 1.46, 0.58, 0.25, 0.03, 0.01, 0.01, 0.01, 0.01, 0.06, 0.26, 0.65, 0.92, 1.2, 0.76, 0.36, 0.15, 0.08, 0.01], \"yaxis\": \"y\", \"type\": \"bar\"}], \"name\": \"6.0\"}, {\"data\": [{\"alignmentgroup\": \"True\", \"hovertemplate\": \"Total Projected Indy Wins=7.0<br>Final Pick=%{x}<br>Percentage of Total Occurances (%)=%{text}<br>Carson Final Snap %=%{marker.color}<extra></extra>\", \"legendgroup\": \"\", \"marker\": {\"color\": [0.8113, 0.8729, 0.8661, 0.8535, 0.8526, 0.8529, 0.8597, 0.8527, 0.8512, 0.8634, 0.8766, 0.8768, 0.7838, 0.9165, 0.9183, 0.9302, 0.9165, 0.92, 0.918, 0.9432, 0.9331, 0.9445, 0.8932, 0.8909, 0.9271, 0.9498, 0.6917, 0.7123, 0.7045, 0.7105, 0.7144, 0.7083, 0.7111, 0.7035, 0.7032, 0.7319], \"coloraxis\": \"coloraxis\"}, \"name\": \"\", \"offsetgroup\": \"\", \"orientation\": \"v\", \"showlegend\": false, \"text\": [0.01, 0.07, 0.41, 1.23, 2.09, 3.18, 3.48, 2.85, 1.53, 0.66, 0.14, 0.08, 0.01, 0.11, 0.13, 0.03, 0.07, 0.08, 0.06, 0.06, 0.05, 0.1, 0.02, 0.07, 0.05, 0.02, 0.03, 0.09, 0.24, 0.61, 0.69, 0.76, 0.55, 0.4, 0.13, 0.04], \"textposition\": \"auto\", \"x\": [5, 6, 7, 8, 9, 10, 11, 12, 13, 14, 15, 16, 17, 19, 20, 21, 22, 23, 24, 25, 26, 27, 28, 29, 30, 31, 38, 39, 40, 41, 42, 43, 44, 45, 46, 47], \"xaxis\": \"x\", \"y\": [0.01, 0.07, 0.41, 1.23, 2.09, 3.18, 3.48, 2.85, 1.53, 0.66, 0.14, 0.08, 0.01, 0.11, 0.13, 0.03, 0.07, 0.08, 0.06, 0.06, 0.05, 0.1, 0.02, 0.07, 0.05, 0.02, 0.03, 0.09, 0.24, 0.61, 0.69, 0.76, 0.55, 0.4, 0.13, 0.04], \"yaxis\": \"y\", \"type\": \"bar\"}], \"name\": \"7.0\"}, {\"data\": [{\"alignmentgroup\": \"True\", \"hovertemplate\": \"Total Projected Indy Wins=8.0<br>Final Pick=%{x}<br>Percentage of Total Occurances (%)=%{text}<br>Carson Final Snap %=%{marker.color}<extra></extra>\", \"legendgroup\": \"\", \"marker\": {\"color\": [0.9001, 0.8927, 0.8926, 0.8786, 0.8777, 0.8805, 0.8774, 0.8838, 0.8814, 0.8864, 0.8938, 0.927, 0.9384, 0.9381, 0.9328, 0.9422, 0.9294, 0.9295, 0.93, 0.9312, 0.9283, 0.9404, 0.9318, 0.9329, 0.8103, 0.7032, 0.7178, 0.7088, 0.7167, 0.7216, 0.7109, 0.7143, 0.6853, 0.7342, 0.6972, 0.6712, 0.7206, 0.6764], \"coloraxis\": \"coloraxis\"}, \"name\": \"\", \"offsetgroup\": \"\", \"orientation\": \"v\", \"showlegend\": false, \"text\": [0.02, 0.1, 0.3, 1.16, 2.07, 3.23, 3.95, 3.31, 2.12, 0.94, 0.2, 0.43, 0.45, 0.34, 0.46, 0.41, 0.41, 0.25, 0.3, 0.23, 0.31, 0.26, 0.19, 0.19, 0.01, 0.13, 0.17, 0.38, 0.32, 0.33, 0.22, 0.1, 0.01, 0.01, 0.01, 0.01, 0.01, 0.01], \"textposition\": \"auto\", \"x\": [8, 9, 10, 11, 12, 13, 14, 15, 16, 17, 18, 19, 20, 21, 22, 23, 24, 25, 26, 27, 28, 29, 30, 31, 32, 43, 44, 45, 46, 47, 48, 49, 50, 52, 55, 56, 60, 63], \"xaxis\": \"x\", \"y\": [0.02, 0.1, 0.3, 1.16, 2.07, 3.23, 3.95, 3.31, 2.12, 0.94, 0.2, 0.43, 0.45, 0.34, 0.46, 0.41, 0.41, 0.25, 0.3, 0.23, 0.31, 0.26, 0.19, 0.19, 0.01, 0.13, 0.17, 0.38, 0.32, 0.33, 0.22, 0.1, 0.01, 0.01, 0.01, 0.01, 0.01, 0.01], \"yaxis\": \"y\", \"type\": \"bar\"}], \"name\": \"8.0\"}, {\"data\": [{\"alignmentgroup\": \"True\", \"hovertemplate\": \"Total Projected Indy Wins=9.0<br>Final Pick=%{x}<br>Percentage of Total Occurances (%)=%{text}<br>Carson Final Snap %=%{marker.color}<extra></extra>\", \"legendgroup\": \"\", \"marker\": {\"color\": [0.9096, 0.9026, 0.9006, 0.9064, 0.9036, 0.9053, 0.9438, 0.9337, 0.9252, 0.935, 0.9373, 0.9421, 0.9345, 0.9329, 0.9278, 0.944, 0.9299, 0.9345, 0.9367, 0.9432, 0.7093, 0.713, 0.7052, 0.7412, 0.7315, 0.7003, 0.7478, 0.7465], \"coloraxis\": \"coloraxis\"}, \"name\": \"\", \"offsetgroup\": \"\", \"orientation\": \"v\", \"showlegend\": false, \"text\": [0.15, 0.4, 1.15, 1.97, 2.68, 2.22, 0.91, 1.12, 1.11, 0.84, 1.14, 0.95, 0.79, 0.89, 0.83, 0.76, 0.56, 0.6, 0.44, 0.03, 0.02, 0.04, 0.1, 0.02, 0.01, 0.01, 0.01, 0.01], \"textposition\": \"auto\", \"x\": [13, 14, 15, 16, 17, 18, 19, 20, 21, 22, 23, 24, 25, 26, 27, 28, 29, 30, 31, 32, 47, 48, 49, 50, 54, 58, 59, 61], \"xaxis\": \"x\", \"y\": [0.15, 0.4, 1.15, 1.97, 2.68, 2.22, 0.91, 1.12, 1.11, 0.84, 1.14, 0.95, 0.79, 0.89, 0.83, 0.76, 0.56, 0.6, 0.44, 0.03, 0.02, 0.04, 0.1, 0.02, 0.01, 0.01, 0.01, 0.01], \"yaxis\": \"y\", \"type\": \"bar\"}], \"name\": \"9.0\"}, {\"data\": [{\"alignmentgroup\": \"True\", \"hovertemplate\": \"Total Projected Indy Wins=10.0<br>Final Pick=%{x}<br>Percentage of Total Occurances (%)=%{text}<br>Carson Final Snap %=%{marker.color}<extra></extra>\", \"legendgroup\": \"\", \"marker\": {\"color\": [0.9959, 0.9545, 0.9246, 0.9275, 0.9397, 0.9402, 0.9443, 0.9426, 0.9367, 0.9488, 0.9467, 0.9356, 0.9407, 0.9414, 0.9442, 0.9456, 0.9436, 0.9362, 0.7361, 0.7036, 0.7403, 0.6815], \"coloraxis\": \"coloraxis\"}, \"name\": \"\", \"offsetgroup\": \"\", \"orientation\": \"v\", \"showlegend\": false, \"text\": [0.01, 0.04, 0.23, 0.59, 1.01, 1.05, 1.03, 1.16, 0.99, 0.87, 0.66, 0.86, 0.64, 0.88, 0.62, 0.65, 0.46, 0.03, 0.02, 0.01, 0.01, 0.01], \"textposition\": \"auto\", \"x\": [15, 16, 17, 18, 19, 20, 21, 22, 23, 24, 25, 26, 27, 28, 29, 30, 31, 32, 50, 56, 58, 63], \"xaxis\": \"x\", \"y\": [0.01, 0.04, 0.23, 0.59, 1.01, 1.05, 1.03, 1.16, 0.99, 0.87, 0.66, 0.86, 0.64, 0.88, 0.62, 0.65, 0.46, 0.03, 0.02, 0.01, 0.01, 0.01], \"yaxis\": \"y\", \"type\": \"bar\"}], \"name\": \"10.0\"}, {\"data\": [{\"alignmentgroup\": \"True\", \"hovertemplate\": \"Total Projected Indy Wins=11.0<br>Final Pick=%{x}<br>Percentage of Total Occurances (%)=%{text}<br>Carson Final Snap %=%{marker.color}<extra></extra>\", \"legendgroup\": \"\", \"marker\": {\"color\": [0.9164, 0.9386, 0.952, 0.9564, 0.9474, 0.9555, 0.9491, 0.9461, 0.9567, 0.9504, 0.9492, 0.9499, 0.9411, 0.9442], \"coloraxis\": \"coloraxis\"}, \"name\": \"\", \"offsetgroup\": \"\", \"orientation\": \"v\", \"showlegend\": false, \"text\": [0.01, 0.36, 0.38, 0.39, 0.29, 0.42, 0.5, 0.37, 0.24, 0.35, 0.3, 0.25, 0.21, 0.09], \"textposition\": \"auto\", \"x\": [18, 19, 20, 21, 22, 23, 24, 25, 26, 27, 28, 29, 30, 31], \"xaxis\": \"x\", \"y\": [0.01, 0.36, 0.38, 0.39, 0.29, 0.42, 0.5, 0.37, 0.24, 0.35, 0.3, 0.25, 0.21, 0.09], \"yaxis\": \"y\", \"type\": \"bar\"}], \"name\": \"11.0\"}, {\"data\": [{\"alignmentgroup\": \"True\", \"hovertemplate\": \"Total Projected Indy Wins=12.0<br>Final Pick=%{x}<br>Percentage of Total Occurances (%)=%{text}<br>Carson Final Snap %=%{marker.color}<extra></extra>\", \"legendgroup\": \"\", \"marker\": {\"color\": [0.9524, 0.9622, 0.9638, 0.9473, 0.962, 0.9713, 0.9547, 0.9668, 0.9472, 0.9197, 0.9681, 0.943, 0.9601], \"coloraxis\": \"coloraxis\"}, \"name\": \"\", \"offsetgroup\": \"\", \"orientation\": \"v\", \"showlegend\": false, \"text\": [0.15, 0.04, 0.09, 0.12, 0.09, 0.12, 0.11, 0.1, 0.1, 0.03, 0.05, 0.04, 0.04], \"textposition\": \"auto\", \"x\": [19, 20, 21, 22, 23, 24, 25, 26, 27, 28, 29, 30, 31], \"xaxis\": \"x\", \"y\": [0.15, 0.04, 0.09, 0.12, 0.09, 0.12, 0.11, 0.1, 0.1, 0.03, 0.05, 0.04, 0.04], \"yaxis\": \"y\", \"type\": \"bar\"}], \"name\": \"12.0\"}, {\"data\": [{\"alignmentgroup\": \"True\", \"hovertemplate\": \"Total Projected Indy Wins=13.0<br>Final Pick=%{x}<br>Percentage of Total Occurances (%)=%{text}<br>Carson Final Snap %=%{marker.color}<extra></extra>\", \"legendgroup\": \"\", \"marker\": {\"color\": [0.9959, 0.9556, 0.9712, 0.9776, 0.9959, 0.9478], \"coloraxis\": \"coloraxis\"}, \"name\": \"\", \"offsetgroup\": \"\", \"orientation\": \"v\", \"showlegend\": false, \"text\": [0.01, 0.03, 0.02, 0.02, 0.01, 0.02], \"textposition\": \"auto\", \"x\": [19, 21, 22, 26, 27, 31], \"xaxis\": \"x\", \"y\": [0.01, 0.03, 0.02, 0.02, 0.01, 0.02], \"yaxis\": \"y\", \"type\": \"bar\"}], \"name\": \"13.0\"}, {\"data\": [{\"alignmentgroup\": \"True\", \"hovertemplate\": \"Total Projected Indy Wins=14.0<br>Final Pick=%{x}<br>Percentage of Total Occurances (%)=%{text}<br>Carson Final Snap %=%{marker.color}<extra></extra>\", \"legendgroup\": \"\", \"marker\": {\"color\": [0.9781, 0.9271], \"coloraxis\": \"coloraxis\"}, \"name\": \"\", \"offsetgroup\": \"\", \"orientation\": \"v\", \"showlegend\": false, \"text\": [0.01, 0.01], \"textposition\": \"auto\", \"x\": [19, 25], \"xaxis\": \"x\", \"y\": [0.01, 0.01], \"yaxis\": \"y\", \"type\": \"bar\"}], \"name\": \"14.0\"}]);\n",
       "                        }).then(function(){\n",
       "                            \n",
       "var gd = document.getElementById('2a00fbb5-c2d0-448a-b266-82d740565cac');\n",
       "var x = new MutationObserver(function (mutations, observer) {{\n",
       "        var display = window.getComputedStyle(gd).display;\n",
       "        if (!display || display === 'none') {{\n",
       "            console.log([gd, 'removed!']);\n",
       "            Plotly.purge(gd);\n",
       "            observer.disconnect();\n",
       "        }}\n",
       "}});\n",
       "\n",
       "// Listen for the removal of the full notebook cells\n",
       "var notebookContainer = gd.closest('#notebook-container');\n",
       "if (notebookContainer) {{\n",
       "    x.observe(notebookContainer, {childList: true});\n",
       "}}\n",
       "\n",
       "// Listen for the clearing of the current output cell\n",
       "var outputEl = gd.closest('.output');\n",
       "if (outputEl) {{\n",
       "    x.observe(outputEl, {childList: true});\n",
       "}}\n",
       "\n",
       "                        })                };                });            </script>        </div>"
      ]
     },
     "metadata": {},
     "output_type": "display_data"
    }
   ],
   "source": [
    "Wins_by_First_Quarter_Result=IND_WINS.groupby(['Final Pick','Total Projected Indy Wins'],as_index=False)['Percentage of Total Occurances (%)'].sum()\n",
    "Carson_Final_Snap_Percentage=IND_WINS.groupby([\"Final Pick\",'Total Projected Indy Wins'],as_index=False)['Carson Final Snap %'].mean()\n",
    "Wins_by_First_Quarter_Result=pd.merge(Wins_by_First_Quarter_Result,Carson_Final_Snap_Percentage,how=\"inner\",\n",
    "        left_on=['Total Projected Indy Wins',\"Final Pick\"], right_on=['Total Projected Indy Wins',\"Final Pick\"])\n",
    "Wins_by_First_Quarter_Result=Wins_by_First_Quarter_Result.round(4)\n",
    "Plotly_Bar_Plot(df=Wins_by_First_Quarter_Result,Fact1='Final Pick',slider_text='Total Projected Indy Wins',\n",
    "                Color_Titler='Carson Final Snap %',Value='Percentage of Total Occurances (%)',titler='Projected Final Comp. Pick from Colts to Eagles by Total Projected Indy Wins')"
   ]
  },
  {
   "cell_type": "markdown",
   "id": "b14c8a20",
   "metadata": {},
   "source": [
    "## Making Playoffs vs. NOT"
   ]
  },
  {
   "cell_type": "code",
   "execution_count": 91,
   "id": "e4cfd09b",
   "metadata": {},
   "outputs": [
    {
     "data": {
      "text/html": [
       "<div>                            <div id=\"de12f420-ddf4-444c-8ca8-fa6b70e8c84a\" class=\"plotly-graph-div\" style=\"height:525px; width:100%;\"></div>            <script type=\"text/javascript\">                require([\"plotly\"], function(Plotly) {                    window.PLOTLYENV=window.PLOTLYENV || {};                                    if (document.getElementById(\"de12f420-ddf4-444c-8ca8-fa6b70e8c84a\")) {                    Plotly.newPlot(                        \"de12f420-ddf4-444c-8ca8-fa6b70e8c84a\",                        [{\"alignmentgroup\": \"True\", \"hovertemplate\": \"Colts Made Playoffs=False<br>Final Pick=%{x}<br>Percentage of Total Occurances (%)=%{text}<br>Carson Final Snap %=%{marker.color}<extra></extra>\", \"legendgroup\": \"\", \"marker\": {\"color\": [0.762, 0.8021, 0.7938, 0.8041, 0.8048, 0.8206, 0.8272, 0.8338, 0.8423, 0.8535, 0.8621, 0.8627, 0.8722, 0.8775, 0.888, 0.8937, 0.9004, 0.9089, 0.6523, 0.6749, 0.6989, 0.6884, 0.6959, 0.6995, 0.707, 0.7002, 0.7112, 0.7102, 0.7077, 0.7114, 0.7061, 0.7128, 0.722, 0.7112, 0.7098, 0.728], \"coloraxis\": \"coloraxis\"}, \"name\": \"\", \"offsetgroup\": \"\", \"orientation\": \"v\", \"showlegend\": false, \"text\": [0.02, 0.16, 0.42, 0.9, 1.12, 1.63, 2.33, 3.39, 3.67, 4.06, 4.89, 4.95, 4.91, 5.01, 4.61, 4.21, 3.86, 3.02, 0.2, 0.41, 0.63, 1.05, 1.28, 1.38, 1.38, 1.58, 1.41, 1.05, 1.05, 0.8, 0.78, 0.45, 0.39, 0.26, 0.2, 0.05], \"textposition\": \"auto\", \"type\": \"bar\", \"x\": [1, 2, 3, 4, 5, 6, 7, 8, 9, 10, 11, 12, 13, 14, 15, 16, 17, 18, 33, 34, 35, 36, 37, 38, 39, 40, 41, 42, 43, 44, 45, 46, 47, 48, 49, 50], \"xaxis\": \"x\", \"y\": [0.02, 0.16, 0.42, 0.9, 1.12, 1.63, 2.33, 3.39, 3.67, 4.06, 4.89, 4.95, 4.91, 5.01, 4.61, 4.21, 3.86, 3.02, 0.2, 0.41, 0.63, 1.05, 1.28, 1.38, 1.38, 1.58, 1.41, 1.05, 1.05, 0.8, 0.78, 0.45, 0.39, 0.26, 0.2, 0.05], \"yaxis\": \"y\"}],                        {\"barmode\": \"relative\", \"coloraxis\": {\"cmax\": 0.9442, \"cmin\": 0.6523, \"colorbar\": {\"title\": {\"text\": \"Carson Final Snap %\"}}, \"colorscale\": [[0.0, \"#0d0887\"], [0.1111111111111111, \"#46039f\"], [0.2222222222222222, \"#7201a8\"], [0.3333333333333333, \"#9c179e\"], [0.4444444444444444, \"#bd3786\"], [0.5555555555555556, \"#d8576b\"], [0.6666666666666666, \"#ed7953\"], [0.7777777777777778, \"#fb9f3a\"], [0.8888888888888888, \"#fdca26\"], [1.0, \"#f0f921\"]]}, \"legend\": {\"tracegroupgap\": 0}, \"margin\": {\"b\": 80, \"l\": 80, \"r\": 80, \"t\": 100}, \"paper_bgcolor\": \"LightSteelBlue\", \"sliders\": [{\"active\": 0, \"currentvalue\": {\"prefix\": \"Colts Made Playoffs=\"}, \"len\": 0.9, \"pad\": {\"b\": 10, \"t\": 60}, \"steps\": [{\"args\": [[\"False\"], {\"frame\": {\"duration\": 0, \"redraw\": true}, \"fromcurrent\": true, \"mode\": \"immediate\", \"transition\": {\"duration\": 0, \"easing\": \"linear\"}}], \"label\": \"False\", \"method\": \"animate\"}, {\"args\": [[\"True\"], {\"frame\": {\"duration\": 0, \"redraw\": true}, \"fromcurrent\": true, \"mode\": \"immediate\", \"transition\": {\"duration\": 0, \"easing\": \"linear\"}}], \"label\": \"True\", \"method\": \"animate\"}], \"x\": 0.1, \"xanchor\": \"left\", \"y\": 0, \"yanchor\": \"top\"}], \"template\": {\"data\": {\"bar\": [{\"error_x\": {\"color\": \"#2a3f5f\"}, \"error_y\": {\"color\": \"#2a3f5f\"}, \"marker\": {\"line\": {\"color\": \"#E5ECF6\", \"width\": 0.5}}, \"type\": \"bar\"}], \"barpolar\": [{\"marker\": {\"line\": {\"color\": \"#E5ECF6\", \"width\": 0.5}}, \"type\": \"barpolar\"}], \"carpet\": [{\"aaxis\": {\"endlinecolor\": \"#2a3f5f\", \"gridcolor\": \"white\", \"linecolor\": \"white\", \"minorgridcolor\": \"white\", \"startlinecolor\": \"#2a3f5f\"}, \"baxis\": {\"endlinecolor\": \"#2a3f5f\", \"gridcolor\": \"white\", \"linecolor\": \"white\", \"minorgridcolor\": \"white\", \"startlinecolor\": \"#2a3f5f\"}, \"type\": \"carpet\"}], \"choropleth\": [{\"colorbar\": {\"outlinewidth\": 0, \"ticks\": \"\"}, \"type\": \"choropleth\"}], \"contour\": [{\"colorbar\": {\"outlinewidth\": 0, \"ticks\": \"\"}, \"colorscale\": [[0.0, \"#0d0887\"], [0.1111111111111111, \"#46039f\"], [0.2222222222222222, \"#7201a8\"], [0.3333333333333333, \"#9c179e\"], [0.4444444444444444, \"#bd3786\"], [0.5555555555555556, \"#d8576b\"], [0.6666666666666666, \"#ed7953\"], [0.7777777777777778, \"#fb9f3a\"], [0.8888888888888888, \"#fdca26\"], [1.0, \"#f0f921\"]], \"type\": \"contour\"}], \"contourcarpet\": [{\"colorbar\": {\"outlinewidth\": 0, \"ticks\": \"\"}, \"type\": \"contourcarpet\"}], \"heatmap\": [{\"colorbar\": {\"outlinewidth\": 0, \"ticks\": \"\"}, \"colorscale\": [[0.0, \"#0d0887\"], [0.1111111111111111, \"#46039f\"], [0.2222222222222222, \"#7201a8\"], [0.3333333333333333, \"#9c179e\"], [0.4444444444444444, \"#bd3786\"], [0.5555555555555556, \"#d8576b\"], [0.6666666666666666, \"#ed7953\"], [0.7777777777777778, \"#fb9f3a\"], [0.8888888888888888, \"#fdca26\"], [1.0, \"#f0f921\"]], \"type\": \"heatmap\"}], \"heatmapgl\": [{\"colorbar\": {\"outlinewidth\": 0, \"ticks\": \"\"}, \"colorscale\": [[0.0, \"#0d0887\"], [0.1111111111111111, \"#46039f\"], [0.2222222222222222, \"#7201a8\"], [0.3333333333333333, \"#9c179e\"], [0.4444444444444444, \"#bd3786\"], [0.5555555555555556, \"#d8576b\"], [0.6666666666666666, \"#ed7953\"], [0.7777777777777778, \"#fb9f3a\"], [0.8888888888888888, \"#fdca26\"], [1.0, \"#f0f921\"]], \"type\": \"heatmapgl\"}], \"histogram\": [{\"marker\": {\"colorbar\": {\"outlinewidth\": 0, \"ticks\": \"\"}}, \"type\": \"histogram\"}], \"histogram2d\": [{\"colorbar\": {\"outlinewidth\": 0, \"ticks\": \"\"}, \"colorscale\": [[0.0, \"#0d0887\"], [0.1111111111111111, \"#46039f\"], [0.2222222222222222, \"#7201a8\"], [0.3333333333333333, \"#9c179e\"], [0.4444444444444444, \"#bd3786\"], [0.5555555555555556, \"#d8576b\"], [0.6666666666666666, \"#ed7953\"], [0.7777777777777778, \"#fb9f3a\"], [0.8888888888888888, \"#fdca26\"], [1.0, \"#f0f921\"]], \"type\": \"histogram2d\"}], \"histogram2dcontour\": [{\"colorbar\": {\"outlinewidth\": 0, \"ticks\": \"\"}, \"colorscale\": [[0.0, \"#0d0887\"], [0.1111111111111111, \"#46039f\"], [0.2222222222222222, \"#7201a8\"], [0.3333333333333333, \"#9c179e\"], [0.4444444444444444, \"#bd3786\"], [0.5555555555555556, \"#d8576b\"], [0.6666666666666666, \"#ed7953\"], [0.7777777777777778, \"#fb9f3a\"], [0.8888888888888888, \"#fdca26\"], [1.0, \"#f0f921\"]], \"type\": \"histogram2dcontour\"}], \"mesh3d\": [{\"colorbar\": {\"outlinewidth\": 0, \"ticks\": \"\"}, \"type\": \"mesh3d\"}], \"parcoords\": [{\"line\": {\"colorbar\": {\"outlinewidth\": 0, \"ticks\": \"\"}}, \"type\": \"parcoords\"}], \"pie\": [{\"automargin\": true, \"type\": \"pie\"}], \"scatter\": [{\"marker\": {\"colorbar\": {\"outlinewidth\": 0, \"ticks\": \"\"}}, \"type\": \"scatter\"}], \"scatter3d\": [{\"line\": {\"colorbar\": {\"outlinewidth\": 0, \"ticks\": \"\"}}, \"marker\": {\"colorbar\": {\"outlinewidth\": 0, \"ticks\": \"\"}}, \"type\": \"scatter3d\"}], \"scattercarpet\": [{\"marker\": {\"colorbar\": {\"outlinewidth\": 0, \"ticks\": \"\"}}, \"type\": \"scattercarpet\"}], \"scattergeo\": [{\"marker\": {\"colorbar\": {\"outlinewidth\": 0, \"ticks\": \"\"}}, \"type\": \"scattergeo\"}], \"scattergl\": [{\"marker\": {\"colorbar\": {\"outlinewidth\": 0, \"ticks\": \"\"}}, \"type\": \"scattergl\"}], \"scattermapbox\": [{\"marker\": {\"colorbar\": {\"outlinewidth\": 0, \"ticks\": \"\"}}, \"type\": \"scattermapbox\"}], \"scatterpolar\": [{\"marker\": {\"colorbar\": {\"outlinewidth\": 0, \"ticks\": \"\"}}, \"type\": \"scatterpolar\"}], \"scatterpolargl\": [{\"marker\": {\"colorbar\": {\"outlinewidth\": 0, \"ticks\": \"\"}}, \"type\": \"scatterpolargl\"}], \"scatterternary\": [{\"marker\": {\"colorbar\": {\"outlinewidth\": 0, \"ticks\": \"\"}}, \"type\": \"scatterternary\"}], \"surface\": [{\"colorbar\": {\"outlinewidth\": 0, \"ticks\": \"\"}, \"colorscale\": [[0.0, \"#0d0887\"], [0.1111111111111111, \"#46039f\"], [0.2222222222222222, \"#7201a8\"], [0.3333333333333333, \"#9c179e\"], [0.4444444444444444, \"#bd3786\"], [0.5555555555555556, \"#d8576b\"], [0.6666666666666666, \"#ed7953\"], [0.7777777777777778, \"#fb9f3a\"], [0.8888888888888888, \"#fdca26\"], [1.0, \"#f0f921\"]], \"type\": \"surface\"}], \"table\": [{\"cells\": {\"fill\": {\"color\": \"#EBF0F8\"}, \"line\": {\"color\": \"white\"}}, \"header\": {\"fill\": {\"color\": \"#C8D4E3\"}, \"line\": {\"color\": \"white\"}}, \"type\": \"table\"}]}, \"layout\": {\"annotationdefaults\": {\"arrowcolor\": \"#2a3f5f\", \"arrowhead\": 0, \"arrowwidth\": 1}, \"coloraxis\": {\"colorbar\": {\"outlinewidth\": 0, \"ticks\": \"\"}}, \"colorscale\": {\"diverging\": [[0, \"#8e0152\"], [0.1, \"#c51b7d\"], [0.2, \"#de77ae\"], [0.3, \"#f1b6da\"], [0.4, \"#fde0ef\"], [0.5, \"#f7f7f7\"], [0.6, \"#e6f5d0\"], [0.7, \"#b8e186\"], [0.8, \"#7fbc41\"], [0.9, \"#4d9221\"], [1, \"#276419\"]], \"sequential\": [[0.0, \"#0d0887\"], [0.1111111111111111, \"#46039f\"], [0.2222222222222222, \"#7201a8\"], [0.3333333333333333, \"#9c179e\"], [0.4444444444444444, \"#bd3786\"], [0.5555555555555556, \"#d8576b\"], [0.6666666666666666, \"#ed7953\"], [0.7777777777777778, \"#fb9f3a\"], [0.8888888888888888, \"#fdca26\"], [1.0, \"#f0f921\"]], \"sequentialminus\": [[0.0, \"#0d0887\"], [0.1111111111111111, \"#46039f\"], [0.2222222222222222, \"#7201a8\"], [0.3333333333333333, \"#9c179e\"], [0.4444444444444444, \"#bd3786\"], [0.5555555555555556, \"#d8576b\"], [0.6666666666666666, \"#ed7953\"], [0.7777777777777778, \"#fb9f3a\"], [0.8888888888888888, \"#fdca26\"], [1.0, \"#f0f921\"]]}, \"colorway\": [\"#636efa\", \"#EF553B\", \"#00cc96\", \"#ab63fa\", \"#FFA15A\", \"#19d3f3\", \"#FF6692\", \"#B6E880\", \"#FF97FF\", \"#FECB52\"], \"font\": {\"color\": \"#2a3f5f\"}, \"geo\": {\"bgcolor\": \"white\", \"lakecolor\": \"white\", \"landcolor\": \"#E5ECF6\", \"showlakes\": true, \"showland\": true, \"subunitcolor\": \"white\"}, \"hoverlabel\": {\"align\": \"left\"}, \"hovermode\": \"closest\", \"mapbox\": {\"style\": \"light\"}, \"paper_bgcolor\": \"white\", \"plot_bgcolor\": \"#E5ECF6\", \"polar\": {\"angularaxis\": {\"gridcolor\": \"white\", \"linecolor\": \"white\", \"ticks\": \"\"}, \"bgcolor\": \"#E5ECF6\", \"radialaxis\": {\"gridcolor\": \"white\", \"linecolor\": \"white\", \"ticks\": \"\"}}, \"scene\": {\"xaxis\": {\"backgroundcolor\": \"#E5ECF6\", \"gridcolor\": \"white\", \"gridwidth\": 2, \"linecolor\": \"white\", \"showbackground\": true, \"ticks\": \"\", \"zerolinecolor\": \"white\"}, \"yaxis\": {\"backgroundcolor\": \"#E5ECF6\", \"gridcolor\": \"white\", \"gridwidth\": 2, \"linecolor\": \"white\", \"showbackground\": true, \"ticks\": \"\", \"zerolinecolor\": \"white\"}, \"zaxis\": {\"backgroundcolor\": \"#E5ECF6\", \"gridcolor\": \"white\", \"gridwidth\": 2, \"linecolor\": \"white\", \"showbackground\": true, \"ticks\": \"\", \"zerolinecolor\": \"white\"}}, \"shapedefaults\": {\"line\": {\"color\": \"#2a3f5f\"}}, \"ternary\": {\"aaxis\": {\"gridcolor\": \"white\", \"linecolor\": \"white\", \"ticks\": \"\"}, \"baxis\": {\"gridcolor\": \"white\", \"linecolor\": \"white\", \"ticks\": \"\"}, \"bgcolor\": \"#E5ECF6\", \"caxis\": {\"gridcolor\": \"white\", \"linecolor\": \"white\", \"ticks\": \"\"}}, \"title\": {\"x\": 0.05}, \"xaxis\": {\"automargin\": true, \"gridcolor\": \"white\", \"linecolor\": \"white\", \"ticks\": \"\", \"title\": {\"standoff\": 15}, \"zerolinecolor\": \"white\", \"zerolinewidth\": 2}, \"yaxis\": {\"automargin\": true, \"gridcolor\": \"white\", \"linecolor\": \"white\", \"ticks\": \"\", \"title\": {\"standoff\": 15}, \"zerolinecolor\": \"white\", \"zerolinewidth\": 2}}}, \"title\": {\"text\": \"Projected Final Comp. Pick from Colts to Eagles by Colts Made Playoffs\"}, \"updatemenus\": [{\"buttons\": [{\"args\": [null, {\"frame\": {\"duration\": 500, \"redraw\": true}, \"fromcurrent\": true, \"mode\": \"immediate\", \"transition\": {\"duration\": 500, \"easing\": \"linear\"}}], \"label\": \"&#9654;\", \"method\": \"animate\"}, {\"args\": [[null], {\"frame\": {\"duration\": 0, \"redraw\": true}, \"fromcurrent\": true, \"mode\": \"immediate\", \"transition\": {\"duration\": 0, \"easing\": \"linear\"}}], \"label\": \"&#9724;\", \"method\": \"animate\"}], \"direction\": \"left\", \"pad\": {\"r\": 10, \"t\": 70}, \"showactive\": false, \"type\": \"buttons\", \"x\": 0.1, \"xanchor\": \"right\", \"y\": 0, \"yanchor\": \"top\"}], \"xaxis\": {\"anchor\": \"y\", \"domain\": [0.0, 1.0], \"range\": [1, 63], \"title\": {\"text\": \"Final Pick\"}}, \"yaxis\": {\"anchor\": \"x\", \"domain\": [0.0, 1.0], \"range\": [0.01, 5.01], \"title\": {\"text\": \"Percentage of Total Occurances (%)\"}}},                        {\"responsive\": true}                    ).then(function(){\n",
       "                            Plotly.addFrames('de12f420-ddf4-444c-8ca8-fa6b70e8c84a', [{\"data\": [{\"alignmentgroup\": \"True\", \"hovertemplate\": \"Colts Made Playoffs=False<br>Final Pick=%{x}<br>Percentage of Total Occurances (%)=%{text}<br>Carson Final Snap %=%{marker.color}<extra></extra>\", \"legendgroup\": \"\", \"marker\": {\"color\": [0.762, 0.8021, 0.7938, 0.8041, 0.8048, 0.8206, 0.8272, 0.8338, 0.8423, 0.8535, 0.8621, 0.8627, 0.8722, 0.8775, 0.888, 0.8937, 0.9004, 0.9089, 0.6523, 0.6749, 0.6989, 0.6884, 0.6959, 0.6995, 0.707, 0.7002, 0.7112, 0.7102, 0.7077, 0.7114, 0.7061, 0.7128, 0.722, 0.7112, 0.7098, 0.728], \"coloraxis\": \"coloraxis\"}, \"name\": \"\", \"offsetgroup\": \"\", \"orientation\": \"v\", \"showlegend\": false, \"text\": [0.02, 0.16, 0.42, 0.9, 1.12, 1.63, 2.33, 3.39, 3.67, 4.06, 4.89, 4.95, 4.91, 5.01, 4.61, 4.21, 3.86, 3.02, 0.2, 0.41, 0.63, 1.05, 1.28, 1.38, 1.38, 1.58, 1.41, 1.05, 1.05, 0.8, 0.78, 0.45, 0.39, 0.26, 0.2, 0.05], \"textposition\": \"auto\", \"x\": [1, 2, 3, 4, 5, 6, 7, 8, 9, 10, 11, 12, 13, 14, 15, 16, 17, 18, 33, 34, 35, 36, 37, 38, 39, 40, 41, 42, 43, 44, 45, 46, 47, 48, 49, 50], \"xaxis\": \"x\", \"y\": [0.02, 0.16, 0.42, 0.9, 1.12, 1.63, 2.33, 3.39, 3.67, 4.06, 4.89, 4.95, 4.91, 5.01, 4.61, 4.21, 3.86, 3.02, 0.2, 0.41, 0.63, 1.05, 1.28, 1.38, 1.38, 1.58, 1.41, 1.05, 1.05, 0.8, 0.78, 0.45, 0.39, 0.26, 0.2, 0.05], \"yaxis\": \"y\", \"type\": \"bar\"}], \"name\": \"False\"}, {\"data\": [{\"alignmentgroup\": \"True\", \"hovertemplate\": \"Colts Made Playoffs=True<br>Final Pick=%{x}<br>Percentage of Total Occurances (%)=%{text}<br>Carson Final Snap %=%{marker.color}<extra></extra>\", \"legendgroup\": \"\", \"marker\": {\"color\": [0.9391, 0.9384, 0.9387, 0.9392, 0.9404, 0.9442, 0.9402, 0.9376, 0.9372, 0.9408, 0.9386, 0.9391, 0.9405, 0.9212, 0.7342, 0.7004, 0.7315, 0.6972, 0.6874, 0.7203, 0.7478, 0.7206, 0.7465, 0.6789], \"coloraxis\": \"coloraxis\"}, \"name\": \"\", \"offsetgroup\": \"\", \"orientation\": \"v\", \"showlegend\": false, \"text\": [2.99, 3.18, 3.02, 2.96, 3.13, 2.91, 2.26, 2.46, 2.26, 2.3, 1.81, 1.74, 1.27, 0.07, 0.01, 0.01, 0.01, 0.01, 0.02, 0.02, 0.01, 0.01, 0.01, 0.02], \"textposition\": \"auto\", \"x\": [19, 20, 21, 22, 23, 24, 25, 26, 27, 28, 29, 30, 31, 32, 52, 53, 54, 55, 56, 58, 59, 60, 61, 63], \"xaxis\": \"x\", \"y\": [2.99, 3.18, 3.02, 2.96, 3.13, 2.91, 2.26, 2.46, 2.26, 2.3, 1.81, 1.74, 1.27, 0.07, 0.01, 0.01, 0.01, 0.01, 0.02, 0.02, 0.01, 0.01, 0.01, 0.02], \"yaxis\": \"y\", \"type\": \"bar\"}], \"name\": \"True\"}]);\n",
       "                        }).then(function(){\n",
       "                            \n",
       "var gd = document.getElementById('de12f420-ddf4-444c-8ca8-fa6b70e8c84a');\n",
       "var x = new MutationObserver(function (mutations, observer) {{\n",
       "        var display = window.getComputedStyle(gd).display;\n",
       "        if (!display || display === 'none') {{\n",
       "            console.log([gd, 'removed!']);\n",
       "            Plotly.purge(gd);\n",
       "            observer.disconnect();\n",
       "        }}\n",
       "}});\n",
       "\n",
       "// Listen for the removal of the full notebook cells\n",
       "var notebookContainer = gd.closest('#notebook-container');\n",
       "if (notebookContainer) {{\n",
       "    x.observe(notebookContainer, {childList: true});\n",
       "}}\n",
       "\n",
       "// Listen for the clearing of the current output cell\n",
       "var outputEl = gd.closest('.output');\n",
       "if (outputEl) {{\n",
       "    x.observe(outputEl, {childList: true});\n",
       "}}\n",
       "\n",
       "                        })                };                });            </script>        </div>"
      ]
     },
     "metadata": {},
     "output_type": "display_data"
    }
   ],
   "source": [
    "Wins_by_First_Quarter_Result=IND_WINS.groupby(['Final Pick','Colts Made Playoffs'],as_index=False)['Percentage of Total Occurances (%)'].sum()\n",
    "Carson_Final_Snap_Percentage=IND_WINS.groupby([\"Final Pick\",'Colts Made Playoffs'],as_index=False)['Carson Final Snap %'].mean()\n",
    "Wins_by_First_Quarter_Result=pd.merge(Wins_by_First_Quarter_Result,Carson_Final_Snap_Percentage,how=\"inner\",\n",
    "        left_on=['Colts Made Playoffs',\"Final Pick\"], right_on=['Colts Made Playoffs',\"Final Pick\"])\n",
    "Wins_by_First_Quarter_Result=Wins_by_First_Quarter_Result.round(4)\n",
    "Plotly_Bar_Plot(df=Wins_by_First_Quarter_Result,Fact1='Final Pick',slider_text='Colts Made Playoffs',\n",
    "                Color_Titler='Carson Final Snap %',Value='Percentage of Total Occurances (%)',titler='Projected Final Comp. Pick from Colts to Eagles by Colts Made Playoffs')"
   ]
  },
  {
   "cell_type": "markdown",
   "id": "e8ee1962",
   "metadata": {},
   "source": [
    "## Probability Distribution of Final Pick based off of each Quarter (every 4 games) Result"
   ]
  },
  {
   "cell_type": "markdown",
   "id": "c7ecd4e1",
   "metadata": {},
   "source": [
    "### First Quarter of Season Done"
   ]
  },
  {
   "cell_type": "code",
   "execution_count": 92,
   "id": "71e176f3",
   "metadata": {},
   "outputs": [
    {
     "data": {
      "text/html": [
       "<div>                            <div id=\"c7c91ca1-7b74-4d13-8ee7-e76f410d7e3c\" class=\"plotly-graph-div\" style=\"height:525px; width:100%;\"></div>            <script type=\"text/javascript\">                require([\"plotly\"], function(Plotly) {                    window.PLOTLYENV=window.PLOTLYENV || {};                                    if (document.getElementById(\"c7c91ca1-7b74-4d13-8ee7-e76f410d7e3c\")) {                    Plotly.newPlot(                        \"c7c91ca1-7b74-4d13-8ee7-e76f410d7e3c\",                        [{\"alignmentgroup\": \"True\", \"hovertemplate\": \"First Quarter Wins=1<br>Final Pick=%{x}<br>Percentage of Total Occurances (%)=%{text}<br>Carson Final Snap %=%{marker.color}<extra></extra>\", \"legendgroup\": \"\", \"marker\": {\"color\": [0.762, 0.8021, 0.7938, 0.8041, 0.8048, 0.8206, 0.8272, 0.8338, 0.8423, 0.8535, 0.8621, 0.8627, 0.8722, 0.8775, 0.888, 0.8937, 0.9004, 0.9089, 0.9391, 0.9384, 0.9387, 0.9392, 0.9404, 0.9442, 0.9402, 0.9376, 0.9372, 0.9408, 0.9386, 0.9391, 0.9405, 0.9212, 0.6523, 0.6749, 0.6989, 0.6884, 0.6959, 0.6995, 0.707, 0.7002, 0.7112, 0.7102, 0.7077, 0.7114, 0.7061, 0.7128, 0.722, 0.7112, 0.7098, 0.728, 0.7342, 0.7004, 0.7315, 0.6972, 0.6874, 0.7203, 0.7478, 0.7206, 0.7465, 0.6789], \"coloraxis\": \"coloraxis\"}, \"name\": \"\", \"offsetgroup\": \"\", \"orientation\": \"v\", \"showlegend\": false, \"text\": [0.02, 0.16, 0.42, 0.9, 1.12, 1.63, 2.33, 3.39, 3.67, 4.06, 4.89, 4.95, 4.91, 5.01, 4.61, 4.21, 3.86, 3.02, 2.99, 3.18, 3.02, 2.96, 3.13, 2.91, 2.26, 2.46, 2.26, 2.3, 1.81, 1.74, 1.27, 0.07, 0.2, 0.41, 0.63, 1.05, 1.28, 1.38, 1.38, 1.58, 1.41, 1.05, 1.05, 0.8, 0.78, 0.45, 0.39, 0.26, 0.2, 0.05, 0.01, 0.01, 0.01, 0.01, 0.02, 0.02, 0.01, 0.01, 0.01, 0.02], \"textposition\": \"auto\", \"type\": \"bar\", \"x\": [1, 2, 3, 4, 5, 6, 7, 8, 9, 10, 11, 12, 13, 14, 15, 16, 17, 18, 19, 20, 21, 22, 23, 24, 25, 26, 27, 28, 29, 30, 31, 32, 33, 34, 35, 36, 37, 38, 39, 40, 41, 42, 43, 44, 45, 46, 47, 48, 49, 50, 52, 53, 54, 55, 56, 58, 59, 60, 61, 63], \"xaxis\": \"x\", \"y\": [0.02, 0.16, 0.42, 0.9, 1.12, 1.63, 2.33, 3.39, 3.67, 4.06, 4.89, 4.95, 4.91, 5.01, 4.61, 4.21, 3.86, 3.02, 2.99, 3.18, 3.02, 2.96, 3.13, 2.91, 2.26, 2.46, 2.26, 2.3, 1.81, 1.74, 1.27, 0.07, 0.2, 0.41, 0.63, 1.05, 1.28, 1.38, 1.38, 1.58, 1.41, 1.05, 1.05, 0.8, 0.78, 0.45, 0.39, 0.26, 0.2, 0.05, 0.01, 0.01, 0.01, 0.01, 0.02, 0.02, 0.01, 0.01, 0.01, 0.02], \"yaxis\": \"y\"}],                        {\"barmode\": \"relative\", \"coloraxis\": {\"cmax\": 0.9442, \"cmin\": 0.6523, \"colorbar\": {\"title\": {\"text\": \"Carson Final Snap %\"}}, \"colorscale\": [[0.0, \"#0d0887\"], [0.1111111111111111, \"#46039f\"], [0.2222222222222222, \"#7201a8\"], [0.3333333333333333, \"#9c179e\"], [0.4444444444444444, \"#bd3786\"], [0.5555555555555556, \"#d8576b\"], [0.6666666666666666, \"#ed7953\"], [0.7777777777777778, \"#fb9f3a\"], [0.8888888888888888, \"#fdca26\"], [1.0, \"#f0f921\"]]}, \"legend\": {\"tracegroupgap\": 0}, \"margin\": {\"b\": 80, \"l\": 80, \"r\": 80, \"t\": 100}, \"paper_bgcolor\": \"LightSteelBlue\", \"template\": {\"data\": {\"bar\": [{\"error_x\": {\"color\": \"#2a3f5f\"}, \"error_y\": {\"color\": \"#2a3f5f\"}, \"marker\": {\"line\": {\"color\": \"#E5ECF6\", \"width\": 0.5}}, \"type\": \"bar\"}], \"barpolar\": [{\"marker\": {\"line\": {\"color\": \"#E5ECF6\", \"width\": 0.5}}, \"type\": \"barpolar\"}], \"carpet\": [{\"aaxis\": {\"endlinecolor\": \"#2a3f5f\", \"gridcolor\": \"white\", \"linecolor\": \"white\", \"minorgridcolor\": \"white\", \"startlinecolor\": \"#2a3f5f\"}, \"baxis\": {\"endlinecolor\": \"#2a3f5f\", \"gridcolor\": \"white\", \"linecolor\": \"white\", \"minorgridcolor\": \"white\", \"startlinecolor\": \"#2a3f5f\"}, \"type\": \"carpet\"}], \"choropleth\": [{\"colorbar\": {\"outlinewidth\": 0, \"ticks\": \"\"}, \"type\": \"choropleth\"}], \"contour\": [{\"colorbar\": {\"outlinewidth\": 0, \"ticks\": \"\"}, \"colorscale\": [[0.0, \"#0d0887\"], [0.1111111111111111, \"#46039f\"], [0.2222222222222222, \"#7201a8\"], [0.3333333333333333, \"#9c179e\"], [0.4444444444444444, \"#bd3786\"], [0.5555555555555556, \"#d8576b\"], [0.6666666666666666, \"#ed7953\"], [0.7777777777777778, \"#fb9f3a\"], [0.8888888888888888, \"#fdca26\"], [1.0, \"#f0f921\"]], \"type\": \"contour\"}], \"contourcarpet\": [{\"colorbar\": {\"outlinewidth\": 0, \"ticks\": \"\"}, \"type\": \"contourcarpet\"}], \"heatmap\": [{\"colorbar\": {\"outlinewidth\": 0, \"ticks\": \"\"}, \"colorscale\": [[0.0, \"#0d0887\"], [0.1111111111111111, \"#46039f\"], [0.2222222222222222, \"#7201a8\"], [0.3333333333333333, \"#9c179e\"], [0.4444444444444444, \"#bd3786\"], [0.5555555555555556, \"#d8576b\"], [0.6666666666666666, \"#ed7953\"], [0.7777777777777778, \"#fb9f3a\"], [0.8888888888888888, \"#fdca26\"], [1.0, \"#f0f921\"]], \"type\": \"heatmap\"}], \"heatmapgl\": [{\"colorbar\": {\"outlinewidth\": 0, \"ticks\": \"\"}, \"colorscale\": [[0.0, \"#0d0887\"], [0.1111111111111111, \"#46039f\"], [0.2222222222222222, \"#7201a8\"], [0.3333333333333333, \"#9c179e\"], [0.4444444444444444, \"#bd3786\"], [0.5555555555555556, \"#d8576b\"], [0.6666666666666666, \"#ed7953\"], [0.7777777777777778, \"#fb9f3a\"], [0.8888888888888888, \"#fdca26\"], [1.0, \"#f0f921\"]], \"type\": \"heatmapgl\"}], \"histogram\": [{\"marker\": {\"colorbar\": {\"outlinewidth\": 0, \"ticks\": \"\"}}, \"type\": \"histogram\"}], \"histogram2d\": [{\"colorbar\": {\"outlinewidth\": 0, \"ticks\": \"\"}, \"colorscale\": [[0.0, \"#0d0887\"], [0.1111111111111111, \"#46039f\"], [0.2222222222222222, \"#7201a8\"], [0.3333333333333333, \"#9c179e\"], [0.4444444444444444, \"#bd3786\"], [0.5555555555555556, \"#d8576b\"], [0.6666666666666666, \"#ed7953\"], [0.7777777777777778, \"#fb9f3a\"], [0.8888888888888888, \"#fdca26\"], [1.0, \"#f0f921\"]], \"type\": \"histogram2d\"}], \"histogram2dcontour\": [{\"colorbar\": {\"outlinewidth\": 0, \"ticks\": \"\"}, \"colorscale\": [[0.0, \"#0d0887\"], [0.1111111111111111, \"#46039f\"], [0.2222222222222222, \"#7201a8\"], [0.3333333333333333, \"#9c179e\"], [0.4444444444444444, \"#bd3786\"], [0.5555555555555556, \"#d8576b\"], [0.6666666666666666, \"#ed7953\"], [0.7777777777777778, \"#fb9f3a\"], [0.8888888888888888, \"#fdca26\"], [1.0, \"#f0f921\"]], \"type\": \"histogram2dcontour\"}], \"mesh3d\": [{\"colorbar\": {\"outlinewidth\": 0, \"ticks\": \"\"}, \"type\": \"mesh3d\"}], \"parcoords\": [{\"line\": {\"colorbar\": {\"outlinewidth\": 0, \"ticks\": \"\"}}, \"type\": \"parcoords\"}], \"pie\": [{\"automargin\": true, \"type\": \"pie\"}], \"scatter\": [{\"marker\": {\"colorbar\": {\"outlinewidth\": 0, \"ticks\": \"\"}}, \"type\": \"scatter\"}], \"scatter3d\": [{\"line\": {\"colorbar\": {\"outlinewidth\": 0, \"ticks\": \"\"}}, \"marker\": {\"colorbar\": {\"outlinewidth\": 0, \"ticks\": \"\"}}, \"type\": \"scatter3d\"}], \"scattercarpet\": [{\"marker\": {\"colorbar\": {\"outlinewidth\": 0, \"ticks\": \"\"}}, \"type\": \"scattercarpet\"}], \"scattergeo\": [{\"marker\": {\"colorbar\": {\"outlinewidth\": 0, \"ticks\": \"\"}}, \"type\": \"scattergeo\"}], \"scattergl\": [{\"marker\": {\"colorbar\": {\"outlinewidth\": 0, \"ticks\": \"\"}}, \"type\": \"scattergl\"}], \"scattermapbox\": [{\"marker\": {\"colorbar\": {\"outlinewidth\": 0, \"ticks\": \"\"}}, \"type\": \"scattermapbox\"}], \"scatterpolar\": [{\"marker\": {\"colorbar\": {\"outlinewidth\": 0, \"ticks\": \"\"}}, \"type\": \"scatterpolar\"}], \"scatterpolargl\": [{\"marker\": {\"colorbar\": {\"outlinewidth\": 0, \"ticks\": \"\"}}, \"type\": \"scatterpolargl\"}], \"scatterternary\": [{\"marker\": {\"colorbar\": {\"outlinewidth\": 0, \"ticks\": \"\"}}, \"type\": \"scatterternary\"}], \"surface\": [{\"colorbar\": {\"outlinewidth\": 0, \"ticks\": \"\"}, \"colorscale\": [[0.0, \"#0d0887\"], [0.1111111111111111, \"#46039f\"], [0.2222222222222222, \"#7201a8\"], [0.3333333333333333, \"#9c179e\"], [0.4444444444444444, \"#bd3786\"], [0.5555555555555556, \"#d8576b\"], [0.6666666666666666, \"#ed7953\"], [0.7777777777777778, \"#fb9f3a\"], [0.8888888888888888, \"#fdca26\"], [1.0, \"#f0f921\"]], \"type\": \"surface\"}], \"table\": [{\"cells\": {\"fill\": {\"color\": \"#EBF0F8\"}, \"line\": {\"color\": \"white\"}}, \"header\": {\"fill\": {\"color\": \"#C8D4E3\"}, \"line\": {\"color\": \"white\"}}, \"type\": \"table\"}]}, \"layout\": {\"annotationdefaults\": {\"arrowcolor\": \"#2a3f5f\", \"arrowhead\": 0, \"arrowwidth\": 1}, \"coloraxis\": {\"colorbar\": {\"outlinewidth\": 0, \"ticks\": \"\"}}, \"colorscale\": {\"diverging\": [[0, \"#8e0152\"], [0.1, \"#c51b7d\"], [0.2, \"#de77ae\"], [0.3, \"#f1b6da\"], [0.4, \"#fde0ef\"], [0.5, \"#f7f7f7\"], [0.6, \"#e6f5d0\"], [0.7, \"#b8e186\"], [0.8, \"#7fbc41\"], [0.9, \"#4d9221\"], [1, \"#276419\"]], \"sequential\": [[0.0, \"#0d0887\"], [0.1111111111111111, \"#46039f\"], [0.2222222222222222, \"#7201a8\"], [0.3333333333333333, \"#9c179e\"], [0.4444444444444444, \"#bd3786\"], [0.5555555555555556, \"#d8576b\"], [0.6666666666666666, \"#ed7953\"], [0.7777777777777778, \"#fb9f3a\"], [0.8888888888888888, \"#fdca26\"], [1.0, \"#f0f921\"]], \"sequentialminus\": [[0.0, \"#0d0887\"], [0.1111111111111111, \"#46039f\"], [0.2222222222222222, \"#7201a8\"], [0.3333333333333333, \"#9c179e\"], [0.4444444444444444, \"#bd3786\"], [0.5555555555555556, \"#d8576b\"], [0.6666666666666666, \"#ed7953\"], [0.7777777777777778, \"#fb9f3a\"], [0.8888888888888888, \"#fdca26\"], [1.0, \"#f0f921\"]]}, \"colorway\": [\"#636efa\", \"#EF553B\", \"#00cc96\", \"#ab63fa\", \"#FFA15A\", \"#19d3f3\", \"#FF6692\", \"#B6E880\", \"#FF97FF\", \"#FECB52\"], \"font\": {\"color\": \"#2a3f5f\"}, \"geo\": {\"bgcolor\": \"white\", \"lakecolor\": \"white\", \"landcolor\": \"#E5ECF6\", \"showlakes\": true, \"showland\": true, \"subunitcolor\": \"white\"}, \"hoverlabel\": {\"align\": \"left\"}, \"hovermode\": \"closest\", \"mapbox\": {\"style\": \"light\"}, \"paper_bgcolor\": \"white\", \"plot_bgcolor\": \"#E5ECF6\", \"polar\": {\"angularaxis\": {\"gridcolor\": \"white\", \"linecolor\": \"white\", \"ticks\": \"\"}, \"bgcolor\": \"#E5ECF6\", \"radialaxis\": {\"gridcolor\": \"white\", \"linecolor\": \"white\", \"ticks\": \"\"}}, \"scene\": {\"xaxis\": {\"backgroundcolor\": \"#E5ECF6\", \"gridcolor\": \"white\", \"gridwidth\": 2, \"linecolor\": \"white\", \"showbackground\": true, \"ticks\": \"\", \"zerolinecolor\": \"white\"}, \"yaxis\": {\"backgroundcolor\": \"#E5ECF6\", \"gridcolor\": \"white\", \"gridwidth\": 2, \"linecolor\": \"white\", \"showbackground\": true, \"ticks\": \"\", \"zerolinecolor\": \"white\"}, \"zaxis\": {\"backgroundcolor\": \"#E5ECF6\", \"gridcolor\": \"white\", \"gridwidth\": 2, \"linecolor\": \"white\", \"showbackground\": true, \"ticks\": \"\", \"zerolinecolor\": \"white\"}}, \"shapedefaults\": {\"line\": {\"color\": \"#2a3f5f\"}}, \"ternary\": {\"aaxis\": {\"gridcolor\": \"white\", \"linecolor\": \"white\", \"ticks\": \"\"}, \"baxis\": {\"gridcolor\": \"white\", \"linecolor\": \"white\", \"ticks\": \"\"}, \"bgcolor\": \"#E5ECF6\", \"caxis\": {\"gridcolor\": \"white\", \"linecolor\": \"white\", \"ticks\": \"\"}}, \"title\": {\"x\": 0.05}, \"xaxis\": {\"automargin\": true, \"gridcolor\": \"white\", \"linecolor\": \"white\", \"ticks\": \"\", \"title\": {\"standoff\": 15}, \"zerolinecolor\": \"white\", \"zerolinewidth\": 2}, \"yaxis\": {\"automargin\": true, \"gridcolor\": \"white\", \"linecolor\": \"white\", \"ticks\": \"\", \"title\": {\"standoff\": 15}, \"zerolinecolor\": \"white\", \"zerolinewidth\": 2}}}, \"title\": {\"text\": \"Projected Final Comp. Pick from Colts to Eagles by Wins at First Quarter\"}, \"xaxis\": {\"anchor\": \"y\", \"domain\": [0.0, 1.0], \"range\": [1, 63], \"title\": {\"text\": \"Final Pick\"}}, \"yaxis\": {\"anchor\": \"x\", \"domain\": [0.0, 1.0], \"range\": [0.01, 5.01], \"title\": {\"text\": \"Percentage of Total Occurances (%)\"}}},                        {\"responsive\": true}                    ).then(function(){\n",
       "                            \n",
       "var gd = document.getElementById('c7c91ca1-7b74-4d13-8ee7-e76f410d7e3c');\n",
       "var x = new MutationObserver(function (mutations, observer) {{\n",
       "        var display = window.getComputedStyle(gd).display;\n",
       "        if (!display || display === 'none') {{\n",
       "            console.log([gd, 'removed!']);\n",
       "            Plotly.purge(gd);\n",
       "            observer.disconnect();\n",
       "        }}\n",
       "}});\n",
       "\n",
       "// Listen for the removal of the full notebook cells\n",
       "var notebookContainer = gd.closest('#notebook-container');\n",
       "if (notebookContainer) {{\n",
       "    x.observe(notebookContainer, {childList: true});\n",
       "}}\n",
       "\n",
       "// Listen for the clearing of the current output cell\n",
       "var outputEl = gd.closest('.output');\n",
       "if (outputEl) {{\n",
       "    x.observe(outputEl, {childList: true});\n",
       "}}\n",
       "\n",
       "                        })                };                });            </script>        </div>"
      ]
     },
     "metadata": {},
     "output_type": "display_data"
    }
   ],
   "source": [
    "Wins_by_First_Quarter_Result=IND_WINS.groupby(['Final Pick','First Quarter Wins'],as_index=False)['Percentage of Total Occurances (%)'].sum()\n",
    "Carson_Final_Snap_Percentage=IND_WINS.groupby([\"Final Pick\",'First Quarter Wins'],as_index=False)['Carson Final Snap %'].mean()\n",
    "Wins_by_First_Quarter_Result=pd.merge(Wins_by_First_Quarter_Result,Carson_Final_Snap_Percentage,how=\"inner\",\n",
    "        left_on=['First Quarter Wins',\"Final Pick\"], right_on=['First Quarter Wins',\"Final Pick\"])\n",
    "Wins_by_First_Quarter_Result=Wins_by_First_Quarter_Result.round(4)\n",
    "Plotly_Bar_Plot(df=Wins_by_First_Quarter_Result,Fact1='Final Pick',slider_text='First Quarter Wins',\n",
    "                Color_Titler='Carson Final Snap %',Value='Percentage of Total Occurances (%)',titler='Projected Final Comp. Pick from Colts to Eagles by Wins at First Quarter')"
   ]
  },
  {
   "cell_type": "markdown",
   "id": "8d8c9df1",
   "metadata": {},
   "source": [
    "### Season Halfway Done"
   ]
  },
  {
   "cell_type": "code",
   "execution_count": 93,
   "id": "0fc7e5a5",
   "metadata": {},
   "outputs": [
    {
     "data": {
      "text/html": [
       "<div>                            <div id=\"07605eb1-68a0-4d28-ab60-a4d6f8f4da17\" class=\"plotly-graph-div\" style=\"height:525px; width:100%;\"></div>            <script type=\"text/javascript\">                require([\"plotly\"], function(Plotly) {                    window.PLOTLYENV=window.PLOTLYENV || {};                                    if (document.getElementById(\"07605eb1-68a0-4d28-ab60-a4d6f8f4da17\")) {                    Plotly.newPlot(                        \"07605eb1-68a0-4d28-ab60-a4d6f8f4da17\",                        [{\"alignmentgroup\": \"True\", \"hovertemplate\": \"Second Quarter Wins=1<br>Final Pick=%{x}<br>Percentage of Total Occurances (%)=%{text}<br>Carson Final Snap %=%{marker.color}<extra></extra>\", \"legendgroup\": \"\", \"marker\": {\"color\": [0.7619613756611011, 0.7545909031465051, 0.7580193893898639, 0.8014085891894208, 0.785185233486144, 0.8215611941611498, 0.8014652919800537, 0.8046784097631717, 0.8164882419111402, 0.839001645882961, 0.8477603924409209, 0.8537941858393298, 0.8245921500916905, 0.8499305359930264, 0.8099032299461024, 0.8248679980948636, 0.8554306346922501, 0.8351903911443704, 0.8403303907188, 0.9317450313231159, 0.8879492827766697, 0.8110670417332748, 0.9012935583624058, 0.9492643088978822, 0.8974400967799613, 0.622973116355107, 0.6650246909413308, 0.6988436743667182, 0.6722223470058941, 0.6689238388682922, 0.6852559073290216, 0.7016152106295346, 0.6621335390084039, 0.6952026716206435, 0.7090115741256476, 0.6831756666928689, 0.7016264788376558, 0.701608622494087, 0.7442710437437895, 0.7110761381338351, 0.6908827187951787], \"coloraxis\": \"coloraxis\"}, \"name\": \"\", \"offsetgroup\": \"\", \"orientation\": \"v\", \"showlegend\": false, \"text\": [0.02, 0.02, 0.06, 0.08, 0.09, 0.09, 0.15, 0.17, 0.12, 0.05, 0.11, 0.07, 0.06, 0.08, 0.06, 0.04, 0.04, 0.01, 0.01, 0.02, 0.01, 0.01, 0.01, 0.01, 0.01, 0.09, 0.14, 0.17, 0.32, 0.25, 0.29, 0.18, 0.22, 0.14, 0.06, 0.11, 0.04, 0.07, 0.01, 0.02, 0.01], \"textposition\": \"auto\", \"type\": \"bar\", \"x\": [1, 2, 3, 4, 5, 6, 7, 8, 9, 10, 11, 12, 13, 14, 15, 16, 17, 18, 19, 20, 21, 22, 23, 28, 30, 33, 34, 35, 36, 37, 38, 39, 40, 41, 42, 43, 44, 45, 46, 47, 48], \"xaxis\": \"x\", \"y\": [0.02, 0.02, 0.06, 0.08, 0.09, 0.09, 0.15, 0.17, 0.12, 0.05, 0.11, 0.07, 0.06, 0.08, 0.06, 0.04, 0.04, 0.01, 0.01, 0.02, 0.01, 0.01, 0.01, 0.01, 0.01, 0.09, 0.14, 0.17, 0.32, 0.25, 0.29, 0.18, 0.22, 0.14, 0.06, 0.11, 0.04, 0.07, 0.01, 0.02, 0.01], \"yaxis\": \"y\"}],                        {\"barmode\": \"relative\", \"coloraxis\": {\"cmax\": 0.9958823529411764, \"cmin\": 0.622973116355107, \"colorbar\": {\"title\": {\"text\": \"Carson Final Snap %\"}}, \"colorscale\": [[0.0, \"#0d0887\"], [0.1111111111111111, \"#46039f\"], [0.2222222222222222, \"#7201a8\"], [0.3333333333333333, \"#9c179e\"], [0.4444444444444444, \"#bd3786\"], [0.5555555555555556, \"#d8576b\"], [0.6666666666666666, \"#ed7953\"], [0.7777777777777778, \"#fb9f3a\"], [0.8888888888888888, \"#fdca26\"], [1.0, \"#f0f921\"]]}, \"legend\": {\"tracegroupgap\": 0}, \"margin\": {\"b\": 80, \"l\": 80, \"r\": 80, \"t\": 100}, \"paper_bgcolor\": \"LightSteelBlue\", \"sliders\": [{\"active\": 0, \"currentvalue\": {\"prefix\": \"Second Quarter Wins=\"}, \"len\": 0.9, \"pad\": {\"b\": 10, \"t\": 60}, \"steps\": [{\"args\": [[\"1\"], {\"frame\": {\"duration\": 0, \"redraw\": true}, \"fromcurrent\": true, \"mode\": \"immediate\", \"transition\": {\"duration\": 0, \"easing\": \"linear\"}}], \"label\": \"1\", \"method\": \"animate\"}, {\"args\": [[\"2\"], {\"frame\": {\"duration\": 0, \"redraw\": true}, \"fromcurrent\": true, \"mode\": \"immediate\", \"transition\": {\"duration\": 0, \"easing\": \"linear\"}}], \"label\": \"2\", \"method\": \"animate\"}, {\"args\": [[\"3\"], {\"frame\": {\"duration\": 0, \"redraw\": true}, \"fromcurrent\": true, \"mode\": \"immediate\", \"transition\": {\"duration\": 0, \"easing\": \"linear\"}}], \"label\": \"3\", \"method\": \"animate\"}, {\"args\": [[\"4\"], {\"frame\": {\"duration\": 0, \"redraw\": true}, \"fromcurrent\": true, \"mode\": \"immediate\", \"transition\": {\"duration\": 0, \"easing\": \"linear\"}}], \"label\": \"4\", \"method\": \"animate\"}, {\"args\": [[\"5\"], {\"frame\": {\"duration\": 0, \"redraw\": true}, \"fromcurrent\": true, \"mode\": \"immediate\", \"transition\": {\"duration\": 0, \"easing\": \"linear\"}}], \"label\": \"5\", \"method\": \"animate\"}], \"x\": 0.1, \"xanchor\": \"left\", \"y\": 0, \"yanchor\": \"top\"}], \"template\": {\"data\": {\"bar\": [{\"error_x\": {\"color\": \"#2a3f5f\"}, \"error_y\": {\"color\": \"#2a3f5f\"}, \"marker\": {\"line\": {\"color\": \"#E5ECF6\", \"width\": 0.5}}, \"type\": \"bar\"}], \"barpolar\": [{\"marker\": {\"line\": {\"color\": \"#E5ECF6\", \"width\": 0.5}}, \"type\": \"barpolar\"}], \"carpet\": [{\"aaxis\": {\"endlinecolor\": \"#2a3f5f\", \"gridcolor\": \"white\", \"linecolor\": \"white\", \"minorgridcolor\": \"white\", \"startlinecolor\": \"#2a3f5f\"}, \"baxis\": {\"endlinecolor\": \"#2a3f5f\", \"gridcolor\": \"white\", \"linecolor\": \"white\", \"minorgridcolor\": \"white\", \"startlinecolor\": \"#2a3f5f\"}, \"type\": \"carpet\"}], \"choropleth\": [{\"colorbar\": {\"outlinewidth\": 0, \"ticks\": \"\"}, \"type\": \"choropleth\"}], \"contour\": [{\"colorbar\": {\"outlinewidth\": 0, \"ticks\": \"\"}, \"colorscale\": [[0.0, \"#0d0887\"], [0.1111111111111111, \"#46039f\"], [0.2222222222222222, \"#7201a8\"], [0.3333333333333333, \"#9c179e\"], [0.4444444444444444, \"#bd3786\"], [0.5555555555555556, \"#d8576b\"], [0.6666666666666666, \"#ed7953\"], [0.7777777777777778, \"#fb9f3a\"], [0.8888888888888888, \"#fdca26\"], [1.0, \"#f0f921\"]], \"type\": \"contour\"}], \"contourcarpet\": [{\"colorbar\": {\"outlinewidth\": 0, \"ticks\": \"\"}, \"type\": \"contourcarpet\"}], \"heatmap\": [{\"colorbar\": {\"outlinewidth\": 0, \"ticks\": \"\"}, \"colorscale\": [[0.0, \"#0d0887\"], [0.1111111111111111, \"#46039f\"], [0.2222222222222222, \"#7201a8\"], [0.3333333333333333, \"#9c179e\"], [0.4444444444444444, \"#bd3786\"], [0.5555555555555556, \"#d8576b\"], [0.6666666666666666, \"#ed7953\"], [0.7777777777777778, \"#fb9f3a\"], [0.8888888888888888, \"#fdca26\"], [1.0, \"#f0f921\"]], \"type\": \"heatmap\"}], \"heatmapgl\": [{\"colorbar\": {\"outlinewidth\": 0, \"ticks\": \"\"}, \"colorscale\": [[0.0, \"#0d0887\"], [0.1111111111111111, \"#46039f\"], [0.2222222222222222, \"#7201a8\"], [0.3333333333333333, \"#9c179e\"], [0.4444444444444444, \"#bd3786\"], [0.5555555555555556, \"#d8576b\"], [0.6666666666666666, \"#ed7953\"], [0.7777777777777778, \"#fb9f3a\"], [0.8888888888888888, \"#fdca26\"], [1.0, \"#f0f921\"]], \"type\": \"heatmapgl\"}], \"histogram\": [{\"marker\": {\"colorbar\": {\"outlinewidth\": 0, \"ticks\": \"\"}}, \"type\": \"histogram\"}], \"histogram2d\": [{\"colorbar\": {\"outlinewidth\": 0, \"ticks\": \"\"}, \"colorscale\": [[0.0, \"#0d0887\"], [0.1111111111111111, \"#46039f\"], [0.2222222222222222, \"#7201a8\"], [0.3333333333333333, \"#9c179e\"], [0.4444444444444444, \"#bd3786\"], [0.5555555555555556, \"#d8576b\"], [0.6666666666666666, \"#ed7953\"], [0.7777777777777778, \"#fb9f3a\"], [0.8888888888888888, \"#fdca26\"], [1.0, \"#f0f921\"]], \"type\": \"histogram2d\"}], \"histogram2dcontour\": [{\"colorbar\": {\"outlinewidth\": 0, \"ticks\": \"\"}, \"colorscale\": [[0.0, \"#0d0887\"], [0.1111111111111111, \"#46039f\"], [0.2222222222222222, \"#7201a8\"], [0.3333333333333333, \"#9c179e\"], [0.4444444444444444, \"#bd3786\"], [0.5555555555555556, \"#d8576b\"], [0.6666666666666666, \"#ed7953\"], [0.7777777777777778, \"#fb9f3a\"], [0.8888888888888888, \"#fdca26\"], [1.0, \"#f0f921\"]], \"type\": \"histogram2dcontour\"}], \"mesh3d\": [{\"colorbar\": {\"outlinewidth\": 0, \"ticks\": \"\"}, \"type\": \"mesh3d\"}], \"parcoords\": [{\"line\": {\"colorbar\": {\"outlinewidth\": 0, \"ticks\": \"\"}}, \"type\": \"parcoords\"}], \"pie\": [{\"automargin\": true, \"type\": \"pie\"}], \"scatter\": [{\"marker\": {\"colorbar\": {\"outlinewidth\": 0, \"ticks\": \"\"}}, \"type\": \"scatter\"}], \"scatter3d\": [{\"line\": {\"colorbar\": {\"outlinewidth\": 0, \"ticks\": \"\"}}, \"marker\": {\"colorbar\": {\"outlinewidth\": 0, \"ticks\": \"\"}}, \"type\": \"scatter3d\"}], \"scattercarpet\": [{\"marker\": {\"colorbar\": {\"outlinewidth\": 0, \"ticks\": \"\"}}, \"type\": \"scattercarpet\"}], \"scattergeo\": [{\"marker\": {\"colorbar\": {\"outlinewidth\": 0, \"ticks\": \"\"}}, \"type\": \"scattergeo\"}], \"scattergl\": [{\"marker\": {\"colorbar\": {\"outlinewidth\": 0, \"ticks\": \"\"}}, \"type\": \"scattergl\"}], \"scattermapbox\": [{\"marker\": {\"colorbar\": {\"outlinewidth\": 0, \"ticks\": \"\"}}, \"type\": \"scattermapbox\"}], \"scatterpolar\": [{\"marker\": {\"colorbar\": {\"outlinewidth\": 0, \"ticks\": \"\"}}, \"type\": \"scatterpolar\"}], \"scatterpolargl\": [{\"marker\": {\"colorbar\": {\"outlinewidth\": 0, \"ticks\": \"\"}}, \"type\": \"scatterpolargl\"}], \"scatterternary\": [{\"marker\": {\"colorbar\": {\"outlinewidth\": 0, \"ticks\": \"\"}}, \"type\": \"scatterternary\"}], \"surface\": [{\"colorbar\": {\"outlinewidth\": 0, \"ticks\": \"\"}, \"colorscale\": [[0.0, \"#0d0887\"], [0.1111111111111111, \"#46039f\"], [0.2222222222222222, \"#7201a8\"], [0.3333333333333333, \"#9c179e\"], [0.4444444444444444, \"#bd3786\"], [0.5555555555555556, \"#d8576b\"], [0.6666666666666666, \"#ed7953\"], [0.7777777777777778, \"#fb9f3a\"], [0.8888888888888888, \"#fdca26\"], [1.0, \"#f0f921\"]], \"type\": \"surface\"}], \"table\": [{\"cells\": {\"fill\": {\"color\": \"#EBF0F8\"}, \"line\": {\"color\": \"white\"}}, \"header\": {\"fill\": {\"color\": \"#C8D4E3\"}, \"line\": {\"color\": \"white\"}}, \"type\": \"table\"}]}, \"layout\": {\"annotationdefaults\": {\"arrowcolor\": \"#2a3f5f\", \"arrowhead\": 0, \"arrowwidth\": 1}, \"coloraxis\": {\"colorbar\": {\"outlinewidth\": 0, \"ticks\": \"\"}}, \"colorscale\": {\"diverging\": [[0, \"#8e0152\"], [0.1, \"#c51b7d\"], [0.2, \"#de77ae\"], [0.3, \"#f1b6da\"], [0.4, \"#fde0ef\"], [0.5, \"#f7f7f7\"], [0.6, \"#e6f5d0\"], [0.7, \"#b8e186\"], [0.8, \"#7fbc41\"], [0.9, \"#4d9221\"], [1, \"#276419\"]], \"sequential\": [[0.0, \"#0d0887\"], [0.1111111111111111, \"#46039f\"], [0.2222222222222222, \"#7201a8\"], [0.3333333333333333, \"#9c179e\"], [0.4444444444444444, \"#bd3786\"], [0.5555555555555556, \"#d8576b\"], [0.6666666666666666, \"#ed7953\"], [0.7777777777777778, \"#fb9f3a\"], [0.8888888888888888, \"#fdca26\"], [1.0, \"#f0f921\"]], \"sequentialminus\": [[0.0, \"#0d0887\"], [0.1111111111111111, \"#46039f\"], [0.2222222222222222, \"#7201a8\"], [0.3333333333333333, \"#9c179e\"], [0.4444444444444444, \"#bd3786\"], [0.5555555555555556, \"#d8576b\"], [0.6666666666666666, \"#ed7953\"], [0.7777777777777778, \"#fb9f3a\"], [0.8888888888888888, \"#fdca26\"], [1.0, \"#f0f921\"]]}, \"colorway\": [\"#636efa\", \"#EF553B\", \"#00cc96\", \"#ab63fa\", \"#FFA15A\", \"#19d3f3\", \"#FF6692\", \"#B6E880\", \"#FF97FF\", \"#FECB52\"], \"font\": {\"color\": \"#2a3f5f\"}, \"geo\": {\"bgcolor\": \"white\", \"lakecolor\": \"white\", \"landcolor\": \"#E5ECF6\", \"showlakes\": true, \"showland\": true, \"subunitcolor\": \"white\"}, \"hoverlabel\": {\"align\": \"left\"}, \"hovermode\": \"closest\", \"mapbox\": {\"style\": \"light\"}, \"paper_bgcolor\": \"white\", \"plot_bgcolor\": \"#E5ECF6\", \"polar\": {\"angularaxis\": {\"gridcolor\": \"white\", \"linecolor\": \"white\", \"ticks\": \"\"}, \"bgcolor\": \"#E5ECF6\", \"radialaxis\": {\"gridcolor\": \"white\", \"linecolor\": \"white\", \"ticks\": \"\"}}, \"scene\": {\"xaxis\": {\"backgroundcolor\": \"#E5ECF6\", \"gridcolor\": \"white\", \"gridwidth\": 2, \"linecolor\": \"white\", \"showbackground\": true, \"ticks\": \"\", \"zerolinecolor\": \"white\"}, \"yaxis\": {\"backgroundcolor\": \"#E5ECF6\", \"gridcolor\": \"white\", \"gridwidth\": 2, \"linecolor\": \"white\", \"showbackground\": true, \"ticks\": \"\", \"zerolinecolor\": \"white\"}, \"zaxis\": {\"backgroundcolor\": \"#E5ECF6\", \"gridcolor\": \"white\", \"gridwidth\": 2, \"linecolor\": \"white\", \"showbackground\": true, \"ticks\": \"\", \"zerolinecolor\": \"white\"}}, \"shapedefaults\": {\"line\": {\"color\": \"#2a3f5f\"}}, \"ternary\": {\"aaxis\": {\"gridcolor\": \"white\", \"linecolor\": \"white\", \"ticks\": \"\"}, \"baxis\": {\"gridcolor\": \"white\", \"linecolor\": \"white\", \"ticks\": \"\"}, \"bgcolor\": \"#E5ECF6\", \"caxis\": {\"gridcolor\": \"white\", \"linecolor\": \"white\", \"ticks\": \"\"}}, \"title\": {\"x\": 0.05}, \"xaxis\": {\"automargin\": true, \"gridcolor\": \"white\", \"linecolor\": \"white\", \"ticks\": \"\", \"title\": {\"standoff\": 15}, \"zerolinecolor\": \"white\", \"zerolinewidth\": 2}, \"yaxis\": {\"automargin\": true, \"gridcolor\": \"white\", \"linecolor\": \"white\", \"ticks\": \"\", \"title\": {\"standoff\": 15}, \"zerolinecolor\": \"white\", \"zerolinewidth\": 2}}}, \"title\": {\"text\": \"Projected Final Comp. Pick from Colts to Eagles by Wins at Halfway\"}, \"updatemenus\": [{\"buttons\": [{\"args\": [null, {\"frame\": {\"duration\": 500, \"redraw\": true}, \"fromcurrent\": true, \"mode\": \"immediate\", \"transition\": {\"duration\": 500, \"easing\": \"linear\"}}], \"label\": \"&#9654;\", \"method\": \"animate\"}, {\"args\": [[null], {\"frame\": {\"duration\": 0, \"redraw\": true}, \"fromcurrent\": true, \"mode\": \"immediate\", \"transition\": {\"duration\": 0, \"easing\": \"linear\"}}], \"label\": \"&#9724;\", \"method\": \"animate\"}], \"direction\": \"left\", \"pad\": {\"r\": 10, \"t\": 70}, \"showactive\": false, \"type\": \"buttons\", \"x\": 0.1, \"xanchor\": \"right\", \"y\": 0, \"yanchor\": \"top\"}], \"xaxis\": {\"anchor\": \"y\", \"domain\": [0.0, 1.0], \"range\": [1, 63], \"title\": {\"text\": \"Final Pick\"}}, \"yaxis\": {\"anchor\": \"x\", \"domain\": [0.0, 1.0], \"range\": [0.01, 2.3], \"title\": {\"text\": \"Percentage of Total Occurances (%)\"}}},                        {\"responsive\": true}                    ).then(function(){\n",
       "                            Plotly.addFrames('07605eb1-68a0-4d28-ab60-a4d6f8f4da17', [{\"data\": [{\"alignmentgroup\": \"True\", \"hovertemplate\": \"Second Quarter Wins=1<br>Final Pick=%{x}<br>Percentage of Total Occurances (%)=%{text}<br>Carson Final Snap %=%{marker.color}<extra></extra>\", \"legendgroup\": \"\", \"marker\": {\"color\": [0.7619613756611011, 0.7545909031465051, 0.7580193893898639, 0.8014085891894208, 0.785185233486144, 0.8215611941611498, 0.8014652919800537, 0.8046784097631717, 0.8164882419111402, 0.839001645882961, 0.8477603924409209, 0.8537941858393298, 0.8245921500916905, 0.8499305359930264, 0.8099032299461024, 0.8248679980948636, 0.8554306346922501, 0.8351903911443704, 0.8403303907188, 0.9317450313231159, 0.8879492827766697, 0.8110670417332748, 0.9012935583624058, 0.9492643088978822, 0.8974400967799613, 0.622973116355107, 0.6650246909413308, 0.6988436743667182, 0.6722223470058941, 0.6689238388682922, 0.6852559073290216, 0.7016152106295346, 0.6621335390084039, 0.6952026716206435, 0.7090115741256476, 0.6831756666928689, 0.7016264788376558, 0.701608622494087, 0.7442710437437895, 0.7110761381338351, 0.6908827187951787], \"coloraxis\": \"coloraxis\"}, \"name\": \"\", \"offsetgroup\": \"\", \"orientation\": \"v\", \"showlegend\": false, \"text\": [0.02, 0.02, 0.06, 0.08, 0.09, 0.09, 0.15, 0.17, 0.12, 0.05, 0.11, 0.07, 0.06, 0.08, 0.06, 0.04, 0.04, 0.01, 0.01, 0.02, 0.01, 0.01, 0.01, 0.01, 0.01, 0.09, 0.14, 0.17, 0.32, 0.25, 0.29, 0.18, 0.22, 0.14, 0.06, 0.11, 0.04, 0.07, 0.01, 0.02, 0.01], \"textposition\": \"auto\", \"x\": [1, 2, 3, 4, 5, 6, 7, 8, 9, 10, 11, 12, 13, 14, 15, 16, 17, 18, 19, 20, 21, 22, 23, 28, 30, 33, 34, 35, 36, 37, 38, 39, 40, 41, 42, 43, 44, 45, 46, 47, 48], \"xaxis\": \"x\", \"y\": [0.02, 0.02, 0.06, 0.08, 0.09, 0.09, 0.15, 0.17, 0.12, 0.05, 0.11, 0.07, 0.06, 0.08, 0.06, 0.04, 0.04, 0.01, 0.01, 0.02, 0.01, 0.01, 0.01, 0.01, 0.01, 0.09, 0.14, 0.17, 0.32, 0.25, 0.29, 0.18, 0.22, 0.14, 0.06, 0.11, 0.04, 0.07, 0.01, 0.02, 0.01], \"yaxis\": \"y\", \"type\": \"bar\"}], \"name\": \"1\"}, {\"data\": [{\"alignmentgroup\": \"True\", \"hovertemplate\": \"Second Quarter Wins=2<br>Final Pick=%{x}<br>Percentage of Total Occurances (%)=%{text}<br>Carson Final Snap %=%{marker.color}<extra></extra>\", \"legendgroup\": \"\", \"marker\": {\"color\": [0.8063565135180552, 0.7911885758466536, 0.7956987672394407, 0.799105060519276, 0.805394182085504, 0.8178961241669268, 0.8152105551757828, 0.8290107154301176, 0.8302792321831995, 0.8424658221984239, 0.8449886881713558, 0.8488738109388759, 0.8519718170081197, 0.8650407677767108, 0.872434777905924, 0.8898242795237695, 0.8731794696498433, 0.916926149770079, 0.9151018290526615, 0.919990002087572, 0.9079191488297071, 0.9255314445424369, 0.9222826444338527, 0.931549483853535, 0.9083592171356042, 0.8909238032531261, 0.933293897307058, 0.9248010937502654, 0.906997652143623, 0.915929096711385, 0.6699883531480852, 0.673074839139501, 0.6950211243888816, 0.6962588416878488, 0.6986425430761581, 0.698722174272238, 0.7050499355233664, 0.700383698918188, 0.7102240966501467, 0.7069085594761234, 0.7064923026053871, 0.7106679321875539, 0.6981973947891105, 0.7105539840920684, 0.7152248159966733, 0.7106098174563665, 0.7090437534768239, 0.7381717889002966, 0.7342345234423371, 0.7003759194678664, 0.7315143421179433, 0.6971921565640441, 0.6711957105851744, 0.7477642138247818, 0.7206406019764704, 0.6763718655308861], \"coloraxis\": \"coloraxis\"}, \"name\": \"\", \"offsetgroup\": \"\", \"orientation\": \"v\", \"showlegend\": false, \"text\": [0.06, 0.18, 0.45, 0.58, 0.76, 0.92, 1.25, 1.55, 1.29, 1.55, 1.46, 1.01, 1.17, 1.03, 0.77, 0.54, 0.37, 0.21, 0.27, 0.19, 0.17, 0.29, 0.2, 0.11, 0.19, 0.16, 0.14, 0.18, 0.16, 0.16, 0.1, 0.22, 0.35000000000000003, 0.6, 0.77, 0.73, 0.8200000000000001, 0.85, 0.77, 0.6, 0.58, 0.49, 0.4, 0.28, 0.15, 0.15, 0.12, 0.02, 0.01, 0.01, 0.01, 0.01, 0.01, 0.01, 0.01, 0.01], \"textposition\": \"auto\", \"x\": [2, 3, 4, 5, 6, 7, 8, 9, 10, 11, 12, 13, 14, 15, 16, 17, 18, 19, 20, 21, 22, 23, 24, 25, 26, 27, 28, 29, 30, 31, 33, 34, 35, 36, 37, 38, 39, 40, 41, 42, 43, 44, 45, 46, 47, 48, 49, 50, 52, 53, 54, 55, 56, 59, 60, 63], \"xaxis\": \"x\", \"y\": [0.06, 0.18, 0.45, 0.58, 0.76, 0.92, 1.25, 1.55, 1.29, 1.55, 1.46, 1.01, 1.17, 1.03, 0.77, 0.54, 0.37, 0.21, 0.27, 0.19, 0.17, 0.29, 0.2, 0.11, 0.19, 0.16, 0.14, 0.18, 0.16, 0.16, 0.1, 0.22, 0.35000000000000003, 0.6, 0.77, 0.73, 0.8200000000000001, 0.85, 0.77, 0.6, 0.58, 0.49, 0.4, 0.28, 0.15, 0.15, 0.12, 0.02, 0.01, 0.01, 0.01, 0.01, 0.01, 0.01, 0.01, 0.01], \"yaxis\": \"y\", \"type\": \"bar\"}], \"name\": \"2\"}, {\"data\": [{\"alignmentgroup\": \"True\", \"hovertemplate\": \"Second Quarter Wins=3<br>Final Pick=%{x}<br>Percentage of Total Occurances (%)=%{text}<br>Carson Final Snap %=%{marker.color}<extra></extra>\", \"legendgroup\": \"\", \"marker\": {\"color\": [0.8119784895549033, 0.8082361302053004, 0.8135706770527334, 0.8149657997595007, 0.8376998542707442, 0.8320332806047678, 0.8434718700365685, 0.8498539894334991, 0.8634262241568452, 0.8717147942149446, 0.8628794075837697, 0.8714539231593764, 0.8792927919629441, 0.8898735822634296, 0.8919389671902003, 0.8894151479551595, 0.9128336617407827, 0.9360151786005347, 0.9348020938806214, 0.9294807979576791, 0.9378911988077255, 0.9400000663558391, 0.9411675897727373, 0.9308453825938541, 0.9364962800920904, 0.9322124048554559, 0.934201511075202, 0.9321011469585757, 0.9327430980791229, 0.9393363903162243, 0.9072389570653154, 0.7392005649136584, 0.7104021694117383, 0.7125427178137114, 0.6916780208452802, 0.7148408116853288, 0.7132376741389397, 0.7133146199569612, 0.7157487879748703, 0.7162123189319776, 0.7166871892684259, 0.7171232348088767, 0.7136683862706189, 0.7216872644746097, 0.7127527274457829, 0.7269965685859731, 0.7134059006175497, 0.7108280719464559, 0.7174541035799475, 0.7036441950355272, 0.7003241583858567], \"coloraxis\": \"coloraxis\"}, \"name\": \"\", \"offsetgroup\": \"\", \"orientation\": \"v\", \"showlegend\": false, \"text\": [0.06, 0.16, 0.31, 0.43, 0.62, 1.03, 1.55, 1.69, 2.08, 2.4, 2.5, 2.57, 2.42, 2.22, 2.1, 1.8, 1.3900000000000001, 1.09, 1.28, 1.25, 1.25, 1.21, 1.24, 0.89, 0.99, 0.97, 0.9500000000000001, 0.67, 0.6900000000000001, 0.47000000000000003, 0.03, 0.01, 0.05, 0.1, 0.13, 0.24, 0.35000000000000003, 0.37, 0.5, 0.47000000000000003, 0.38, 0.36, 0.25, 0.22, 0.13, 0.19, 0.08, 0.08, 0.02, 0.01, 0.01], \"textposition\": \"auto\", \"x\": [2, 3, 4, 5, 6, 7, 8, 9, 10, 11, 12, 13, 14, 15, 16, 17, 18, 19, 20, 21, 22, 23, 24, 25, 26, 27, 28, 29, 30, 31, 32, 33, 34, 35, 36, 37, 38, 39, 40, 41, 42, 43, 44, 45, 46, 47, 48, 49, 50, 56, 58], \"xaxis\": \"x\", \"y\": [0.06, 0.16, 0.31, 0.43, 0.62, 1.03, 1.55, 1.69, 2.08, 2.4, 2.5, 2.57, 2.42, 2.22, 2.1, 1.8, 1.3900000000000001, 1.09, 1.28, 1.25, 1.25, 1.21, 1.24, 0.89, 0.99, 0.97, 0.9500000000000001, 0.67, 0.6900000000000001, 0.47000000000000003, 0.03, 0.01, 0.05, 0.1, 0.13, 0.24, 0.35000000000000003, 0.37, 0.5, 0.47000000000000003, 0.38, 0.36, 0.25, 0.22, 0.13, 0.19, 0.08, 0.08, 0.02, 0.01, 0.01], \"yaxis\": \"y\", \"type\": \"bar\"}], \"name\": \"3\"}, {\"data\": [{\"alignmentgroup\": \"True\", \"hovertemplate\": \"Second Quarter Wins=4<br>Final Pick=%{x}<br>Percentage of Total Occurances (%)=%{text}<br>Carson Final Snap %=%{marker.color}<extra></extra>\", \"legendgroup\": \"\", \"marker\": {\"color\": [0.8075892867416549, 0.8098123741225454, 0.821245890761504, 0.84203065641269, 0.8263075196926224, 0.8620522112889402, 0.8673180346253841, 0.8761951903597798, 0.8667092875807012, 0.8714290773103622, 0.8905860319996173, 0.8939777331817716, 0.8980306724312487, 0.9050053685983366, 0.9113355653521, 0.9170501497836568, 0.9148216754587037, 0.9448451880181898, 0.9416343662738802, 0.9459212123476064, 0.9404253521448868, 0.940623811353618, 0.9483561673273055, 0.9433414017616425, 0.9444034897233796, 0.9472521859226681, 0.9492507225048176, 0.9460487035495099, 0.951673214347494, 0.9443560292080145, 0.9102216167841332, 0.7001994573456652, 0.6994443619516815, 0.6835560695593014, 0.7275494170221484, 0.7490108235294116, 0.7305464857190671, 0.6683393328105073, 0.7193362470038733, 0.7065427022454227, 0.7236791777884898, 0.7318080564708344, 0.7168538884969222, 0.728529251541465, 0.7402841042981807, 0.7465138855664547, 0.681461837341628], \"coloraxis\": \"coloraxis\"}, \"name\": \"\", \"offsetgroup\": \"\", \"orientation\": \"v\", \"showlegend\": false, \"text\": [0.02, 0.02, 0.06, 0.02, 0.16, 0.21, 0.41000000000000003, 0.3, 0.61, 0.8, 0.88, 1.16, 1.24, 1.18, 1.1500000000000001, 1.29, 1.11, 1.32, 1.33, 1.22, 1.22, 1.35, 1.07, 0.93, 1.1, 0.89, 0.98, 0.75, 0.73, 0.5, 0.03, 0.01, 0.02, 0.01, 0.01, 0.01, 0.03, 0.01, 0.02, 0.09, 0.03, 0.03, 0.02, 0.01, 0.01, 0.01, 0.01], \"textposition\": \"auto\", \"x\": [2, 3, 4, 5, 6, 7, 8, 9, 10, 11, 12, 13, 14, 15, 16, 17, 18, 19, 20, 21, 22, 23, 24, 25, 26, 27, 28, 29, 30, 31, 32, 35, 37, 38, 39, 40, 41, 42, 44, 45, 46, 47, 48, 50, 58, 61, 63], \"xaxis\": \"x\", \"y\": [0.02, 0.02, 0.06, 0.02, 0.16, 0.21, 0.41000000000000003, 0.3, 0.61, 0.8, 0.88, 1.16, 1.24, 1.18, 1.1500000000000001, 1.29, 1.11, 1.32, 1.33, 1.22, 1.22, 1.35, 1.07, 0.93, 1.1, 0.89, 0.98, 0.75, 0.73, 0.5, 0.03, 0.01, 0.02, 0.01, 0.01, 0.01, 0.03, 0.01, 0.02, 0.09, 0.03, 0.03, 0.02, 0.01, 0.01, 0.01, 0.01], \"yaxis\": \"y\", \"type\": \"bar\"}], \"name\": \"4\"}, {\"data\": [{\"alignmentgroup\": \"True\", \"hovertemplate\": \"Second Quarter Wins=5<br>Final Pick=%{x}<br>Percentage of Total Occurances (%)=%{text}<br>Carson Final Snap %=%{marker.color}<extra></extra>\", \"legendgroup\": \"\", \"marker\": {\"color\": [0.8322197672798506, 0.7789671643477326, 0.9006412326850762, 0.9128962566417874, 0.9161841242326499, 0.893891647088656, 0.9020631944973485, 0.902320455803569, 0.9229410813083826, 0.9106990363013454, 0.9300103168261383, 0.9236068591979827, 0.942987917293848, 0.9620676981067797, 0.9577951992598693, 0.9605447079133145, 0.95903763178682, 0.9536189156742354, 0.9593001783712163, 0.9327157795665489, 0.9509645734064539, 0.9361035971483589, 0.9446938055022093, 0.9444008915198528, 0.9583704335804532, 0.9958823529411764], \"coloraxis\": \"coloraxis\"}, \"name\": \"\", \"offsetgroup\": \"\", \"orientation\": \"v\", \"showlegend\": false, \"text\": [0.02, 0.01, 0.01, 0.03, 0.03, 0.04, 0.11, 0.1, 0.12, 0.15, 0.19, 0.14, 0.36, 0.28, 0.35000000000000003, 0.31, 0.27, 0.4, 0.33, 0.18, 0.24, 0.22, 0.21, 0.15, 0.14, 0.01], \"textposition\": \"auto\", \"x\": [7, 8, 9, 10, 11, 12, 13, 14, 15, 16, 17, 18, 19, 20, 21, 22, 23, 24, 25, 26, 27, 28, 29, 30, 31, 32], \"xaxis\": \"x\", \"y\": [0.02, 0.01, 0.01, 0.03, 0.03, 0.04, 0.11, 0.1, 0.12, 0.15, 0.19, 0.14, 0.36, 0.28, 0.35000000000000003, 0.31, 0.27, 0.4, 0.33, 0.18, 0.24, 0.22, 0.21, 0.15, 0.14, 0.01], \"yaxis\": \"y\", \"type\": \"bar\"}], \"name\": \"5\"}]);\n",
       "                        }).then(function(){\n",
       "                            \n",
       "var gd = document.getElementById('07605eb1-68a0-4d28-ab60-a4d6f8f4da17');\n",
       "var x = new MutationObserver(function (mutations, observer) {{\n",
       "        var display = window.getComputedStyle(gd).display;\n",
       "        if (!display || display === 'none') {{\n",
       "            console.log([gd, 'removed!']);\n",
       "            Plotly.purge(gd);\n",
       "            observer.disconnect();\n",
       "        }}\n",
       "}});\n",
       "\n",
       "// Listen for the removal of the full notebook cells\n",
       "var notebookContainer = gd.closest('#notebook-container');\n",
       "if (notebookContainer) {{\n",
       "    x.observe(notebookContainer, {childList: true});\n",
       "}}\n",
       "\n",
       "// Listen for the clearing of the current output cell\n",
       "var outputEl = gd.closest('.output');\n",
       "if (outputEl) {{\n",
       "    x.observe(outputEl, {childList: true});\n",
       "}}\n",
       "\n",
       "                        })                };                });            </script>        </div>"
      ]
     },
     "metadata": {},
     "output_type": "display_data"
    }
   ],
   "source": [
    "Wins_by_First_Quarter_Result=IND_WINS.groupby(['Final Pick','Second Quarter Wins'],as_index=False)['Percentage of Total Occurances (%)'].sum()\n",
    "\n",
    "Carson_Final_Snap_Percentage=IND_WINS.groupby([\"Final Pick\",'Second Quarter Wins'],as_index=False)['Carson Final Snap %'].mean()\n",
    "Wins_by_First_Quarter_Result=pd.merge(Wins_by_First_Quarter_Result,Carson_Final_Snap_Percentage,how=\"inner\",\n",
    "        left_on=['Second Quarter Wins',\"Final Pick\"], right_on=['Second Quarter Wins',\"Final Pick\"])\n",
    "Plotly_Bar_Plot(df=Wins_by_First_Quarter_Result,Fact1='Final Pick',slider_text='Second Quarter Wins',\n",
    "                Color_Titler='Carson Final Snap %',Value='Percentage of Total Occurances (%)',titler='Projected Final Comp. Pick from Colts to Eagles by Wins at Halfway',vmax=2.3)"
   ]
  },
  {
   "cell_type": "markdown",
   "id": "3f05a006",
   "metadata": {},
   "source": [
    "### Third Quarter Done"
   ]
  },
  {
   "cell_type": "code",
   "execution_count": 94,
   "id": "cd615752",
   "metadata": {
    "scrolled": true
   },
   "outputs": [
    {
     "data": {
      "text/html": [
       "<div>                            <div id=\"6b2d98e0-5490-4d39-bf84-3a6ff003a52f\" class=\"plotly-graph-div\" style=\"height:525px; width:100%;\"></div>            <script type=\"text/javascript\">                require([\"plotly\"], function(Plotly) {                    window.PLOTLYENV=window.PLOTLYENV || {};                                    if (document.getElementById(\"6b2d98e0-5490-4d39-bf84-3a6ff003a52f\")) {                    Plotly.newPlot(                        \"6b2d98e0-5490-4d39-bf84-3a6ff003a52f\",                        [{\"alignmentgroup\": \"True\", \"hovertemplate\": \"Third Quarter Wins=1<br>Final Pick=%{x}<br>Percentage of Total Occurances (%)=%{text}<br>Carson Final Snap %=%{marker.color}<extra></extra>\", \"legendgroup\": \"\", \"marker\": {\"color\": [0.5962329209189798, 0.6540573423920515, 0.6171844340028407, 0.5983928320440917], \"coloraxis\": \"coloraxis\"}, \"name\": \"\", \"offsetgroup\": \"\", \"orientation\": \"v\", \"showlegend\": false, \"text\": [0.01, 0.01, 0.02, 0.02], \"textposition\": \"auto\", \"type\": \"bar\", \"x\": [33, 34, 36, 37], \"xaxis\": \"x\", \"y\": [0.01, 0.01, 0.02, 0.02], \"yaxis\": \"y\"}],                        {\"barmode\": \"relative\", \"coloraxis\": {\"cmax\": 0.9958823529411764, \"cmin\": 0.5962329209189798, \"colorbar\": {\"title\": {\"text\": \"Carson Final Snap %\"}}, \"colorscale\": [[0.0, \"#0d0887\"], [0.1111111111111111, \"#46039f\"], [0.2222222222222222, \"#7201a8\"], [0.3333333333333333, \"#9c179e\"], [0.4444444444444444, \"#bd3786\"], [0.5555555555555556, \"#d8576b\"], [0.6666666666666666, \"#ed7953\"], [0.7777777777777778, \"#fb9f3a\"], [0.8888888888888888, \"#fdca26\"], [1.0, \"#f0f921\"]]}, \"legend\": {\"tracegroupgap\": 0}, \"margin\": {\"b\": 80, \"l\": 80, \"r\": 80, \"t\": 100}, \"paper_bgcolor\": \"LightSteelBlue\", \"sliders\": [{\"active\": 0, \"currentvalue\": {\"prefix\": \"Third Quarter Wins=\"}, \"len\": 0.9, \"pad\": {\"b\": 10, \"t\": 60}, \"steps\": [{\"args\": [[\"1\"], {\"frame\": {\"duration\": 0, \"redraw\": true}, \"fromcurrent\": true, \"mode\": \"immediate\", \"transition\": {\"duration\": 0, \"easing\": \"linear\"}}], \"label\": \"1\", \"method\": \"animate\"}, {\"args\": [[\"2\"], {\"frame\": {\"duration\": 0, \"redraw\": true}, \"fromcurrent\": true, \"mode\": \"immediate\", \"transition\": {\"duration\": 0, \"easing\": \"linear\"}}], \"label\": \"2\", \"method\": \"animate\"}, {\"args\": [[\"3\"], {\"frame\": {\"duration\": 0, \"redraw\": true}, \"fromcurrent\": true, \"mode\": \"immediate\", \"transition\": {\"duration\": 0, \"easing\": \"linear\"}}], \"label\": \"3\", \"method\": \"animate\"}, {\"args\": [[\"4\"], {\"frame\": {\"duration\": 0, \"redraw\": true}, \"fromcurrent\": true, \"mode\": \"immediate\", \"transition\": {\"duration\": 0, \"easing\": \"linear\"}}], \"label\": \"4\", \"method\": \"animate\"}, {\"args\": [[\"5\"], {\"frame\": {\"duration\": 0, \"redraw\": true}, \"fromcurrent\": true, \"mode\": \"immediate\", \"transition\": {\"duration\": 0, \"easing\": \"linear\"}}], \"label\": \"5\", \"method\": \"animate\"}, {\"args\": [[\"6\"], {\"frame\": {\"duration\": 0, \"redraw\": true}, \"fromcurrent\": true, \"mode\": \"immediate\", \"transition\": {\"duration\": 0, \"easing\": \"linear\"}}], \"label\": \"6\", \"method\": \"animate\"}, {\"args\": [[\"7\"], {\"frame\": {\"duration\": 0, \"redraw\": true}, \"fromcurrent\": true, \"mode\": \"immediate\", \"transition\": {\"duration\": 0, \"easing\": \"linear\"}}], \"label\": \"7\", \"method\": \"animate\"}, {\"args\": [[\"8\"], {\"frame\": {\"duration\": 0, \"redraw\": true}, \"fromcurrent\": true, \"mode\": \"immediate\", \"transition\": {\"duration\": 0, \"easing\": \"linear\"}}], \"label\": \"8\", \"method\": \"animate\"}, {\"args\": [[\"9\"], {\"frame\": {\"duration\": 0, \"redraw\": true}, \"fromcurrent\": true, \"mode\": \"immediate\", \"transition\": {\"duration\": 0, \"easing\": \"linear\"}}], \"label\": \"9\", \"method\": \"animate\"}], \"x\": 0.1, \"xanchor\": \"left\", \"y\": 0, \"yanchor\": \"top\"}], \"template\": {\"data\": {\"bar\": [{\"error_x\": {\"color\": \"#2a3f5f\"}, \"error_y\": {\"color\": \"#2a3f5f\"}, \"marker\": {\"line\": {\"color\": \"#E5ECF6\", \"width\": 0.5}}, \"type\": \"bar\"}], \"barpolar\": [{\"marker\": {\"line\": {\"color\": \"#E5ECF6\", \"width\": 0.5}}, \"type\": \"barpolar\"}], \"carpet\": [{\"aaxis\": {\"endlinecolor\": \"#2a3f5f\", \"gridcolor\": \"white\", \"linecolor\": \"white\", \"minorgridcolor\": \"white\", \"startlinecolor\": \"#2a3f5f\"}, \"baxis\": {\"endlinecolor\": \"#2a3f5f\", \"gridcolor\": \"white\", \"linecolor\": \"white\", \"minorgridcolor\": \"white\", \"startlinecolor\": \"#2a3f5f\"}, \"type\": \"carpet\"}], \"choropleth\": [{\"colorbar\": {\"outlinewidth\": 0, \"ticks\": \"\"}, \"type\": \"choropleth\"}], \"contour\": [{\"colorbar\": {\"outlinewidth\": 0, \"ticks\": \"\"}, \"colorscale\": [[0.0, \"#0d0887\"], [0.1111111111111111, \"#46039f\"], [0.2222222222222222, \"#7201a8\"], [0.3333333333333333, \"#9c179e\"], [0.4444444444444444, \"#bd3786\"], [0.5555555555555556, \"#d8576b\"], [0.6666666666666666, \"#ed7953\"], [0.7777777777777778, \"#fb9f3a\"], [0.8888888888888888, \"#fdca26\"], [1.0, \"#f0f921\"]], \"type\": \"contour\"}], \"contourcarpet\": [{\"colorbar\": {\"outlinewidth\": 0, \"ticks\": \"\"}, \"type\": \"contourcarpet\"}], \"heatmap\": [{\"colorbar\": {\"outlinewidth\": 0, \"ticks\": \"\"}, \"colorscale\": [[0.0, \"#0d0887\"], [0.1111111111111111, \"#46039f\"], [0.2222222222222222, \"#7201a8\"], [0.3333333333333333, \"#9c179e\"], [0.4444444444444444, \"#bd3786\"], [0.5555555555555556, \"#d8576b\"], [0.6666666666666666, \"#ed7953\"], [0.7777777777777778, \"#fb9f3a\"], [0.8888888888888888, \"#fdca26\"], [1.0, \"#f0f921\"]], \"type\": \"heatmap\"}], \"heatmapgl\": [{\"colorbar\": {\"outlinewidth\": 0, \"ticks\": \"\"}, \"colorscale\": [[0.0, \"#0d0887\"], [0.1111111111111111, \"#46039f\"], [0.2222222222222222, \"#7201a8\"], [0.3333333333333333, \"#9c179e\"], [0.4444444444444444, \"#bd3786\"], [0.5555555555555556, \"#d8576b\"], [0.6666666666666666, \"#ed7953\"], [0.7777777777777778, \"#fb9f3a\"], [0.8888888888888888, \"#fdca26\"], [1.0, \"#f0f921\"]], \"type\": \"heatmapgl\"}], \"histogram\": [{\"marker\": {\"colorbar\": {\"outlinewidth\": 0, \"ticks\": \"\"}}, \"type\": \"histogram\"}], \"histogram2d\": [{\"colorbar\": {\"outlinewidth\": 0, \"ticks\": \"\"}, \"colorscale\": [[0.0, \"#0d0887\"], [0.1111111111111111, \"#46039f\"], [0.2222222222222222, \"#7201a8\"], [0.3333333333333333, \"#9c179e\"], [0.4444444444444444, \"#bd3786\"], [0.5555555555555556, \"#d8576b\"], [0.6666666666666666, \"#ed7953\"], [0.7777777777777778, \"#fb9f3a\"], [0.8888888888888888, \"#fdca26\"], [1.0, \"#f0f921\"]], \"type\": \"histogram2d\"}], \"histogram2dcontour\": [{\"colorbar\": {\"outlinewidth\": 0, \"ticks\": \"\"}, \"colorscale\": [[0.0, \"#0d0887\"], [0.1111111111111111, \"#46039f\"], [0.2222222222222222, \"#7201a8\"], [0.3333333333333333, \"#9c179e\"], [0.4444444444444444, \"#bd3786\"], [0.5555555555555556, \"#d8576b\"], [0.6666666666666666, \"#ed7953\"], [0.7777777777777778, \"#fb9f3a\"], [0.8888888888888888, \"#fdca26\"], [1.0, \"#f0f921\"]], \"type\": \"histogram2dcontour\"}], \"mesh3d\": [{\"colorbar\": {\"outlinewidth\": 0, \"ticks\": \"\"}, \"type\": \"mesh3d\"}], \"parcoords\": [{\"line\": {\"colorbar\": {\"outlinewidth\": 0, \"ticks\": \"\"}}, \"type\": \"parcoords\"}], \"pie\": [{\"automargin\": true, \"type\": \"pie\"}], \"scatter\": [{\"marker\": {\"colorbar\": {\"outlinewidth\": 0, \"ticks\": \"\"}}, \"type\": \"scatter\"}], \"scatter3d\": [{\"line\": {\"colorbar\": {\"outlinewidth\": 0, \"ticks\": \"\"}}, \"marker\": {\"colorbar\": {\"outlinewidth\": 0, \"ticks\": \"\"}}, \"type\": \"scatter3d\"}], \"scattercarpet\": [{\"marker\": {\"colorbar\": {\"outlinewidth\": 0, \"ticks\": \"\"}}, \"type\": \"scattercarpet\"}], \"scattergeo\": [{\"marker\": {\"colorbar\": {\"outlinewidth\": 0, \"ticks\": \"\"}}, \"type\": \"scattergeo\"}], \"scattergl\": [{\"marker\": {\"colorbar\": {\"outlinewidth\": 0, \"ticks\": \"\"}}, \"type\": \"scattergl\"}], \"scattermapbox\": [{\"marker\": {\"colorbar\": {\"outlinewidth\": 0, \"ticks\": \"\"}}, \"type\": \"scattermapbox\"}], \"scatterpolar\": [{\"marker\": {\"colorbar\": {\"outlinewidth\": 0, \"ticks\": \"\"}}, \"type\": \"scatterpolar\"}], \"scatterpolargl\": [{\"marker\": {\"colorbar\": {\"outlinewidth\": 0, \"ticks\": \"\"}}, \"type\": \"scatterpolargl\"}], \"scatterternary\": [{\"marker\": {\"colorbar\": {\"outlinewidth\": 0, \"ticks\": \"\"}}, \"type\": \"scatterternary\"}], \"surface\": [{\"colorbar\": {\"outlinewidth\": 0, \"ticks\": \"\"}, \"colorscale\": [[0.0, \"#0d0887\"], [0.1111111111111111, \"#46039f\"], [0.2222222222222222, \"#7201a8\"], [0.3333333333333333, \"#9c179e\"], [0.4444444444444444, \"#bd3786\"], [0.5555555555555556, \"#d8576b\"], [0.6666666666666666, \"#ed7953\"], [0.7777777777777778, \"#fb9f3a\"], [0.8888888888888888, \"#fdca26\"], [1.0, \"#f0f921\"]], \"type\": \"surface\"}], \"table\": [{\"cells\": {\"fill\": {\"color\": \"#EBF0F8\"}, \"line\": {\"color\": \"white\"}}, \"header\": {\"fill\": {\"color\": \"#C8D4E3\"}, \"line\": {\"color\": \"white\"}}, \"type\": \"table\"}]}, \"layout\": {\"annotationdefaults\": {\"arrowcolor\": \"#2a3f5f\", \"arrowhead\": 0, \"arrowwidth\": 1}, \"coloraxis\": {\"colorbar\": {\"outlinewidth\": 0, \"ticks\": \"\"}}, \"colorscale\": {\"diverging\": [[0, \"#8e0152\"], [0.1, \"#c51b7d\"], [0.2, \"#de77ae\"], [0.3, \"#f1b6da\"], [0.4, \"#fde0ef\"], [0.5, \"#f7f7f7\"], [0.6, \"#e6f5d0\"], [0.7, \"#b8e186\"], [0.8, \"#7fbc41\"], [0.9, \"#4d9221\"], [1, \"#276419\"]], \"sequential\": [[0.0, \"#0d0887\"], [0.1111111111111111, \"#46039f\"], [0.2222222222222222, \"#7201a8\"], [0.3333333333333333, \"#9c179e\"], [0.4444444444444444, \"#bd3786\"], [0.5555555555555556, \"#d8576b\"], [0.6666666666666666, \"#ed7953\"], [0.7777777777777778, \"#fb9f3a\"], [0.8888888888888888, \"#fdca26\"], [1.0, \"#f0f921\"]], \"sequentialminus\": [[0.0, \"#0d0887\"], [0.1111111111111111, \"#46039f\"], [0.2222222222222222, \"#7201a8\"], [0.3333333333333333, \"#9c179e\"], [0.4444444444444444, \"#bd3786\"], [0.5555555555555556, \"#d8576b\"], [0.6666666666666666, \"#ed7953\"], [0.7777777777777778, \"#fb9f3a\"], [0.8888888888888888, \"#fdca26\"], [1.0, \"#f0f921\"]]}, \"colorway\": [\"#636efa\", \"#EF553B\", \"#00cc96\", \"#ab63fa\", \"#FFA15A\", \"#19d3f3\", \"#FF6692\", \"#B6E880\", \"#FF97FF\", \"#FECB52\"], \"font\": {\"color\": \"#2a3f5f\"}, \"geo\": {\"bgcolor\": \"white\", \"lakecolor\": \"white\", \"landcolor\": \"#E5ECF6\", \"showlakes\": true, \"showland\": true, \"subunitcolor\": \"white\"}, \"hoverlabel\": {\"align\": \"left\"}, \"hovermode\": \"closest\", \"mapbox\": {\"style\": \"light\"}, \"paper_bgcolor\": \"white\", \"plot_bgcolor\": \"#E5ECF6\", \"polar\": {\"angularaxis\": {\"gridcolor\": \"white\", \"linecolor\": \"white\", \"ticks\": \"\"}, \"bgcolor\": \"#E5ECF6\", \"radialaxis\": {\"gridcolor\": \"white\", \"linecolor\": \"white\", \"ticks\": \"\"}}, \"scene\": {\"xaxis\": {\"backgroundcolor\": \"#E5ECF6\", \"gridcolor\": \"white\", \"gridwidth\": 2, \"linecolor\": \"white\", \"showbackground\": true, \"ticks\": \"\", \"zerolinecolor\": \"white\"}, \"yaxis\": {\"backgroundcolor\": \"#E5ECF6\", \"gridcolor\": \"white\", \"gridwidth\": 2, \"linecolor\": \"white\", \"showbackground\": true, \"ticks\": \"\", \"zerolinecolor\": \"white\"}, \"zaxis\": {\"backgroundcolor\": \"#E5ECF6\", \"gridcolor\": \"white\", \"gridwidth\": 2, \"linecolor\": \"white\", \"showbackground\": true, \"ticks\": \"\", \"zerolinecolor\": \"white\"}}, \"shapedefaults\": {\"line\": {\"color\": \"#2a3f5f\"}}, \"ternary\": {\"aaxis\": {\"gridcolor\": \"white\", \"linecolor\": \"white\", \"ticks\": \"\"}, \"baxis\": {\"gridcolor\": \"white\", \"linecolor\": \"white\", \"ticks\": \"\"}, \"bgcolor\": \"#E5ECF6\", \"caxis\": {\"gridcolor\": \"white\", \"linecolor\": \"white\", \"ticks\": \"\"}}, \"title\": {\"x\": 0.05}, \"xaxis\": {\"automargin\": true, \"gridcolor\": \"white\", \"linecolor\": \"white\", \"ticks\": \"\", \"title\": {\"standoff\": 15}, \"zerolinecolor\": \"white\", \"zerolinewidth\": 2}, \"yaxis\": {\"automargin\": true, \"gridcolor\": \"white\", \"linecolor\": \"white\", \"ticks\": \"\", \"title\": {\"standoff\": 15}, \"zerolinecolor\": \"white\", \"zerolinewidth\": 2}}}, \"title\": {\"text\": \"Projected Final Comp. Pick from Colts to Eagles by Wins at 3rd Quarter\"}, \"updatemenus\": [{\"buttons\": [{\"args\": [null, {\"frame\": {\"duration\": 500, \"redraw\": true}, \"fromcurrent\": true, \"mode\": \"immediate\", \"transition\": {\"duration\": 500, \"easing\": \"linear\"}}], \"label\": \"&#9654;\", \"method\": \"animate\"}, {\"args\": [[null], {\"frame\": {\"duration\": 0, \"redraw\": true}, \"fromcurrent\": true, \"mode\": \"immediate\", \"transition\": {\"duration\": 0, \"easing\": \"linear\"}}], \"label\": \"&#9724;\", \"method\": \"animate\"}], \"direction\": \"left\", \"pad\": {\"r\": 10, \"t\": 70}, \"showactive\": false, \"type\": \"buttons\", \"x\": 0.1, \"xanchor\": \"right\", \"y\": 0, \"yanchor\": \"top\"}], \"xaxis\": {\"anchor\": \"y\", \"domain\": [0.0, 1.0], \"range\": [1, 63], \"title\": {\"text\": \"Final Pick\"}}, \"yaxis\": {\"anchor\": \"x\", \"domain\": [0.0, 1.0], \"range\": [0.01, 2.22], \"title\": {\"text\": \"Percentage of Total Occurances (%)\"}}},                        {\"responsive\": true}                    ).then(function(){\n",
       "                            Plotly.addFrames('6b2d98e0-5490-4d39-bf84-3a6ff003a52f', [{\"data\": [{\"alignmentgroup\": \"True\", \"hovertemplate\": \"Third Quarter Wins=1<br>Final Pick=%{x}<br>Percentage of Total Occurances (%)=%{text}<br>Carson Final Snap %=%{marker.color}<extra></extra>\", \"legendgroup\": \"\", \"marker\": {\"color\": [0.5962329209189798, 0.6540573423920515, 0.6171844340028407, 0.5983928320440917], \"coloraxis\": \"coloraxis\"}, \"name\": \"\", \"offsetgroup\": \"\", \"orientation\": \"v\", \"showlegend\": false, \"text\": [0.01, 0.01, 0.02, 0.02], \"textposition\": \"auto\", \"x\": [33, 34, 36, 37], \"xaxis\": \"x\", \"y\": [0.01, 0.01, 0.02, 0.02], \"yaxis\": \"y\", \"type\": \"bar\"}], \"name\": \"1\"}, {\"data\": [{\"alignmentgroup\": \"True\", \"hovertemplate\": \"Third Quarter Wins=2<br>Final Pick=%{x}<br>Percentage of Total Occurances (%)=%{text}<br>Carson Final Snap %=%{marker.color}<extra></extra>\", \"legendgroup\": \"\", \"marker\": {\"color\": [0.8112179808440871, 0.75925700499762, 0.7572775460635176, 0.7997744807733407, 0.7824356973248008, 0.7572292936064942, 0.8086376881270827, 0.6191197888281312, 0.6518036811415635, 0.6914843986709727, 0.6631012940798013, 0.6678193644601372, 0.6564730997196724, 0.6665912842775541, 0.6532794430557599, 0.7044318245335004, 0.6881051742855684, 0.6778366342016224, 0.6442324935691373], \"coloraxis\": \"coloraxis\"}, \"name\": \"\", \"offsetgroup\": \"\", \"orientation\": \"v\", \"showlegend\": false, \"text\": [0.02, 0.03, 0.03, 0.04, 0.07, 0.02, 0.02, 0.09, 0.13, 0.14, 0.18, 0.22, 0.14, 0.05, 0.09, 0.04, 0.01, 0.02, 0.01], \"textposition\": \"auto\", \"x\": [2, 3, 4, 5, 6, 7, 8, 33, 34, 35, 36, 37, 38, 39, 40, 41, 42, 43, 45], \"xaxis\": \"x\", \"y\": [0.02, 0.03, 0.03, 0.04, 0.07, 0.02, 0.02, 0.09, 0.13, 0.14, 0.18, 0.22, 0.14, 0.05, 0.09, 0.04, 0.01, 0.02, 0.01], \"yaxis\": \"y\", \"type\": \"bar\"}], \"name\": \"2\"}, {\"data\": [{\"alignmentgroup\": \"True\", \"hovertemplate\": \"Third Quarter Wins=3<br>Final Pick=%{x}<br>Percentage of Total Occurances (%)=%{text}<br>Carson Final Snap %=%{marker.color}<extra></extra>\", \"legendgroup\": \"\", \"marker\": {\"color\": [0.7619613756611011, 0.7916408846232075, 0.7774838745442563, 0.7992570163198451, 0.7884350110611221, 0.8096083767633275, 0.8023417664940672, 0.7985468415684934, 0.8359165623277156, 0.8395169218657593, 0.8333206266794231, 0.8125199205427738, 0.8239286262970867, 0.8398881703218222, 0.8789589044143689, 0.8583526350307701, 0.866933755289085, 0.8899217612108502, 0.8879492827766697, 0.9349432416699031, 0.8861204979473727, 0.9377791418390586, 0.8628768561896686, 0.6820367287005171, 0.6827174624832039, 0.6957807843810948, 0.6928067245549505, 0.6962518895527848, 0.6943082583316401, 0.6937227002742412, 0.6880855321153887, 0.69642768138727, 0.6960092377083895, 0.6771205950321091, 0.694548868993039, 0.6844867242717885, 0.7101432873406486], \"coloraxis\": \"coloraxis\"}, \"name\": \"\", \"offsetgroup\": \"\", \"orientation\": \"v\", \"showlegend\": false, \"text\": [0.02, 0.07, 0.15, 0.32, 0.3, 0.3, 0.4, 0.32, 0.42, 0.18, 0.23, 0.2, 0.09, 0.09, 0.02, 0.04, 0.02, 0.04, 0.01, 0.01, 0.01, 0.01, 0.01, 0.09, 0.23, 0.29, 0.45, 0.56, 0.52, 0.51, 0.5, 0.36, 0.21, 0.16, 0.13, 0.15, 0.03], \"textposition\": \"auto\", \"x\": [1, 2, 3, 4, 5, 6, 7, 8, 9, 10, 11, 12, 13, 14, 15, 16, 17, 20, 21, 24, 26, 27, 30, 33, 34, 35, 36, 37, 38, 39, 40, 41, 42, 43, 44, 45, 46], \"xaxis\": \"x\", \"y\": [0.02, 0.07, 0.15, 0.32, 0.3, 0.3, 0.4, 0.32, 0.42, 0.18, 0.23, 0.2, 0.09, 0.09, 0.02, 0.04, 0.02, 0.04, 0.01, 0.01, 0.01, 0.01, 0.01, 0.09, 0.23, 0.29, 0.45, 0.56, 0.52, 0.51, 0.5, 0.36, 0.21, 0.16, 0.13, 0.15, 0.03], \"yaxis\": \"y\", \"type\": \"bar\"}], \"name\": \"3\"}, {\"data\": [{\"alignmentgroup\": \"True\", \"hovertemplate\": \"Third Quarter Wins=4<br>Final Pick=%{x}<br>Percentage of Total Occurances (%)=%{text}<br>Carson Final Snap %=%{marker.color}<extra></extra>\", \"legendgroup\": \"\", \"marker\": {\"color\": [0.8023347764115544, 0.7955095378324988, 0.8066371165632752, 0.8101888511828332, 0.8160031414676199, 0.8175901634778155, 0.8176008625147209, 0.8347849752701401, 0.8396460926058288, 0.8473169625240882, 0.845951490894558, 0.8567766119046706, 0.8514112156058299, 0.8642601670276715, 0.8550245650709783, 0.8813032374749535, 0.8546759096309609, 0.914100522161804, 0.9148985142132994, 0.9290024313313383, 0.8787876404360805, 0.9190716468445361, 0.9016970525223226, 0.9301244656052275, 0.9314080941030898, 0.8809463056707408, 0.9332279175027818, 0.896721483703435, 0.926671359365237, 0.9149663385923185, 0.7392005649136584, 0.7099990367400698, 0.706466352251594, 0.6980107803574032, 0.7103192627906637, 0.7093820519231482, 0.7178770173238634, 0.7064937132003687, 0.7147154754095039, 0.7112416876861044, 0.7129317870197013, 0.7134988047053171, 0.7061627634016352, 0.7098069935016579, 0.7242465329553229, 0.7061786035984463, 0.7174148070502689, 0.7342345234423371, 0.7003759194678664, 0.6711957105851744, 0.7477642138247818, 0.7206406019764704, 0.6763718655308861], \"coloraxis\": \"coloraxis\"}, \"name\": \"\", \"offsetgroup\": \"\", \"orientation\": \"v\", \"showlegend\": false, \"text\": [0.06, 0.17, 0.48, 0.58, 0.71, 0.89, 1.23, 1.47, 1.32, 1.4000000000000001, 1.43, 0.9500000000000001, 0.86, 0.64, 0.37, 0.34, 0.16, 0.14, 0.12, 0.07, 0.09, 0.1, 0.16, 0.07, 0.05, 0.09, 0.1, 0.1, 0.07, 0.06, 0.01, 0.04, 0.18, 0.39, 0.43, 0.6, 0.68, 0.78, 0.73, 0.65, 0.56, 0.44, 0.32, 0.19, 0.12, 0.14, 0.04, 0.01, 0.01, 0.01, 0.01, 0.01, 0.01], \"textposition\": \"auto\", \"x\": [2, 3, 4, 5, 6, 7, 8, 9, 10, 11, 12, 13, 14, 15, 16, 17, 18, 19, 20, 21, 22, 23, 24, 25, 26, 27, 28, 29, 30, 31, 33, 34, 35, 36, 37, 38, 39, 40, 41, 42, 43, 44, 45, 46, 47, 48, 49, 52, 53, 56, 59, 60, 63], \"xaxis\": \"x\", \"y\": [0.06, 0.17, 0.48, 0.58, 0.71, 0.89, 1.23, 1.47, 1.32, 1.4000000000000001, 1.43, 0.9500000000000001, 0.86, 0.64, 0.37, 0.34, 0.16, 0.14, 0.12, 0.07, 0.09, 0.1, 0.16, 0.07, 0.05, 0.09, 0.1, 0.1, 0.07, 0.06, 0.01, 0.04, 0.18, 0.39, 0.43, 0.6, 0.68, 0.78, 0.73, 0.65, 0.56, 0.44, 0.32, 0.19, 0.12, 0.14, 0.04, 0.01, 0.01, 0.01, 0.01, 0.01, 0.01], \"yaxis\": \"y\", \"type\": \"bar\"}], \"name\": \"4\"}, {\"data\": [{\"alignmentgroup\": \"True\", \"hovertemplate\": \"Third Quarter Wins=5<br>Final Pick=%{x}<br>Percentage of Total Occurances (%)=%{text}<br>Carson Final Snap %=%{marker.color}<extra></extra>\", \"legendgroup\": \"\", \"marker\": {\"color\": [0.8564395856941174, 0.8396031795428084, 0.8284629738615931, 0.8148917456367439, 0.8356413318432041, 0.8438645519007155, 0.8466193487518058, 0.8467222794327972, 0.8549911011969825, 0.8643741200042492, 0.863112848125737, 0.8719039719950445, 0.8723823177216247, 0.8823519890808588, 0.8889695942661826, 0.8944379650990217, 0.8969811010974983, 0.9349597193192399, 0.9252052407931622, 0.9207182986976399, 0.9333904342049255, 0.9335293079927233, 0.931387912365944, 0.9297735133333129, 0.9199540000687443, 0.9294909281691501, 0.9296084335651712, 0.9285679027979153, 0.9247496807851276, 0.931450781427025, 0.8103407996480986, 0.7284448921768951, 0.7095446760945847, 0.7301988391514085, 0.7223698961773009, 0.7141893568084615, 0.7259857745525597, 0.7208584731019707, 0.7250760518163617, 0.7170772303314846, 0.715404315955442, 0.7210678959692564, 0.7156128187055206, 0.723220103469293, 0.7161673051611147, 0.7078431493182786, 0.727812946240122, 0.7315143421179433, 0.6971921565640441, 0.7003241583858567], \"coloraxis\": \"coloraxis\"}, \"name\": \"\", \"offsetgroup\": \"\", \"orientation\": \"v\", \"showlegend\": false, \"text\": [0.01, 0.07, 0.07, 0.19, 0.49, 0.8200000000000001, 1.47, 1.46, 2.0300000000000002, 2.22, 2.15, 2.21, 2.15, 2.0300000000000002, 1.8, 1.33, 0.93, 0.62, 0.72, 0.66, 0.68, 0.79, 0.6, 0.41000000000000003, 0.51, 0.56, 0.51, 0.45, 0.37, 0.31, 0.01, 0.02, 0.01, 0.05, 0.12, 0.12, 0.21, 0.25, 0.17, 0.3, 0.19, 0.22, 0.2, 0.23, 0.09, 0.16, 0.04, 0.01, 0.01, 0.01], \"textposition\": \"auto\", \"x\": [2, 3, 4, 5, 6, 7, 8, 9, 10, 11, 12, 13, 14, 15, 16, 17, 18, 19, 20, 21, 22, 23, 24, 25, 26, 27, 28, 29, 30, 31, 32, 35, 36, 37, 38, 39, 40, 41, 42, 43, 44, 45, 46, 47, 48, 49, 50, 54, 55, 58], \"xaxis\": \"x\", \"y\": [0.01, 0.07, 0.07, 0.19, 0.49, 0.8200000000000001, 1.47, 1.46, 2.0300000000000002, 2.22, 2.15, 2.21, 2.15, 2.0300000000000002, 1.8, 1.33, 0.93, 0.62, 0.72, 0.66, 0.68, 0.79, 0.6, 0.41000000000000003, 0.51, 0.56, 0.51, 0.45, 0.37, 0.31, 0.01, 0.02, 0.01, 0.05, 0.12, 0.12, 0.21, 0.25, 0.17, 0.3, 0.19, 0.22, 0.2, 0.23, 0.09, 0.16, 0.04, 0.01, 0.01, 0.01], \"yaxis\": \"y\", \"type\": \"bar\"}], \"name\": \"5\"}, {\"data\": [{\"alignmentgroup\": \"True\", \"hovertemplate\": \"Third Quarter Wins=6<br>Final Pick=%{x}<br>Percentage of Total Occurances (%)=%{text}<br>Carson Final Snap %=%{marker.color}<extra></extra>\", \"legendgroup\": \"\", \"marker\": {\"color\": [0.8163065233477296, 0.8523950628542152, 0.8616105835984837, 0.8705817844759836, 0.8606303298185144, 0.8872241774575624, 0.8826064418874019, 0.8883044122110387, 0.8838763676768931, 0.8928126036718941, 0.8984430842462087, 0.9041509073774684, 0.9024191501629387, 0.9159655561135238, 0.9355971982233527, 0.9421145080544233, 0.9360690820486618, 0.9421589045271596, 0.9419716941861546, 0.9516145266805158, 0.9352199305470199, 0.9407699537868927, 0.9370427348285334, 0.9441750102808191, 0.9436726350153904, 0.94340575891409, 0.9413556916247559, 0.9219030484217764, 0.7323176322895267, 0.7296319770638947, 0.7097337916953022, 0.6818225658887752, 0.7297217992842119, 0.7128655987314143, 0.7158621586061648, 0.7084656783765357, 0.7196595885822131, 0.728529251541465, 0.7036441950355272, 0.7465138855664547, 0.681461837341628], \"coloraxis\": \"coloraxis\"}, \"name\": \"\", \"offsetgroup\": \"\", \"orientation\": \"v\", \"showlegend\": false, \"text\": [0.01, 0.06, 0.19, 0.33, 0.29, 0.5, 0.9400000000000001, 1.02, 1.45, 1.54, 1.43, 1.52, 1.57, 1.33, 1.05, 1.27, 1.18, 1.1, 1.17, 1.02, 0.8300000000000001, 1.09, 0.84, 0.93, 0.7000000000000001, 0.77, 0.48, 0.04, 0.02, 0.03, 0.01, 0.01, 0.03, 0.08, 0.03, 0.04, 0.03, 0.01, 0.01, 0.01, 0.01], \"textposition\": \"auto\", \"x\": [5, 6, 7, 8, 9, 10, 11, 12, 13, 14, 15, 16, 17, 18, 19, 20, 21, 22, 23, 24, 25, 26, 27, 28, 29, 30, 31, 32, 39, 41, 42, 43, 44, 45, 46, 47, 48, 50, 56, 61, 63], \"xaxis\": \"x\", \"y\": [0.01, 0.06, 0.19, 0.33, 0.29, 0.5, 0.9400000000000001, 1.02, 1.45, 1.54, 1.43, 1.52, 1.57, 1.33, 1.05, 1.27, 1.18, 1.1, 1.17, 1.02, 0.8300000000000001, 1.09, 0.84, 0.93, 0.7000000000000001, 0.77, 0.48, 0.04, 0.02, 0.03, 0.01, 0.01, 0.03, 0.08, 0.03, 0.04, 0.03, 0.01, 0.01, 0.01, 0.01], \"yaxis\": \"y\", \"type\": \"bar\"}], \"name\": \"6\"}, {\"data\": [{\"alignmentgroup\": \"True\", \"hovertemplate\": \"Third Quarter Wins=7<br>Final Pick=%{x}<br>Percentage of Total Occurances (%)=%{text}<br>Carson Final Snap %=%{marker.color}<extra></extra>\", \"legendgroup\": \"\", \"marker\": {\"color\": [0.7942385362454987, 0.8700376263119247, 0.9015738693139249, 0.8775492948669511, 0.8935186581361304, 0.9076082048546599, 0.8861710168676595, 0.9132015082858076, 0.91057939214502, 0.9117918937016968, 0.9160519724291638, 0.9268190649781028, 0.9446970270444517, 0.9435220455287076, 0.9522302834322988, 0.9432626564745551, 0.9414528184249258, 0.9467249800279358, 0.9466987300601971, 0.9404286592187542, 0.9521377462781169, 0.9450480478986657, 0.9492481699418546, 0.9503709468754703, 0.9484069270371447, 0.975155540577159, 0.7046866383644856, 0.7402841042981807], \"coloraxis\": \"coloraxis\"}, \"name\": \"\", \"offsetgroup\": \"\", \"orientation\": \"v\", \"showlegend\": false, \"text\": [0.01, 0.02, 0.03, 0.03, 0.1, 0.15, 0.21, 0.36, 0.46, 0.44, 0.54, 0.53, 0.88, 0.84, 0.8200000000000001, 0.89, 0.78, 0.79, 0.7000000000000001, 0.63, 0.5700000000000001, 0.61, 0.41000000000000003, 0.4, 0.31, 0.02, 0.01, 0.01], \"textposition\": \"auto\", \"x\": [7, 8, 9, 10, 11, 12, 13, 14, 15, 16, 17, 18, 19, 20, 21, 22, 23, 24, 25, 26, 27, 28, 29, 30, 31, 32, 44, 58], \"xaxis\": \"x\", \"y\": [0.01, 0.02, 0.03, 0.03, 0.1, 0.15, 0.21, 0.36, 0.46, 0.44, 0.54, 0.53, 0.88, 0.84, 0.8200000000000001, 0.89, 0.78, 0.79, 0.7000000000000001, 0.63, 0.5700000000000001, 0.61, 0.41000000000000003, 0.4, 0.31, 0.02, 0.01, 0.01], \"yaxis\": \"y\", \"type\": \"bar\"}], \"name\": \"7\"}, {\"data\": [{\"alignmentgroup\": \"True\", \"hovertemplate\": \"Third Quarter Wins=8<br>Final Pick=%{x}<br>Percentage of Total Occurances (%)=%{text}<br>Carson Final Snap %=%{marker.color}<extra></extra>\", \"legendgroup\": \"\", \"marker\": {\"color\": [0.9370588235294117, 0.9414816085235685, 0.9036452252943351, 0.9552642628528224, 0.9233607702492008, 0.951356189483972, 0.9654490960720874, 0.9545599493734839, 0.9488155138299529, 0.956447209299864, 0.9583486651584376, 0.9586799111367207, 0.9605714475273988, 0.9426979139882192, 0.9537045815338263, 0.9440259555903381, 0.9339610914889889, 0.9534730209854836], \"coloraxis\": \"coloraxis\"}, \"name\": \"\", \"offsetgroup\": \"\", \"orientation\": \"v\", \"showlegend\": false, \"text\": [0.01, 0.03, 0.04, 0.06, 0.07, 0.27, 0.19, 0.26, 0.19, 0.28, 0.3, 0.23, 0.14, 0.14, 0.14, 0.15, 0.1, 0.11], \"textposition\": \"auto\", \"x\": [14, 15, 16, 17, 18, 19, 20, 21, 22, 23, 24, 25, 26, 27, 28, 29, 30, 31], \"xaxis\": \"x\", \"y\": [0.01, 0.03, 0.04, 0.06, 0.07, 0.27, 0.19, 0.26, 0.19, 0.28, 0.3, 0.23, 0.14, 0.14, 0.14, 0.15, 0.1, 0.11], \"yaxis\": \"y\", \"type\": \"bar\"}], \"name\": \"8\"}, {\"data\": [{\"alignmentgroup\": \"True\", \"hovertemplate\": \"Third Quarter Wins=9<br>Final Pick=%{x}<br>Percentage of Total Occurances (%)=%{text}<br>Carson Final Snap %=%{marker.color}<extra></extra>\", \"legendgroup\": \"\", \"marker\": {\"color\": [0.9886642089463841, 0.9810556623061912, 0.9958823529411764, 0.9958823529411764, 0.9725048763770777, 0.9532755108306692, 0.9818263418526344, 0.941795700453784, 0.8349920598169982, 0.9224137658062906], \"coloraxis\": \"coloraxis\"}, \"name\": \"\", \"offsetgroup\": \"\", \"orientation\": \"v\", \"showlegend\": false, \"text\": [0.03, 0.02, 0.01, 0.01, 0.03, 0.02, 0.03, 0.05, 0.01, 0.02], \"textposition\": \"auto\", \"x\": [19, 21, 22, 23, 24, 25, 26, 27, 28, 30], \"xaxis\": \"x\", \"y\": [0.03, 0.02, 0.01, 0.01, 0.03, 0.02, 0.03, 0.05, 0.01, 0.02], \"yaxis\": \"y\", \"type\": \"bar\"}], \"name\": \"9\"}]);\n",
       "                        }).then(function(){\n",
       "                            \n",
       "var gd = document.getElementById('6b2d98e0-5490-4d39-bf84-3a6ff003a52f');\n",
       "var x = new MutationObserver(function (mutations, observer) {{\n",
       "        var display = window.getComputedStyle(gd).display;\n",
       "        if (!display || display === 'none') {{\n",
       "            console.log([gd, 'removed!']);\n",
       "            Plotly.purge(gd);\n",
       "            observer.disconnect();\n",
       "        }}\n",
       "}});\n",
       "\n",
       "// Listen for the removal of the full notebook cells\n",
       "var notebookContainer = gd.closest('#notebook-container');\n",
       "if (notebookContainer) {{\n",
       "    x.observe(notebookContainer, {childList: true});\n",
       "}}\n",
       "\n",
       "// Listen for the clearing of the current output cell\n",
       "var outputEl = gd.closest('.output');\n",
       "if (outputEl) {{\n",
       "    x.observe(outputEl, {childList: true});\n",
       "}}\n",
       "\n",
       "                        })                };                });            </script>        </div>"
      ]
     },
     "metadata": {},
     "output_type": "display_data"
    }
   ],
   "source": [
    "Wins_by_First_Quarter_Result=IND_WINS.groupby(['Final Pick','Third Quarter Wins'],as_index=False)['Percentage of Total Occurances (%)'].sum()\n",
    "\n",
    "Carson_Final_Snap_Percentage=IND_WINS.groupby([\"Final Pick\",'Third Quarter Wins'],as_index=False)['Carson Final Snap %'].mean()\n",
    "Wins_by_First_Quarter_Result=pd.merge(Wins_by_First_Quarter_Result,Carson_Final_Snap_Percentage,how=\"inner\",\n",
    "        left_on=['Third Quarter Wins',\"Final Pick\"], right_on=['Third Quarter Wins',\"Final Pick\"])\n",
    "Plotly_Bar_Plot(df=Wins_by_First_Quarter_Result,Fact1='Final Pick',slider_text='Third Quarter Wins',\n",
    "                Color_Titler='Carson Final Snap %',Value='Percentage of Total Occurances (%)',titler='Projected Final Comp. Pick from Colts to Eagles by Wins at 3rd Quarter')"
   ]
  },
  {
   "cell_type": "markdown",
   "id": "6ed4da09",
   "metadata": {},
   "source": [
    "## Save CSV of simulation"
   ]
  },
  {
   "cell_type": "code",
   "execution_count": 95,
   "id": "c82f4012",
   "metadata": {},
   "outputs": [],
   "source": [
    "IND_WINS.to_csv(\"Latest_Simulation_Dataframe.csv\")"
   ]
  },
  {
   "cell_type": "markdown",
   "id": "0d7428aa",
   "metadata": {},
   "source": [
    "## Analysis"
   ]
  },
  {
   "cell_type": "markdown",
   "id": "3d60f462",
   "metadata": {},
   "source": [
    "There is no guarantee that the rules of this simulation accurately map out the thought process of the Colts front office. The organization is famously incompetent and prone to misusing their players. Through the first few weeks of this 2021 season, Carson has played admirably under intense pressure from both the media and opposing defensive lines. As long as he is availible and healthy, he will be fighting for his starting job in the league, and the Colts may not be able to bench him so easily even in a losing season if his performance is this good.\n",
    "\n",
    "Regardless, even after an 1-3 start, this distribution should show Eagles fans that a pick in the top 5 is essentially a pipe dream. \n"
   ]
  }
 ],
 "metadata": {
  "kernelspec": {
   "display_name": "Python 3 (ipykernel)",
   "language": "python",
   "name": "python3"
  },
  "language_info": {
   "codemirror_mode": {
    "name": "ipython",
    "version": 3
   },
   "file_extension": ".py",
   "mimetype": "text/x-python",
   "name": "python",
   "nbconvert_exporter": "python",
   "pygments_lexer": "ipython3",
   "version": "3.8.11"
  }
 },
 "nbformat": 4,
 "nbformat_minor": 5
}
