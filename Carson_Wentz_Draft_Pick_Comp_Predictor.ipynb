{
 "cells": [
  {
   "cell_type": "markdown",
   "id": "70b5a494",
   "metadata": {},
   "source": [
    "# Projecting Carson Wentz's Trades impact on the Philadelphia Eagles 2022 Draft Picks"
   ]
  },
  {
   "cell_type": "markdown",
   "id": "b26f767c",
   "metadata": {},
   "source": [
    "By Kai Canoll"
   ]
  },
  {
   "cell_type": "markdown",
   "id": "7d08d546",
   "metadata": {},
   "source": [
    "### Synopsis:\n",
    "The trade between the Eagles and the Colts of Carson Wentz for a 2020 3rd round pick and a conditional 2021 2nd round pick was much discussed. It is certainly one of the weirder trades out there in terms of it's conditions. In short, in order for the Eagles to recieve a 1st round pick, Wentz has to either play:\n",
    "\n",
    "    1) 75% of offensive snaps for the Colts.\n",
    "    2) 70% of offensive snaps and the Colts have to make the playoffs. \n",
    "    \n",
    "If these conditions are not met, the Eagles will instead recieve a 2nd round pick from the Colts.\n",
    "    \n",
    "Now, as you can imagine, this leaves a huge distribution of possible draft picks the Eagles could recieve from the 1st and 2nd round. \n",
    "\n",
    "Each final compensatory pick has it's own probability of occurence, however, and I am here to try an project it!"
   ]
  },
  {
   "cell_type": "markdown",
   "id": "59fa4471",
   "metadata": {},
   "source": [
    "## Method:"
   ]
  },
  {
   "cell_type": "markdown",
   "id": "6c8ba59c",
   "metadata": {},
   "source": [
    "The code below contains a Monte Carlo Simulation which loops through every remaining game of the season, focusing particularly on the Colts. As each games outcome is added, the playoff possibilities for the Colts increase or decrease, and their logic on how to move forward with Carson's usage will be affected. Each game could also see a Carson injury, which of course could also result in Carson losing snaps going forward."
   ]
  },
  {
   "cell_type": "markdown",
   "id": "869992b6",
   "metadata": {},
   "source": [
    "### Game-by-Game Winning Probabilities\n",
    "\n",
    "Each games win chance is determined by the qbelo_prob1 score that FiveThirtyEight has assigned each game. This (simplified) is the chance of team 1 beating team 2. A random number is then generated between 0-1, and if that number is greater than the qbelo_prob1,than team 2 is awarded the win, otherwise team 1 is awarded the win."
   ]
  },
  {
   "cell_type": "markdown",
   "id": "7fda4208",
   "metadata": {},
   "source": [
    "### Game-by-Game Carson Injury Probabilities"
   ]
  },
  {
   "cell_type": "markdown",
   "id": "b230cf0f",
   "metadata": {},
   "source": [
    "### Sources:\n",
    "\n",
    "Sportsipy has good stats info for free on players:\n",
    "https://sportsreference.readthedocs.io/en/stable/examples.html\n",
    "\n",
    "538 has good projections on the season:\n",
    "https://data.fivethirtyeight.com/#nfl-elo\n",
    "\n",
    "Fantasy Pros has info on Carsons Rolling Offensive Snap % Count by Week\n",
    "https://www.fantasypros.com/nfl/reports/snap-counts/qb.php?year=2021&show=perc&print=true\n",
    "\n",
    "And the theoretical odds the Colts would win each given playoff round (independent of their opponent) is here:\n",
    "http://www.playoffstatus.com/nfl/nflpostseasonprob.html\n",
    "\n",
    "The odds that Carson will get injured in a given game is debated, I'm getting my number from here:\n",
    "https://www.draftsharks.com/injury-predictor"
   ]
  },
  {
   "cell_type": "markdown",
   "id": "9c757e0a",
   "metadata": {},
   "source": [
    "## Change Variables of Interest Here"
   ]
  },
  {
   "cell_type": "code",
   "execution_count": 2,
   "id": "296c9ee7",
   "metadata": {},
   "outputs": [],
   "source": [
    "Sims=10000 #Number of Simulations, more the longer\n",
    "open_previous_csv= False#Skip Simulation code\n",
    "#Carson Injury Counter\n",
    "#https://www.draftsharks.com/injury-predictor\n",
    "Carson_Injury_Risk=.113 #This is the big question, on a per game basis, I'm going with what Draftsharks says\n"
   ]
  },
  {
   "cell_type": "markdown",
   "id": "4b57abbe",
   "metadata": {},
   "source": [
    "## Function Definition"
   ]
  },
  {
   "cell_type": "code",
   "execution_count": 3,
   "id": "09703ed3",
   "metadata": {},
   "outputs": [],
   "source": [
    "\n",
    "#Creates barplot at the from the dataframe with and without sliders\n",
    "def Plotly_Bar_Plot(Fact1,Value,df,text_hover=\"\",slider_text=\"\",Color_Titler=\"\"\n",
    "                    ,titler=\"\"\n",
    "                    ,category_order=False,Sort_fact=\"\",Preset_Order=[]\n",
    "                    ,category_order_array={},vmin=\"\",vmax=\"\",xmin=\"\",xmax=\"\",barmoder='relative',cmin=\"\",cmax=\"\"):\n",
    "    if type(vmin) == str:\n",
    "        vmin = min(df[Value])\n",
    "    if type(vmax) == str:\n",
    "        vmax=  max(df[Value])\n",
    "    if type(xmin) == str:\n",
    "        xmin = min(df[Fact1])\n",
    "    if type(xmax) == str:\n",
    "        xmax=  max(df[Fact1])\n",
    "        \n",
    "\n",
    "    yaxiser=dict( range=[ vmin,vmax] ) #Set value limits at both ends\n",
    "    xaxiser=dict( range=[ xmin,xmax] ) #Set value limits at both ends\n",
    "    \n",
    "    if text_hover == \"\":\n",
    "        text_hover= Fact1\n",
    "        \n",
    "    if Color_Titler == \"\":\n",
    "        Color_Titler= Fact1\n",
    "    else:\n",
    "\n",
    "        cmin = min(df[Color_Titler])\n",
    "        cmax=  max(df[Color_Titler])\n",
    "    \n",
    "    if category_order == True: #If you want there to be a certain order to the data.\n",
    "        if category_order_array=={}:\n",
    "            if Sort_fact == \"\":\n",
    "                     category_order={'categoryorder':'array',\n",
    "                                     'categoryarray':constant_unique(Fact1,df=df)}\n",
    "            else:\n",
    "                    category_order={'categoryorder':'array','categoryarray':constant_unique(Fact1,Sort_fact,df)}\n",
    "        else:\n",
    "            category_order=category_order_array \n",
    "    else:\n",
    "        category_order={'categoryorder':'total ascending'}\n",
    "    #df = df.sort_values(by=[slider_text])\n",
    "    if slider_text == \"\":\n",
    "        fig = px.bar(df, x=df[Fact1], y=df[Value], color=df[Color_Titler], hover_data=[text_hover],barmode = barmoder , color_discrete_map = constant_color_assigner(df[Fact1]))\n",
    "\n",
    "    else:\n",
    "        if Preset_Order == []:\n",
    "            Preset_Order= list(df[slider_text].sort_values().unique())\n",
    "\n",
    "        fig = px.bar(df, x=Fact1, y=Value, color=Color_Titler, text=Value,  range_color=[cmin,cmax]\n",
    "                    , animation_frame=slider_text, barmode = barmoder\n",
    "                    , color_discrete_map = constant_color_assigner(df[Fact1])\n",
    "                    ,category_orders={slider_text: Preset_Order})\n",
    "\n",
    "    fig.update_layout(title=titler   , xaxis_title=Fact1,   xaxis=xaxiser,yaxis= yaxiser)\n",
    "    fig.update_layout(barmode=barmoder)\n",
    "    fig.update_layout( margin=dict(l=80, r=80, t=100, b=80),paper_bgcolor=\"LightSteelBlue\",)\n",
    "    fig.write_html(titler+\".html\")\n",
    "    #fig.show()  \n",
    "    return fig\n",
    "    \n",
    "def constant_color_assigner(column):\n",
    "    COLOR_DICT={}\n",
    "    color_lister = ['yellow','blue','green','red','orange','purple','pink']\n",
    "    color_lister = color_lister+color_lister\n",
    "    col_uniques = column.unique()\n",
    "    col_uniques.sort() #Get constant order for these values\n",
    "\n",
    "    for val in range(len(col_uniques)): #Iterate through list getting unique index each time\n",
    "        COLOR_DICT[col_uniques[val]] = color_lister[val]\n",
    "        if val%7==0:\n",
    "            color_lister += color_lister\n",
    "\n",
    "    return COLOR_DICT"
   ]
  },
  {
   "cell_type": "code",
   "execution_count": 4,
   "id": "e1b1ba8e",
   "metadata": {},
   "outputs": [],
   "source": [
    "#Import Statements\n",
    "from IPython.core.display import HTML\n",
    "import seaborn as sns\n",
    "import csv\n",
    "import matplotlib.pyplot as plt\n",
    "import pandas as pd\n",
    "import dask.dataframe\n",
    "\n",
    "import pandas as pd\n",
    "import matplotlib.pyplot as plt\n",
    "\n",
    "import plotly.graph_objects as go\n",
    "import pandas as pd\n",
    "import plotly.express as px\n",
    "import pandas as pd\n",
    "import numpy as np\n",
    "import matplotlib\n",
    "import cufflinks as cf\n",
    "import plotly\n",
    "import plotly.offline as py\n",
    "import plotly.graph_objs as go\n",
    "import random\n",
    "from sklearn.linear_model import LinearRegression\n",
    "from sklearn.linear_model import RidgeClassifier\n",
    "import plotly.offline as py\n",
    "import plotly.graph_objs as go\n",
    "\n",
    "import plotly.io as pio\n",
    "pio.renderers.default = \"notebook\"\n",
    "import requests\n",
    "import lxml.html as lh\n",
    "import pandas as pd\n",
    "import numpy as np\n",
    "import random\n",
    "from matplotlib import pyplot as plt\n",
    "from tqdm import tqdm\n",
    "import math\n",
    "import random"
   ]
  },
  {
   "cell_type": "markdown",
   "id": "a79d64ea",
   "metadata": {},
   "source": [
    "## Get Game Win Probs from FiveThirtyEight"
   ]
  },
  {
   "cell_type": "code",
   "execution_count": 5,
   "id": "ef3b7259",
   "metadata": {},
   "outputs": [],
   "source": [
    "if open_previous_csv==False:\n",
    "    NFL_ELO=pd.read_csv(\"https://projects.fivethirtyeight.com/nfl-api/nfl_elo_latest.csv\")\n",
    "    NFL_ELO=NFL_ELO.sort_values(by='date')"
   ]
  },
  {
   "cell_type": "markdown",
   "id": "bcdeaef3",
   "metadata": {},
   "source": [
    "## Find Postseason Projection for each team"
   ]
  },
  {
   "cell_type": "code",
   "execution_count": 6,
   "id": "aaf602ee",
   "metadata": {},
   "outputs": [],
   "source": [
    "if open_previous_csv==False:\n",
    "    url_playoff=\"http://www.playoffstatus.com/nfl/nflpostseasonprob.html\"\n",
    "    #Create a handle, page, to handle the contents of the website\n",
    "    page = requests.get(url_playoff)\n",
    "    #Store the contents of the website under doc\n",
    "    doc = lh.fromstring(page.content)\n",
    "    tr_elements = doc.xpath('//tr')\n",
    "\n",
    "\n",
    "    col=[]\n",
    "    i=0\n",
    "    df=pd.DataFrame()\n",
    "    Column_header=['Team','Conference','W','L','T','Super Bowl Winner','Super Bowl','Conference Championship','Round 2','Round 1']\n",
    "    for t in Column_header:\n",
    "\n",
    "        col.append((t,[]))\n",
    "    for j in range(1,len(tr_elements)):\n",
    "        #T is our j'th row\n",
    "        T=tr_elements[j]\n",
    "\n",
    "        #If row is not of size 10, the //tr data is not from our table \n",
    "        if len(T)!=len(Column_header):\n",
    "            pass\n",
    "\n",
    "\n",
    "        #i is the index of our column\n",
    "        i=0\n",
    "\n",
    "        #Iterate through each element of the row\n",
    "        for t in T.iterchildren():\n",
    "            data=t.text_content() \n",
    "            #Check if row is empty\n",
    "            if i>0:\n",
    "            #Convert any numerical value to integers\n",
    "                try:\n",
    "                    data=int(data)\n",
    "                except:\n",
    "                    pass\n",
    "\n",
    "            #Append the data to the empty list of the i'th column\n",
    "            if ((str(col[i][0])) in str(data)):\n",
    "                pass\n",
    "            else:\n",
    "                col[i][1].append(data)\n",
    "\n",
    "            #Increment i for the next column\n",
    "            i+=1\n",
    "\n",
    "    ## All Teams Playoff Postseason Odds Dataframe\n",
    "    Dict={title:column for (title,column) in col}\n",
    "    All_Playoffs=df.append(pd.DataFrame(Dict)[1:])\n",
    "\n",
    "\n",
    "    ## Specifically Colts Chances at Each Round of Playoffs\n",
    "    Colts_Round_1_Chance=list(All_Playoffs[All_Playoffs[\"Team\"]==\"Colts\"][\"Round 1\"])[0][:-1]\n",
    "    if Colts_Round_1_Chance=='<1':\n",
    "        Colts_Round_1_Chance=.005\n",
    "    else:\n",
    "        Colts_Round_1_Chance=float(Colts_Round_1_Chance)/100\n",
    "    Colts_Round_2_Chance=(list(All_Playoffs[All_Playoffs[\"Team\"]==\"Colts\"][\"Round 2\"])[0][:-1])\n",
    "    if Colts_Round_2_Chance=='<1':\n",
    "        Colts_Round_2_Chance=.005\n",
    "        Colts_Round2_chance_bayes_fix=Colts_Round_2_Chance\n",
    "    else:\n",
    "        Colts_Round_2_Chance=float(Colts_Round_2_Chance)/100\n",
    "        Colts_Round2_chance_bayes_fix=Colts_Round_2_Chance/Colts_Round_1_Chance\n",
    "    Colts_Conference_Championship_Chance=(list(All_Playoffs[All_Playoffs[\"Team\"]==\"Colts\"][\"Conference Championship\"])[0][:-1])\n",
    "    if Colts_Conference_Championship_Chance=='<1':\n",
    "        Colts_Conference_Championship_Chance=.005\n",
    "        Colts_Conference_chance_bayes_fix=.1*Colts_Round2_chance_bayes_fix\n",
    "    else:\n",
    "        Colts_Conference_Championship_Chance=float(Colts_Conference_Championship_Chance)/100\n",
    "        Colts_Conference_chance_bayes_fix=Colts_Conference_Championship_Chance/Colts_Round_2_Chance\n",
    "    Colts_Super_Bowl_Chance=(list(All_Playoffs[All_Playoffs[\"Team\"]==\"Colts\"][\"Super Bowl\"])[0][:-1])\n",
    "    if Colts_Super_Bowl_Chance=='<1':\n",
    "        Colts_Super_Bowl_Chance=.005\n",
    "        Colts_Super_Bowl_Chance_bayes_fix=.1*Colts_Conference_chance_bayes_fix\n",
    "    else:\n",
    "        Colts_Super_Bowl_Chance=float(Colts_Super_Bowl_Chance)/100\n",
    "        Colts_Super_Bowl_Chance_bayes_fix=Colts_Super_Bowl_Chance/Colts_Conference_Championship_Chance\n",
    "    Colts_Super_Bowl_Winner_Chance=(list(All_Playoffs[All_Playoffs[\"Team\"]==\"Colts\"][\"Super Bowl Winner\"])[0][:-1])\n",
    "    if Colts_Super_Bowl_Winner_Chance=='<1':\n",
    "        Colts_Super_Bowl_Winner_Chance=.005\n",
    "        Colts_Super_Bowl_win_Chance_bayes_fix=(.1)*Colts_Super_Bowl_Chance_bayes_fix\n",
    "    else:\n",
    "        Colts_Super_Bowl_Winner_Chance=float(Colts_Super_Bowl_Winner_Chance)/100\n",
    "        Colts_Super_Bowl_win_Chance_bayes_fix=Colts_Super_Bowl_Winner_Chance/Colts_Super_Bowl_Chance\n",
    "        \n",
    "        \n",
    "    ##Set variables for playoff odds\n",
    "\n",
    "    \n",
    "    "
   ]
  },
  {
   "cell_type": "markdown",
   "id": "f5a12ade",
   "metadata": {},
   "source": [
    "## Find Current Carson Wentz Snap Percentage"
   ]
  },
  {
   "cell_type": "code",
   "execution_count": 7,
   "id": "c907e5e1",
   "metadata": {},
   "outputs": [],
   "source": [
    "if open_previous_csv==False:\n",
    "    url=\"https://www.fantasypros.com/nfl/reports/snap-counts/qb.php?year=2021&show=perc&print=true\"\n",
    "\n",
    "    #Create a handle, page, to handle the contents of the website\n",
    "    page = requests.get(url)\n",
    "    #Store the contents of the website under doc\n",
    "    doc = lh.fromstring(page.content)\n",
    "    tr_elements = doc.xpath('//tr')\n",
    "\n",
    "    col=[]\n",
    "    i=0\n",
    "    df=pd.DataFrame()\n",
    "    Column_header=tr_elements[0]\n",
    "    for t in Column_header:\n",
    "        i+=1\n",
    "        name=t.text_content()\n",
    "        #print(name)\n",
    "        col.append((name,[]))\n",
    "    for j in range(1,len(tr_elements)):\n",
    "        #T is our j'th row\n",
    "        T=tr_elements[j]\n",
    "\n",
    "        #If row is not of size 10, the //tr data is not from our table \n",
    "        if len(T)!=len(Column_header):\n",
    "            break\n",
    "\n",
    "        #i is the index of our column\n",
    "        i=0\n",
    "\n",
    "        #Iterate through each element of the row\n",
    "        for t in T.iterchildren():\n",
    "            data=t.text_content() \n",
    "            #Check if row is empty\n",
    "            if i>0:\n",
    "            #Convert any numerical value to integers\n",
    "                try:\n",
    "                    data=int(data)\n",
    "                except:\n",
    "                    pass\n",
    "\n",
    "            #Append the data to the empty list of the i'th column\n",
    "            col[i][1].append(data)\n",
    "            #Increment i for the next column\n",
    "            i+=1\n",
    "    #Dataframe for Carson Wentz Snaps thus far\n",
    "    Dict={title:column for (title,column) in col}\n",
    "    df=df.append(pd.DataFrame(Dict)[1:])\n",
    "    Current_Carson_Snap_Percentage=int(list(df[df[\"Player\"]==\"Carson Wentz \"][\"2\"])[0][:-1])#[-1:]"
   ]
  },
  {
   "cell_type": "markdown",
   "id": "ce5291c2",
   "metadata": {},
   "source": [
    "## List of Team Abbreviations"
   ]
  },
  {
   "cell_type": "code",
   "execution_count": 8,
   "id": "312d613b",
   "metadata": {},
   "outputs": [],
   "source": [
    "if open_previous_csv == False:\n",
    "    Teams_list=list(NFL_ELO.team1.unique())\n",
    "\n",
    "    AFC_TEAMS=['TEN','BUF','CIN','IND','HOU','KC','NE','OAK','MIA','PIT','CLE','JAX','NYJ','LAC','BAL','DEN']\n"
   ]
  },
  {
   "cell_type": "markdown",
   "id": "a3f3d157",
   "metadata": {},
   "source": [
    "### Playoff adjusted for picks 19-32\n",
    "Adjusting for playoff odds is a little hard with what 538 gave me. Instead, I'm using \"http://www.playoffstatus.com/nfl/nflpostseasonprob.html\" which has the chances of Colts winning each theoretical playoff game"
   ]
  },
  {
   "cell_type": "code",
   "execution_count": null,
   "id": "c6564e10",
   "metadata": {},
   "outputs": [],
   "source": []
  },
  {
   "cell_type": "markdown",
   "id": "6ba2b024",
   "metadata": {},
   "source": [
    "## Actual Simulation Loop (Takes up to 15 minutes, sorry)"
   ]
  },
  {
   "cell_type": "code",
   "execution_count": null,
   "id": "3088aa97",
   "metadata": {},
   "outputs": [],
   "source": []
  },
  {
   "cell_type": "code",
   "execution_count": null,
   "id": "54babee7",
   "metadata": {},
   "outputs": [
    {
     "name": "stderr",
     "output_type": "stream",
     "text": [
      " 14%|█████████████████████                                                                                                                               | 1424/10000 [01:44<10:44, 13.31it/s]"
     ]
    }
   ],
   "source": [
    "if open_previous_csv==False:\n",
    "    IND_COLTS_DRAFT_PICK=[]\n",
    "    NFL_ELO_ARRAY=np.array(NFL_ELO)\n",
    "    NFL_ELO_COLS=NFL_ELO.columns\n",
    "    for sim in tqdm(range(Sims)): #100 sims\n",
    "        import numpy as np\n",
    "\n",
    "        NFL_ELO=pd.DataFrame(NFL_ELO_ARRAY,columns=NFL_ELO_COLS) #For some stupid reason I have to initialize it like this everytime \n",
    "        #This above problem didn't exist until I tried logging every matchup win for the Colts\n",
    "        Season_Win_Totals=pd.DataFrame(index=Teams_list,columns=[\"Wins\",\"Losses\"]) #\n",
    "        Season_Win_Totals=Season_Win_Totals.fillna(0)\n",
    "        Second_Round_Adjuster=0\n",
    "        Percentage_of_Total_Snaps=0\n",
    "        Wins_First_Quarter=0\n",
    "        Wins_Midseason=0\n",
    "        Wins_Third_Quarter=0\n",
    "        Ind_Made_Playoffs=False\n",
    "        Out_of_Division=False\n",
    "        Out_of_Wildcard=False\n",
    "        Bench_Forever=False#Whether you've benched Carson Forever at this point\n",
    "        Game_Where_Indy_Fell_Out_of_Wildcard=None #Fill if Indy Falls out of WIldcard\n",
    "        Game_Where_Indy_Fell_Out_of_Division=None #Fill if Indy Falls out of Div\n",
    "        Game_Where_Indy_Fell_Out_of_Playoffs=None\n",
    "        Wins_of_Div_Winner=0\n",
    "        Wins_of_Last_WC=0\n",
    "\n",
    "        NFL_ELO_TEMP=NFL_ELO\n",
    "\n",
    "        for index, row in NFL_ELO.iterrows():\n",
    "            #Preserve Ind. Record\n",
    "            if math.isnan(row[\"score1\"]): # if games hasn't happened yet\n",
    "                Prob_of_team1_win=int(row[\"qbelo_prob1\"]*1000) #Out of 1000 chance\n",
    "\n",
    "                Win_Decision=int(random.uniform(0, 1)*1000) #Random number out of 100, do this for .1% chance of tie\n",
    "\n",
    "                if Prob_of_team1_win > Win_Decision:\n",
    "                    row[\"score1\"] =1\n",
    "                    row[\"score2\"] =0\n",
    "                elif Prob_of_team1_win == Win_Decision:\n",
    "                    row[\"score1\"] =1\n",
    "                    row[\"score2\"] =1\n",
    "                else:\n",
    "                    row[\"score1\"] =0\n",
    "                    row[\"score2\"] =1\n",
    "            if row[\"score1\"] > row[\"score2\"]: #Team 1 Wins\n",
    "                Season_Win_Totals.at[row[\"team1\"],\"Wins\"]+=1\n",
    "                Season_Win_Totals.at[row[\"team2\"],\"Losses\"]+=1\n",
    "            elif row[\"score1\"] == row[\"score2\"]: #Team 1 Wins\n",
    "                Season_Win_Totals.at[row[\"team1\"],\"Wins\"]+=.5\n",
    "                Season_Win_Totals.at[row[\"team2\"],\"Losses\"]+=.5\n",
    "            else:\n",
    "                Season_Win_Totals.at[row[\"team2\"],\"Wins\"]+=1\n",
    "                Season_Win_Totals.at[row[\"team1\"],\"Losses\"]+=1\n",
    "            #Update temp document\n",
    "            NFL_ELO_TEMP.at[index,\"score1\"]=row[\"score1\"]\n",
    "            NFL_ELO_TEMP.at[index,\"score2\"]=row[\"score2\"]\n",
    "\n",
    "\n",
    "            #Check in on Indy\n",
    "            if row[\"team1\"]==\"IND\" or row[\"team2\"]==\"IND\": #Current row is Indy\n",
    "\n",
    "                ##See_Which_Opponenet_They_Beat\n",
    "\n",
    "\n",
    "\n",
    "                #When should they start benching him forever:\n",
    "                #Greater than 5 games under ,500\n",
    "                Total_Indy_Games_So_Far=Season_Win_Totals.at[\"IND\",\"Losses\"] + Season_Win_Totals.at[\"IND\",\"Wins\"]\n",
    "                Total_IND_Wins=Season_Win_Totals.at[\"IND\",\"Wins\"]\n",
    "                Total_TEN_Wins=Season_Win_Totals.at[\"TEN\",\"Wins\"]\n",
    "                Total_JAX_Wins=Season_Win_Totals.at[\"JAX\",\"Wins\"]\n",
    "                Total_HOU_Wins=Season_Win_Totals.at[\"HOU\",\"Wins\"]\n",
    "                Indy_Games_Remaing=17-Total_Indy_Games_So_Far\n",
    "                #If you're totally out of the division, bench him forever\n",
    "                if (Indy_Games_Remaing<(Total_TEN_Wins-Total_IND_Wins)) or (Indy_Games_Remaing<(Total_JAX_Wins-Total_IND_Wins)) or(Indy_Games_Remaing<(Total_HOU_Wins-Total_IND_Wins)):\n",
    "                    if Out_of_Division ==False:\n",
    "                            Game_Where_Indy_Fell_Out_of_Division=Total_Indy_Games_So_Far\n",
    "                            if Out_of_Wildcard==True and Out_of_Division==False: #Both out of division and wildcard\n",
    "                                Game_Where_Indy_Fell_Out_of_Playoffs=Total_Indy_Games_So_Far\n",
    "                    Out_of_Division=True #Affect Wildcard Decision\n",
    "                    if random.uniform(0, 1)> .3: #Made up Chance that they don't bench Carson despite lost season\n",
    "\n",
    "                        Bench_Forever=True\n",
    "                if (Season_Win_Totals.at[\"IND\",\"Losses\"] - Season_Win_Totals.at[\"IND\",\"Wins\"]) > 5: #Totally out of it, goes to second round\n",
    "                    if random.uniform(0, 1)> .3 and Out_of_Wildcard: #Made up Chance that they don't bench Carson despite lost season\n",
    "                        Bench_Forever=True\n",
    "\n",
    "                #Check if out of Wildcard\n",
    "                Season_Win_Totals_temp = Season_Win_Totals.sample(frac=1)\n",
    "                AFC_RECORDS_temp=Season_Win_Totals_temp[Season_Win_Totals_temp.index.isin(AFC_TEAMS)]\n",
    "                AFC_RECORDS_temp = AFC_RECORDS_temp.sample(frac=1)\n",
    "                AFC_RECORDS_temp=AFC_RECORDS_temp.sort_values(by=\"Wins\").reset_index()\n",
    "                AFC_RECORDS_temp[\"AFC SEEDING\"]=AFC_RECORDS_temp.index+1\n",
    "\n",
    "                #Check INdy position in AFC\n",
    "                IND_POS_IN_AFC=AFC_RECORDS_temp[AFC_RECORDS_temp[\"index\"]==\"IND\"]\n",
    "                if int(IND_POS_IN_AFC[\"AFC SEEDING\"])<=9:#Currently out of Wildcard \n",
    "                    Second_Place_WC_Team=AFC_RECORDS_temp[AFC_RECORDS_temp[\"AFC SEEDING\"]==10] #Find 2nd Wildcard Team\n",
    "                    Second_Place_WC_Team_Wins=float(Second_Place_WC_Team[\"Wins\"])\n",
    "                    Second_Place_WC_Team_Name=list(Second_Place_WC_Team[\"index\"])[0]\n",
    "                    if Indy_Games_Remaing<(Second_Place_WC_Team_Wins-Total_IND_Wins): #Can't catch up to Second Place WC\n",
    "                        if Out_of_Wildcard ==False:\n",
    "                            Game_Where_Indy_Fell_Out_of_Wildcard=Total_Indy_Games_So_Far\n",
    "                            if Out_of_Wildcard==False and Out_of_Division==True: #Both out of division and wildcard\n",
    "                                Game_Where_Indy_Fell_Out_of_Playoffs=Total_Indy_Games_So_Far\n",
    "                        Out_of_Wildcard=True\n",
    "\n",
    "                        #print(Second_Place_WC_Team_Name + \" has \"+str(Second_Place_WC_Team_Wins)+ \" wins with \"+str(Indy_Games_Remaing)+ \" games remaining while Indy has\"+ str(Total_IND_Wins))\n",
    "                        if random.uniform(0, 1)> .3 and Out_of_Division==True: #Made up Chance that they don't bench Carson despite lost season\n",
    "\n",
    "                            Bench_Forever=True                \n",
    "\n",
    "                #How much less they'll use Carson\n",
    "                if (Season_Win_Totals.at[\"IND\",\"Losses\"] - Season_Win_Totals.at[\"IND\",\"Wins\"]) >1: #If they are down 2+ losses, they'll use Carson Less\n",
    "                    Losses_minus_wins=Season_Win_Totals.at[\"IND\",\"Losses\"] - Season_Win_Totals.at[\"IND\",\"Wins\"] #Carson Struggling, bring prob down\n",
    "                else:\n",
    "                    Losses_minus_wins=1 #Otherwise play normal\n",
    "\n",
    "\n",
    "                if (Season_Win_Totals.at[\"IND\",\"Losses\"] + Season_Win_Totals.at[\"IND\",\"Wins\"])==4:\n",
    "\n",
    "                    Wins_First_Quarter= int(Season_Win_Totals.at[\"IND\",\"Wins\"])\n",
    "                if (Season_Win_Totals.at[\"IND\",\"Losses\"] + Season_Win_Totals.at[\"IND\",\"Wins\"])==8:\n",
    "                    Wins_Midseason= int(Season_Win_Totals.at[\"IND\",\"Wins\"])\n",
    "                if (Season_Win_Totals.at[\"IND\",\"Losses\"] + Season_Win_Totals.at[\"IND\",\"Wins\"])==12:\n",
    "                    Wins_Third_Quarter= int(Season_Win_Totals.at[\"IND\",\"Wins\"])\n",
    "                try: #If there is info present on his snap percentage\n",
    "                    Current_Carson_Snap_Percentage=int(list(df[df[\"Player\"]==\"Carson Wentz \"][str(Season_Win_Totals.at[\"IND\",\"Losses\"] + Season_Win_Totals.at[\"IND\",\"Wins\"])])[0][:-1])#[-1:]\n",
    "                    Percentage_of_Total_Snaps+=Current_Carson_Snap_Percentage/100\n",
    "                except: #If there is no info on his snap percentage\n",
    "                    if Bench_Forever==True: #He's not getting back in the game because the coach decided the season was over\n",
    "                        Percentage_of_Total_Snaps+=0 #No more Snaps for Carson\n",
    "                    else:        \n",
    "\n",
    "                        if random.uniform(0, 1)<Carson_Injury_Risk: #How much he plays in that game\n",
    "                            Percentage_of_Total_Snaps+=random.uniform(0, 1)#Misses a random amount of game due do injury\n",
    "                        else:\n",
    "                            if Losses_minus_wins ==1: #If he has more wins than losses, or is .500\n",
    "                                Percentage_of_Total_Snaps+=1\n",
    "                            else:\n",
    "                                Percentage_of_Total_Snaps+=.98**(Losses_minus_wins) #Each loss greater than win bring Carsons Playing down\n",
    "\n",
    "\n",
    "        #AFC ONLY\n",
    "        Season_Win_Totals = Season_Win_Totals.sample(frac=1)\n",
    "        AFC_RECORDS=Season_Win_Totals[Season_Win_Totals.index.isin(AFC_TEAMS)]\n",
    "        AFC_RECORDS = AFC_RECORDS.sample(frac=1)\n",
    "        AFC_RECORDS=AFC_RECORDS.sort_values(by=\"Wins\").reset_index()\n",
    "        AFC_RECORDS[\"AFC SEEDING\"]=AFC_RECORDS.index+1\n",
    "        IND_AFC_PLACEMENT=int(list(AFC_RECORDS[AFC_RECORDS[\"index\"]==\"IND\"][\"AFC SEEDING\"])[0])\n",
    "        #TOTAL NFL\n",
    "\n",
    "        #NFC ONLY\n",
    "        Season_Win_Totals = Season_Win_Totals.sample(frac=1)\n",
    "        NFC_RECORDS=Season_Win_Totals[~Season_Win_Totals.index.isin(AFC_TEAMS)]\n",
    "        NFC_RECORDS = NFC_RECORDS.sample(frac=1)\n",
    "        NFC_RECORDS=NFC_RECORDS.sort_values(by=\"Wins\").reset_index()\n",
    "        NFC_RECORDS[\"AFC SEEDING\"]=NFC_RECORDS.index+1    \n",
    "        Season_Win_Totals=Season_Win_Totals.sort_values(by=\"Wins\").reset_index()\n",
    "\n",
    "\n",
    "\n",
    "\n",
    "        #Get Draft Pick from overall NFL order\n",
    "\n",
    "        #Get INdys placement in AFC\n",
    "\n",
    "        #Wins for each AFC SOUTH team\n",
    "        IND_wins=float(Season_Win_Totals[Season_Win_Totals[\"index\"]==\"IND\"][\"Wins\"])\n",
    "        HOU_wins=float(Season_Win_Totals[Season_Win_Totals[\"index\"]==\"HOU\"][\"Wins\"])\n",
    "        JAX_wins=float(Season_Win_Totals[Season_Win_Totals[\"index\"]==\"JAX\"][\"Wins\"])\n",
    "        TEN_wins=float(Season_Win_Totals[Season_Win_Totals[\"index\"]==\"TEN\"][\"Wins\"])\n",
    "\n",
    "        #Division Winner Wins\n",
    "        Wins_of_Div_Winner=max([IND_wins,HOU_wins,JAX_wins,TEN_wins])\n",
    "        Wins_of_Last_WC=float(AFC_RECORDS[AFC_RECORDS[\"AFC SEEDING\"]==10][\"Wins\"])\n",
    "\n",
    "        ##Playoff Seeding\n",
    "        if (IND_AFC_PLACEMENT>9) or ((IND_wins>HOU_wins)and(IND_wins>JAX_wins)and(IND_wins>TEN_wins)): #Makes Playoffs\n",
    "            Ind_Made_Playoffs= True\n",
    "\n",
    "            if random.uniform(0, 1)>Colts_Round2_chance_bayes_fix:  #Colts lose in First Round in Random Sim\n",
    "                Draft_Pick=19 + int(random.uniform(0, 1)*6)\n",
    "                Playoff_Result = \"First Round Exit\"\n",
    "            else:\n",
    "                    if random.uniform(0, 1)>Colts_Conference_chance_bayes_fix:\n",
    "                        Draft_Pick=25 + int(random.uniform(0, 1)*4)\n",
    "                        Playoff_Result = \"Second Round Exit\"\n",
    "                    else:\n",
    "                        if random.uniform(0, 1)>Colts_Super_Bowl_Chance_bayes_fix:\n",
    "                            Draft_Pick=29 + int(random.uniform(0, 1)*2) #It's actually a combination of their regular season record\n",
    "                            Playoff_Result = \"Conference Final Exit\"\n",
    "                        else:\n",
    "                            if random.uniform(0, 1)>Colts_Super_Bowl_win_Chance_bayes_fix:\n",
    "                                Draft_Pick=31\n",
    "                                Playoff_Result = \"Super Bowl Exit\"\n",
    "                            else:\n",
    "                                Draft_Pick=32\n",
    "                                Playoff_Result = \"Super Bowl Win\"\n",
    "\n",
    "        else:\n",
    "            Playoff_Result = \"Missed Playoffs\"\n",
    "            AFC_PLAYOFF_TEAMS=list(AFC_RECORDS[AFC_RECORDS[\"AFC SEEDING\"]>9][\"index\"].values)\n",
    "            NFC_PLAYOFF_TEAMS=list(NFC_RECORDS[NFC_RECORDS[\"AFC SEEDING\"]>9][\"index\"].values)\n",
    "            All_Playoff_Teams=AFC_PLAYOFF_TEAMS+NFC_PLAYOFF_TEAMS\n",
    "            Season_Win_Totals=Season_Win_Totals[~Season_Win_Totals[\"index\"].isin(All_Playoff_Teams)]\n",
    "            Season_Win_Totals=Season_Win_Totals.sort_values(by=\"Wins\").reset_index()\n",
    "            Season_Win_Totals[\"Draft Pick Interpolated\"]=Season_Win_Totals.index+1\n",
    "            Draft_Pick=int(Season_Win_Totals[Season_Win_Totals[\"index\"]==\"IND\"][\"Draft Pick Interpolated\"])\n",
    "\n",
    "        if (Percentage_of_Total_Snaps/17)<.7 and Ind_Made_Playoffs== True: #Makes playoffs but <70% snaps\n",
    "            Second_Round_Adjuster=1 #Carson didn't play enough and they missed the playoffs\n",
    "        elif (Percentage_of_Total_Snaps/17)<.75:#Percentage of Total Snaps\n",
    "            Second_Round_Adjuster=1  \n",
    "\n",
    "        Rows_to_Append=[Draft_Pick+(32*Second_Round_Adjuster),IND_wins,Wins_First_Quarter,Wins_Midseason,Wins_Third_Quarter,Percentage_of_Total_Snaps\n",
    "                                     ,Ind_Made_Playoffs,Playoff_Result,Game_Where_Indy_Fell_Out_of_Playoffs,Bench_Forever,Out_of_Division,Game_Where_Indy_Fell_Out_of_Division,Wins_of_Div_Winner,\n",
    "                                     Out_of_Wildcard,Game_Where_Indy_Fell_Out_of_Wildcard,Wins_of_Last_WC]\n",
    "\n",
    "        ##Full Season Results\n",
    "        Indiana_Only=NFL_ELO_TEMP[(NFL_ELO_TEMP[\"team1\"]==\"IND\")| (NFL_ELO_TEMP[\"team2\"]==\"IND\")] # Get only indiana games\n",
    "        Winner_List=[]\n",
    "        Week_num=0\n",
    "        for index, row in Indiana_Only.iterrows():\n",
    "            Week_num+=1\n",
    "            if row[\"score1\"]>row[\"score2\"]:\n",
    "                Winner_List.append(row[\"team1\"])\n",
    "            elif row[\"score1\"]<row[\"score2\"]:\n",
    "                Winner_List.append(row[\"team2\"])\n",
    "            else:\n",
    "                Winner_List.append(\"Tie\")\n",
    "        for val in Winner_List: #Add each Winner in Val\n",
    "            Rows_to_Append.append(val)\n",
    "\n",
    "        #Finally, append Dataframe List\n",
    "        IND_COLTS_DRAFT_PICK.append(Rows_to_Append)\n",
    "\n",
    "        \n",
    "    ## Compile DataFrame of Simulations\n",
    "    IND_WINS=pd.DataFrame(IND_COLTS_DRAFT_PICK,columns=['Final Pick','Total Projected Indy Wins','First Quarter Wins','Second Quarter Wins','Third Quarter Wins',\"Games Played By Carson (17 Max)\",\"Colts Made Playoffs\"\n",
    "                                                        ,\"Playoff_Result\",\"Game_Where_Indy_Fell_Out_of_Playoffs\",\"Carson Benched On Purpose\",\"Out_of_Division\",\n",
    "                                                        \"Game_Where_Indy_Fell_Out_of_Division\",\"Wins_of_Div_Winner\",\"Out_of_Wildcard\",\n",
    "                                                       \"Game_Where_Indy_Fell_Out_of_Wildcard\",\"Wins_of_Last_WC\"\n",
    "                                                        ,\"Week 1 Result\",\"Week 2 Result\",\"Week 3 Result\",\"Week 4 Result\"\n",
    "                                                       ,\"Week 5 Result\",\"Week 6 Result\",\"Week 7 Result\",\"Week 8 Result\"\n",
    "                                                       ,\"Week 9 Result\",\"Week 10 Result\",\"Week 11 Result\",\"Week 12 Result\"\n",
    "                                                       ,\"Week 13 Result\",\"Week 14 Result\",\"Week 15 Result\",\"Week 16 Result\"\n",
    "                                                       ,\"Week 17 Result\"])\n",
    "    #Jimmy Johnson Draft Pick\n",
    "    JJ_Draft_Points=[[1,3000],\n",
    "                 [2,2600],\n",
    "                 [3,2200],\n",
    "                 [4,1800],\n",
    "                 [5,1700],\n",
    "                 [6,1600],\n",
    "                 [7,1500],\n",
    "                 [8,1400],\n",
    "                 [9,1350],\n",
    "                 [10,1300],\n",
    "                 [11,1250],\n",
    "                 [12,1200],\n",
    "                 [13,1150],\n",
    "                 [14,1100],\n",
    "                 [15,1050],\n",
    "                 [16,1000],\n",
    "                 [17,950],\n",
    "                 [18,900],\n",
    "                 [19,875],\n",
    "                 [20,850],\n",
    "                 [21,800],\n",
    "                 [22,780],\n",
    "                 [23,760],\n",
    "                 [24,740],\n",
    "                 [25,720],\n",
    "                 [26,700],\n",
    "                 [27,680],\n",
    "                 [28,660],\n",
    "                 [29,640],\n",
    "                 [30,620],\n",
    "                 [31,600],\n",
    "                 [32,590],\n",
    "                 [33,580],\n",
    "                 [34,560],\n",
    "                 [35,550],\n",
    "                 [36,540],\n",
    "                 [37,530],\n",
    "                 [38,520],\n",
    "                 [39,510],\n",
    "                 [40,500],\n",
    "                 [41,490],\n",
    "                 [42,480],\n",
    "                 [43,470],\n",
    "                 [44,460],\n",
    "                 [45,450],\n",
    "                 [46,440],\n",
    "                 [47,430],\n",
    "                 [48,420],\n",
    "                 [49,410],\n",
    "                 [50,400],\n",
    "                 [51,390],\n",
    "                 [52,380],\n",
    "                 [53,370],\n",
    "                 [54,360],\n",
    "                 [55,350],\n",
    "                 [56,340],\n",
    "                 [57,330],\n",
    "                 [58,320],\n",
    "                 [59,310],\n",
    "                 [60,300],\n",
    "                 [61,292],\n",
    "                 [62,284],\n",
    "                 [63,276],\n",
    "                [64,270]]\n",
    "                 \n",
    "    JJ_Draft_Points_df=pd.DataFrame(JJ_Draft_Points,columns=['Final Pick','Draft Pick Points'])\n",
    "    IND_WINS=pd.merge(IND_WINS,JJ_Draft_Points_df,how=\"left\",left_on=\"Final Pick\",right_on=\"Final Pick\")"
   ]
  },
  {
   "cell_type": "markdown",
   "id": "ccd03c74",
   "metadata": {},
   "source": [
    "## Open Old Simulation Dataframe, if desired"
   ]
  },
  {
   "cell_type": "code",
   "execution_count": null,
   "id": "6d8cbea8",
   "metadata": {},
   "outputs": [],
   "source": [
    "if open_previous_csv==True:\n",
    "    IND_WINS=pd.read_csv(\"Latest_Simulation_Dataframe.csv\")"
   ]
  },
  {
   "cell_type": "markdown",
   "id": "9084fff1",
   "metadata": {},
   "source": [
    "## Take a look at Simulation Dataframe, each row is an outcome"
   ]
  },
  {
   "cell_type": "code",
   "execution_count": null,
   "id": "fd5af349",
   "metadata": {},
   "outputs": [],
   "source": [
    "IND_WINS.head(5)"
   ]
  },
  {
   "cell_type": "markdown",
   "id": "525bfac1",
   "metadata": {},
   "source": [
    "## Average Snap Percentage by Carson"
   ]
  },
  {
   "cell_type": "code",
   "execution_count": null,
   "id": "f3de640f",
   "metadata": {},
   "outputs": [],
   "source": [
    "IND_WINS[\"Carson Final Snap %\"]=(IND_WINS[\"Games Played By Carson (17 Max)\"]/17)*100"
   ]
  },
  {
   "cell_type": "code",
   "execution_count": null,
   "id": "725c648d",
   "metadata": {},
   "outputs": [],
   "source": [
    "print(\"Carson's Average Final Expected Overall Snap Percentage is {}%\".format(str(round(IND_WINS[\"Carson Final Snap %\"].mean(),3))))"
   ]
  },
  {
   "cell_type": "markdown",
   "id": "18567d8e",
   "metadata": {},
   "source": [
    "# Average Draft Pick Colts"
   ]
  },
  {
   "cell_type": "code",
   "execution_count": null,
   "id": "8fb9c502",
   "metadata": {},
   "outputs": [],
   "source": [
    "IND_COLTS_DRAFT_PICK=IND_WINS['Final Pick']\n",
    "print(\"The Average Compensation Pick From Colts to the Eagles is Pick #{}\".format(str(sum(IND_WINS['Final Pick'])/len(IND_WINS['Final Pick']))))"
   ]
  },
  {
   "cell_type": "markdown",
   "id": "c326fab9",
   "metadata": {},
   "source": [
    "## Highest Occuring Draft Pick"
   ]
  },
  {
   "cell_type": "code",
   "execution_count": null,
   "id": "4dd05306",
   "metadata": {},
   "outputs": [],
   "source": [
    "IND_COLTS_DRAFT_PICK=IND_WINS['Final Pick']\n",
    "print(\"The Most Likely Compensation Pick From Colts to the Eagles is Pick #{}\".format(str(list(IND_WINS['Final Pick'].mode())[0])))"
   ]
  },
  {
   "cell_type": "markdown",
   "id": "21ccdad4",
   "metadata": {},
   "source": [
    "## Histogram of All Draft Picks"
   ]
  },
  {
   "cell_type": "code",
   "execution_count": null,
   "id": "8c67c65c",
   "metadata": {},
   "outputs": [],
   "source": [
    "\n",
    "data = list(IND_WINS['Final Pick'])\n",
    "\n",
    "# fixed bin size\n",
    "bins = np.arange(-100, 100, 1) # fixed bin size\n",
    "from matplotlib.pyplot import figure\n",
    "\n",
    "figure(figsize=(8, 6), dpi=80)\n",
    "\n",
    "plt.xlim(0, 64)\n",
    "\n",
    "plt.hist(data, bins=bins, alpha=0.5,weights=np.ones(len(data)) / len(data))\n",
    "plt.title('Carson Wentz Trade Comp. Pick over {} simulations'.format(str(Sims)))\n",
    "plt.xlabel('Final Projected Compensation Pick'.format(str(Sims)))\n",
    "plt.ylabel('Percentage of Total Outcomes')\n",
    "plt.savefig('Latest_Full_PDF_of_Wentz_Trade_Comp_Pick.jpg')\n",
    "plt.show()"
   ]
  },
  {
   "cell_type": "markdown",
   "id": "4c6ea2a6",
   "metadata": {},
   "source": [
    "## CDF of Draft Picks"
   ]
  },
  {
   "cell_type": "code",
   "execution_count": null,
   "id": "46026556",
   "metadata": {},
   "outputs": [],
   "source": [
    "#Generates dataframe that simulates CDF\n",
    "Eagles_First_Round_DP_list=[]\n",
    "for j in range(0,66):\n",
    "    Eagles_First_Round_DP_list.append([j,float(str(sum(i < j for i in IND_COLTS_DRAFT_PICK)/len(IND_COLTS_DRAFT_PICK)*100)[:5])])"
   ]
  },
  {
   "cell_type": "code",
   "execution_count": null,
   "id": "cf21b76d",
   "metadata": {},
   "outputs": [],
   "source": [
    "Eagles_First_Round_DP_list_df=pd.DataFrame(Eagles_First_Round_DP_list,columns=['Final Pick','Chance of Pick Higher Than This'])\n",
    "Carson_Final_Snap_Percentage=IND_WINS.groupby([\"Final Pick\"],as_index=False)['Carson Final Snap %'].mean()\n",
    "Eagles_First_Round_DP_list_df=pd.merge(Eagles_First_Round_DP_list_df,Carson_Final_Snap_Percentage,how='left',left_on=\"Final Pick\",right_on=\"Final Pick\")\n",
    "Plotly_Bar_Plot(df=Eagles_First_Round_DP_list_df,Fact1='Final Pick',Color_Titler='Carson Final Snap %'\n",
    "               ,Value='Chance of Pick Higher Than This',titler='CDF of Final Pick Chance')"
   ]
  },
  {
   "cell_type": "markdown",
   "id": "0620c9b3",
   "metadata": {},
   "source": [
    "## Chance of Draft Pick in the First Round"
   ]
  },
  {
   "cell_type": "code",
   "execution_count": null,
   "id": "d0d2399a",
   "metadata": {},
   "outputs": [],
   "source": [
    "Eagles_First_Round_DP=str(sum(i < 33 for i in IND_COLTS_DRAFT_PICK)/len(IND_COLTS_DRAFT_PICK)*100)[:5]\n",
    "print(\"The Eagles received a 1st Round Pick in {}% of all simulations.\".format(Eagles_First_Round_DP))"
   ]
  },
  {
   "cell_type": "markdown",
   "id": "7dd66c7a",
   "metadata": {},
   "source": [
    "## Chance of Top 20 Pick"
   ]
  },
  {
   "cell_type": "code",
   "execution_count": null,
   "id": "75392951",
   "metadata": {},
   "outputs": [],
   "source": [
    "Eagles_First_Round_DP=str(sum(i < 21 for i in IND_COLTS_DRAFT_PICK)/len(IND_COLTS_DRAFT_PICK)*100)[:5]\n",
    "print(\"The Eagles received a pick in the top 20 in {}% of all simulations.\".format(Eagles_First_Round_DP))"
   ]
  },
  {
   "cell_type": "markdown",
   "id": "5b03b6c8",
   "metadata": {},
   "source": [
    "## Chance of Top 10 Pick"
   ]
  },
  {
   "cell_type": "code",
   "execution_count": null,
   "id": "692fa85a",
   "metadata": {},
   "outputs": [],
   "source": [
    "Eagles_First_Round_DP=str(sum(i < 11 for i in IND_COLTS_DRAFT_PICK)/len(IND_COLTS_DRAFT_PICK)*100)[:5]\n",
    "print(\"The Eagles received a pick in the top 10 in {}% of all simulations.\".format(Eagles_First_Round_DP))"
   ]
  },
  {
   "cell_type": "markdown",
   "id": "0652923e",
   "metadata": {},
   "source": [
    "## Chance of Top 5 Pick"
   ]
  },
  {
   "cell_type": "code",
   "execution_count": null,
   "id": "b4e98072",
   "metadata": {},
   "outputs": [],
   "source": [
    "Eagles_First_Round_DP=str(sum(i < 6 for i in IND_COLTS_DRAFT_PICK)/len(IND_COLTS_DRAFT_PICK)*100)[:5]\n",
    "print(\"The Eagles received a pick in the top 5 in {}% of all simulations.\".format(Eagles_First_Round_DP))"
   ]
  },
  {
   "cell_type": "markdown",
   "id": "59eec78a",
   "metadata": {},
   "source": [
    "## Lowest Probable Pick"
   ]
  },
  {
   "cell_type": "code",
   "execution_count": null,
   "id": "e35a71d0",
   "metadata": {},
   "outputs": [],
   "source": [
    "max(IND_COLTS_DRAFT_PICK)"
   ]
  },
  {
   "cell_type": "markdown",
   "id": "c7ba02a3",
   "metadata": {},
   "source": [
    "## Highest Probable Pick"
   ]
  },
  {
   "cell_type": "code",
   "execution_count": null,
   "id": "0c8bfddc",
   "metadata": {},
   "outputs": [],
   "source": [
    "min(IND_COLTS_DRAFT_PICK)"
   ]
  },
  {
   "cell_type": "markdown",
   "id": "f497f830",
   "metadata": {},
   "source": [
    "## Desired Colts Wins By Week 13 for Eagles\n",
    "### This number of wins by week 13 would represent the lowest average comp. pick"
   ]
  },
  {
   "cell_type": "code",
   "execution_count": null,
   "id": "a38aa0ef",
   "metadata": {},
   "outputs": [],
   "source": [
    "Best_Colts_Record_For_Eagles_Week_13=list(IND_WINS.groupby(['Third Quarter Wins'],as_index=False)['Final Pick'].mean().sort_values(by='Final Pick')['Third Quarter Wins'])[0]"
   ]
  },
  {
   "cell_type": "code",
   "execution_count": null,
   "id": "20a14a87",
   "metadata": {},
   "outputs": [],
   "source": [
    "print(\"The optimal number of Colts wins by week 13 for the Eagles to secure the lowest average probable draft pick is {} wins\".format(\n",
    "Best_Colts_Record_For_Eagles_Week_13))"
   ]
  },
  {
   "cell_type": "code",
   "execution_count": null,
   "id": "687d1d85",
   "metadata": {},
   "outputs": [],
   "source": [
    "#Each instance of a final pick is a percenage point\n",
    "IND_WINS['Percentage of Total Occurances (%)']=round((1/Sims)*100,4)\n",
    "IND_WINS[\"Colts Made Playoffs\"]=(IND_WINS[\"Colts Made Playoffs\"]).astype(str)"
   ]
  },
  {
   "cell_type": "markdown",
   "id": "e3825aca",
   "metadata": {},
   "source": [
    "## Draft Pick by Time Out of Playoff Picture"
   ]
  },
  {
   "cell_type": "code",
   "execution_count": null,
   "id": "82da56e8",
   "metadata": {},
   "outputs": [],
   "source": [
    "Wins_by_First_Quarter_Result=IND_WINS.groupby(['Final Pick','Game_Where_Indy_Fell_Out_of_Playoffs'],as_index=False)['Percentage of Total Occurances (%)'].sum()\n",
    "Carson_Final_Snap_Percentage=IND_WINS.groupby([\"Final Pick\",'Game_Where_Indy_Fell_Out_of_Playoffs'],as_index=False)['Carson Final Snap %'].mean()\n",
    "Wins_by_First_Quarter_Result=pd.merge(Wins_by_First_Quarter_Result,Carson_Final_Snap_Percentage,how=\"inner\",\n",
    "        left_on=['Game_Where_Indy_Fell_Out_of_Playoffs',\"Final Pick\"], right_on=['Game_Where_Indy_Fell_Out_of_Playoffs',\"Final Pick\"])\n",
    "Wins_by_First_Quarter_Result=Wins_by_First_Quarter_Result.round(4)\n",
    "Plotly_Bar_Plot(df=Wins_by_First_Quarter_Result,Fact1='Final Pick',slider_text='Game_Where_Indy_Fell_Out_of_Playoffs',\n",
    "                Color_Titler='Carson Final Snap %',Value='Percentage of Total Occurances (%)',titler='Projected Final Comp. Pick from Colts to Eagles by Game_Where_Indy_Fell_Out_of_Playoffs')"
   ]
  },
  {
   "cell_type": "markdown",
   "id": "6039e624",
   "metadata": {},
   "source": [
    "## The Draft Pick situation if Carson is ever benched on purpose (I.E. They are out of it)"
   ]
  },
  {
   "cell_type": "code",
   "execution_count": null,
   "id": "9d3655c2",
   "metadata": {},
   "outputs": [],
   "source": [
    "IND_WINS['Carson Benched On Purpose']=IND_WINS['Carson Benched On Purpose'].astype(str)\n",
    "Wins_by_First_Quarter_Result=IND_WINS.groupby(['Final Pick','Carson Benched On Purpose'],as_index=False)['Percentage of Total Occurances (%)'].sum()\n",
    "Carson_Final_Snap_Percentage=IND_WINS.groupby([\"Final Pick\",'Carson Benched On Purpose'],as_index=False)['Carson Final Snap %'].mean()\n",
    "Wins_by_First_Quarter_Result=pd.merge(Wins_by_First_Quarter_Result,Carson_Final_Snap_Percentage,how=\"inner\",\n",
    "        left_on=['Carson Benched On Purpose',\"Final Pick\"], right_on=['Carson Benched On Purpose',\"Final Pick\"])\n",
    "Wins_by_First_Quarter_Result=Wins_by_First_Quarter_Result.round(4)\n",
    "Plotly_Bar_Plot(df=Wins_by_First_Quarter_Result,Fact1='Final Pick',slider_text='Carson Benched On Purpose',\n",
    "                Color_Titler='Carson Final Snap %',Value='Percentage of Total Occurances (%)',titler='Projected Final Comp. Pick from Colts to Eagles by Carson Benched On Purpose')"
   ]
  },
  {
   "cell_type": "code",
   "execution_count": null,
   "id": "626e107e",
   "metadata": {},
   "outputs": [],
   "source": [
    "#Find whether Colts fell out of playoffs or division first\n",
    "def Fell_Out_of_Playoffs_First(s):\n",
    "\n",
    "    if (s[\"Colts Made Playoffs\"]==True) or (s[\"Colts Made Playoffs\"]=='True'):\n",
    "        return None\n",
    "    elif str(s[\"Game_Where_Indy_Fell_Out_of_Division\"]) == str(s[\"Game_Where_Indy_Fell_Out_of_Wildcard\"]):\n",
    "        return \"Lost Wild Card and Division at Same Time\"\n",
    "    elif str(s[\"Game_Where_Indy_Fell_Out_of_Playoffs\"])==str(s[\"Game_Where_Indy_Fell_Out_of_Division\"]):\n",
    "        return \"Lost Wild Card First\"\n",
    "    elif str(s[\"Game_Where_Indy_Fell_Out_of_Playoffs\"])==str(s[\"Game_Where_Indy_Fell_Out_of_Wildcard\"]):\n",
    "        return \"Lost Division First\"\n",
    "    \n",
    "IND_WINS[\"Colts_Eliminated_From_Division_or_Wild_Card_Race_First\"]=IND_WINS.apply(Fell_Out_of_Playoffs_First,axis=1)"
   ]
  },
  {
   "cell_type": "code",
   "execution_count": null,
   "id": "8c02b5df",
   "metadata": {},
   "outputs": [],
   "source": [
    "IND_WINS['Colts_Eliminated_From_Division_or_Wild_Card_Race_First']=IND_WINS['Colts_Eliminated_From_Division_or_Wild_Card_Race_First'].astype(str)\n",
    "Wins_by_First_Quarter_Result=IND_WINS.groupby(['Final Pick','Colts_Eliminated_From_Division_or_Wild_Card_Race_First'],as_index=False)['Percentage of Total Occurances (%)'].sum()\n",
    "Carson_Final_Snap_Percentage=IND_WINS.groupby([\"Final Pick\",'Colts_Eliminated_From_Division_or_Wild_Card_Race_First'],as_index=False)['Carson Final Snap %'].mean()\n",
    "Wins_by_First_Quarter_Result=pd.merge(Wins_by_First_Quarter_Result,Carson_Final_Snap_Percentage,how=\"inner\",\n",
    "        left_on=['Colts_Eliminated_From_Division_or_Wild_Card_Race_First',\"Final Pick\"], right_on=['Colts_Eliminated_From_Division_or_Wild_Card_Race_First',\"Final Pick\"])\n",
    "Wins_by_First_Quarter_Result=Wins_by_First_Quarter_Result.round(4)\n",
    "Plotly_Bar_Plot(df=Wins_by_First_Quarter_Result,Fact1='Final Pick',slider_text='Colts_Eliminated_From_Division_or_Wild_Card_Race_First',\n",
    "                Color_Titler='Carson Final Snap %',Value='Percentage of Total Occurances (%)',titler='Projected Final Comp. Pick from Colts to Eagles by Colts_Eliminated_From_Division_or_Wild_Card_Race_First')"
   ]
  },
  {
   "cell_type": "markdown",
   "id": "eb2e9be7",
   "metadata": {},
   "source": [
    "## What's the Average Final Pick when the Colts are Eliminated from the Division vs. the Wild Card"
   ]
  },
  {
   "cell_type": "code",
   "execution_count": null,
   "id": "0b855fa9",
   "metadata": {},
   "outputs": [],
   "source": [
    "Wins_by_First_Quarter_Result.groupby('Colts_Eliminated_From_Division_or_Wild_Card_Race_First',as_index=False).agg({'Final Pick':'mean','Percentage of Total Occurances (%)':'sum'})"
   ]
  },
  {
   "cell_type": "markdown",
   "id": "94e392b1",
   "metadata": {},
   "source": [
    "Apparently, there is a lower draft pick associated with being out of Wild Card race first, most likely becuase 538 projects this season to not be very good for the AFC South Teams. "
   ]
  },
  {
   "cell_type": "markdown",
   "id": "077c31f9",
   "metadata": {},
   "source": [
    "## Total Wins For Indy and Average Draft Pick"
   ]
  },
  {
   "cell_type": "code",
   "execution_count": null,
   "id": "e09d1027",
   "metadata": {},
   "outputs": [],
   "source": [
    "Wins_by_First_Quarter_Result=IND_WINS.groupby(['Final Pick','Total Projected Indy Wins'],as_index=False)['Percentage of Total Occurances (%)'].sum()\n",
    "Carson_Final_Snap_Percentage=IND_WINS.groupby([\"Final Pick\",'Total Projected Indy Wins'],as_index=False)['Carson Final Snap %'].mean()\n",
    "Wins_by_First_Quarter_Result=pd.merge(Wins_by_First_Quarter_Result,Carson_Final_Snap_Percentage,how=\"inner\",\n",
    "        left_on=['Total Projected Indy Wins',\"Final Pick\"], right_on=['Total Projected Indy Wins',\"Final Pick\"])\n",
    "Wins_by_First_Quarter_Result=Wins_by_First_Quarter_Result.round(4)\n",
    "Plotly_Bar_Plot(df=Wins_by_First_Quarter_Result,Fact1='Final Pick',slider_text='Total Projected Indy Wins',\n",
    "                Color_Titler='Carson Final Snap %',Value='Percentage of Total Occurances (%)',titler='Projected Final Comp. Pick from Colts to Eagles by Total Projected Indy Wins')"
   ]
  },
  {
   "cell_type": "markdown",
   "id": "b14c8a20",
   "metadata": {},
   "source": [
    "## Making Playoffs vs. NOT"
   ]
  },
  {
   "cell_type": "code",
   "execution_count": null,
   "id": "e4cfd09b",
   "metadata": {},
   "outputs": [],
   "source": [
    "Wins_by_First_Quarter_Result=IND_WINS.groupby(['Final Pick','Colts Made Playoffs'],as_index=False)['Percentage of Total Occurances (%)'].sum()\n",
    "Carson_Final_Snap_Percentage=IND_WINS.groupby([\"Final Pick\",'Colts Made Playoffs'],as_index=False)['Carson Final Snap %'].mean()\n",
    "Wins_by_First_Quarter_Result=pd.merge(Wins_by_First_Quarter_Result,Carson_Final_Snap_Percentage,how=\"inner\",\n",
    "        left_on=['Colts Made Playoffs',\"Final Pick\"], right_on=['Colts Made Playoffs',\"Final Pick\"])\n",
    "Wins_by_First_Quarter_Result=Wins_by_First_Quarter_Result.round(4)\n",
    "Plotly_Bar_Plot(df=Wins_by_First_Quarter_Result,Fact1='Final Pick',slider_text='Colts Made Playoffs',\n",
    "                Color_Titler='Carson Final Snap %',Value='Percentage of Total Occurances (%)',titler='Projected Final Comp. Pick from Colts to Eagles by Colts Made Playoffs')"
   ]
  },
  {
   "cell_type": "markdown",
   "id": "f6e412b9",
   "metadata": {},
   "source": [
    "## Outcomes Based off of Weeks Results"
   ]
  },
  {
   "cell_type": "code",
   "execution_count": null,
   "id": "50fd09fb",
   "metadata": {},
   "outputs": [],
   "source": [
    "Total_Weekly=pd.DataFrame(columns=['Game # for Indy','Game_Result','Final Pick'])\n",
    "for week in range(1,18):\n",
    "    Wins_by_First_Quarter_Result=IND_WINS.groupby(['Final Pick','Week '+str(week)+' Result'],as_index=False)['Percentage of Total Occurances (%)'].sum()\n",
    "    Carson_Final_Snap_Percentage=IND_WINS.groupby([\"Final Pick\",'Week '+str(week)+' Result'],as_index=False)['Carson Final Snap %'].mean()\n",
    "    Wins_by_First_Quarter_Result=pd.merge(Wins_by_First_Quarter_Result,Carson_Final_Snap_Percentage,how=\"inner\",\n",
    "            left_on=['Week '+str(week)+' Result',\"Final Pick\"], right_on=['Week '+str(week)+' Result',\"Final Pick\"])\n",
    "    Wins_by_First_Quarter_Result=Wins_by_First_Quarter_Result.round(4)\n",
    "    figer= Plotly_Bar_Plot(df=Wins_by_First_Quarter_Result,Fact1='Final Pick',slider_text='Week '+str(week)+' Result',\n",
    "                    Color_Titler='Carson Final Snap %',Value='Percentage of Total Occurances (%)',titler='Projected Final Comp. Pick from Colts to Eagles by Week '+str(week)+' Result')\n",
    "    figer.show()\n",
    "    Wins_by_First_Quarter_Result[\"Final Pick Average\"]=Wins_by_First_Quarter_Result[\"Final Pick\"]*Wins_by_First_Quarter_Result[\"Percentage of Total Occurances (%)\"]\n",
    "    Temp_Weekly=Wins_by_First_Quarter_Result.groupby('Week '+str(week)+' Result',as_index=False)['Final Pick Average'].sum()\n",
    "    Temp_Weekly[\"Final Pick Average\"]=Temp_Weekly[\"Final Pick Average\"]/100#Percentage corrected\n",
    "    Temp_Weekly_count=Wins_by_First_Quarter_Result.groupby('Week '+str(week)+' Result',as_index=False)['Percentage of Total Occurances (%)'].sum()\n",
    "    Temp_Weekly_count[\"Game # for Indy\"]=week\n",
    "    Temp_Weekly[\"Game # for Indy\"]=week\n",
    "    Temp_Weekly.columns=['Game_Result','Final Pick','Game # for Indy']\n",
    "    Temp_Weekly_count.columns=['Game_Result','Total Occurances (%)','Game # for Indy']\n",
    "    Temp_Weekly=pd.merge(Temp_Weekly,Temp_Weekly_count,left_on=['Game_Result','Game # for Indy'],right_on=['Game_Result','Game # for Indy'])\n",
    "    \n",
    "    Total_Weekly=Total_Weekly.append(Temp_Weekly)"
   ]
  },
  {
   "cell_type": "code",
   "execution_count": null,
   "id": "06aec0a2",
   "metadata": {},
   "outputs": [],
   "source": [
    "Total_Weekly[\"Average Final Pick\"]=Total_Weekly[\"Final Pick\"]/(Total_Weekly[\"Total Occurances (%)\"]/100)"
   ]
  },
  {
   "cell_type": "markdown",
   "id": "f8e99ff6",
   "metadata": {},
   "source": []
  },
  {
   "cell_type": "code",
   "execution_count": null,
   "id": "ea11bd30",
   "metadata": {},
   "outputs": [],
   "source": [
    "def IND_WON(s):\n",
    "    if s[\"Game_Result\"]==\"IND\":\n",
    "        return \"IND WON\"\n",
    "    elif s[\"Game_Result\"]==\"Tie\":\n",
    "        return \"Tie\"\n",
    "    else:\n",
    "        return \"IND LOST\"\n",
    "Total_Weekly[\"IND_RESULT\"]=Total_Weekly.apply(IND_WON,axis=1)\n",
    "figer= Plotly_Bar_Plot(df=Total_Weekly,Fact1='Game # for Indy',\n",
    "                    Value='Average Final Pick',text_hover='Total Occurances (%)',Color_Titler='IND_RESULT',barmoder='group',xmin=0,titler=\"Weekly Result by Average Draft Pick\")\n",
    "figer.show()"
   ]
  },
  {
   "cell_type": "markdown",
   "id": "d4823ebf",
   "metadata": {},
   "source": [
    "Don't pay too much attention to the results associated with ties, they are too rare and the low n means that the"
   ]
  },
  {
   "cell_type": "markdown",
   "id": "c8c48709",
   "metadata": {},
   "source": [
    "## Most Desirable Single Game Outcome For Eagles"
   ]
  },
  {
   "cell_type": "code",
   "execution_count": null,
   "id": "8c76a9f3",
   "metadata": {},
   "outputs": [],
   "source": [
    "Game_Results_Each_Week_Sorted=Total_Weekly[Total_Weekly[\"Game_Result\"] !=\"Tie\"].sort_values(by=['Average Final Pick'])\n",
    "Game_Results_Each_Week_Sorted_only_upcoming=Game_Results_Each_Week_Sorted[Game_Results_Each_Week_Sorted[\"Game # for Indy\"] >5]\n",
    "#Game_Results_Each_Week_Sorted_only_upcoming"
   ]
  },
  {
   "cell_type": "code",
   "execution_count": null,
   "id": "d9b856e7",
   "metadata": {},
   "outputs": [],
   "source": [
    "Game_Results_Each_Week_Sorted_only_upcoming"
   ]
  },
  {
   "cell_type": "code",
   "execution_count": null,
   "id": "cc6df6a8",
   "metadata": {},
   "outputs": [],
   "source": [
    "Game_Results_Each_Week_Sorted_only_upcoming=Game_Results_Each_Week_Sorted_only_upcoming.sort_values(by=['Average Final Pick'],ascending=True)\n",
    "\n",
    "Week_Ideal=round(Game_Results_Each_Week_Sorted_only_upcoming.reset_index()[:1][\"Game # for Indy\"][0],3)\n",
    "Game_Result_Ideal=Game_Results_Each_Week_Sorted_only_upcoming.reset_index()[:1][\"Game_Result\"][0]\n",
    "Game_Result_Ideal_Pick=round(Game_Results_Each_Week_Sorted_only_upcoming.reset_index()[:1][\"Average Final Pick\"][0],3)\n",
    "Game_Result_Ideal_Occurence=round(Game_Results_Each_Week_Sorted_only_upcoming.reset_index()[:1][\"Total Occurances (%)\"][0],3)\n",
    "print(\"Eagles Fans Should Most Want {0} to win in Week {1}, as it results in an average final draft pick of {2}. This occured in {3}% of all simulations\".format(\n",
    "    Game_Result_Ideal,Week_Ideal,Game_Result_Ideal_Pick,Game_Result_Ideal_Occurence))"
   ]
  },
  {
   "cell_type": "markdown",
   "id": "90bcd186",
   "metadata": {},
   "source": [
    "## Most Desirable Single Game Outcome For Colts"
   ]
  },
  {
   "cell_type": "code",
   "execution_count": null,
   "id": "3915c1ae",
   "metadata": {},
   "outputs": [],
   "source": [
    "Game_Results_Each_Week_Sorted_only_upcoming=Game_Results_Each_Week_Sorted_only_upcoming.sort_values(by=['Average Final Pick'],ascending=False)\n",
    "Week_Ideal=round(Game_Results_Each_Week_Sorted_only_upcoming.reset_index()[:1][\"Game # for Indy\"][0],3)\n",
    "Game_Result_Ideal=Game_Results_Each_Week_Sorted_only_upcoming.reset_index()[:1][\"Game_Result\"][0]\n",
    "Game_Result_Ideal_Pick=round(Game_Results_Each_Week_Sorted_only_upcoming.reset_index()[:1][\"Average Final Pick\"][0],3)\n",
    "Game_Result_Ideal_Occurence=round(Game_Results_Each_Week_Sorted_only_upcoming.reset_index()[:1][\"Total Occurances (%)\"][0],3)\n",
    "print(\"Indy Fans Should Most Want {0} to win in Week {1}, as it results in an average final draft pick of {2}. This occured in {3}% of all simulations\".format(\n",
    "    Game_Result_Ideal,Week_Ideal,Game_Result_Ideal_Pick,Game_Result_Ideal_Occurence))"
   ]
  },
  {
   "cell_type": "markdown",
   "id": "b3e04099",
   "metadata": {},
   "source": [
    "## In any given game going forward, should you root for Indy to lose or win?"
   ]
  },
  {
   "cell_type": "code",
   "execution_count": null,
   "id": "6ee943ad",
   "metadata": {},
   "outputs": [],
   "source": [
    "Ind_Won_or_Lost=Game_Results_Each_Week_Sorted_only_upcoming.groupby([\"IND_RESULT\"],as_index=False)[\"Average Final Pick\"].mean()"
   ]
  },
  {
   "cell_type": "code",
   "execution_count": null,
   "id": "b706b5a3",
   "metadata": {},
   "outputs": [],
   "source": [
    "Ind_loses_any_given_game_mean=round(list(Ind_Won_or_Lost[Ind_Won_or_Lost[\"IND_RESULT\"]==\"IND LOST\"][\"Average Final Pick\"])[0],3)\n",
    "Ind_wins_any_given_game_mean=round(list(Ind_Won_or_Lost[Ind_Won_or_Lost[\"IND_RESULT\"]==\"IND WON\"][\"Average Final Pick\"])[0],3)"
   ]
  },
  {
   "cell_type": "code",
   "execution_count": null,
   "id": "eb208b7a",
   "metadata": {},
   "outputs": [],
   "source": [
    "print(\"Indiana losing any given game going forward results in an average draft pick of {0}, while winning any given game results in an average draft pick of {1}\".format(\n",
    "Ind_loses_any_given_game_mean,Ind_wins_any_given_game_mean))\n",
    "print(\"Losing gives a {0} higher pick than winning, on average\".format(\n",
    "round(Ind_loses_any_given_game_mean-Ind_wins_any_given_game_mean,2)))"
   ]
  },
  {
   "cell_type": "markdown",
   "id": "e8ee1962",
   "metadata": {},
   "source": [
    "## Probability Distribution of Final Pick based off of each Quarter (every 4 games) Result"
   ]
  },
  {
   "cell_type": "markdown",
   "id": "c7ecd4e1",
   "metadata": {},
   "source": [
    "### First Quarter of Season Done"
   ]
  },
  {
   "cell_type": "code",
   "execution_count": null,
   "id": "71e176f3",
   "metadata": {},
   "outputs": [],
   "source": [
    "Wins_by_First_Quarter_Result=IND_WINS.groupby(['Final Pick','First Quarter Wins'],as_index=False)['Percentage of Total Occurances (%)'].sum()\n",
    "Carson_Final_Snap_Percentage=IND_WINS.groupby([\"Final Pick\",'First Quarter Wins'],as_index=False)['Carson Final Snap %'].mean()\n",
    "Wins_by_First_Quarter_Result=pd.merge(Wins_by_First_Quarter_Result,Carson_Final_Snap_Percentage,how=\"inner\",\n",
    "        left_on=['First Quarter Wins',\"Final Pick\"], right_on=['First Quarter Wins',\"Final Pick\"])\n",
    "Wins_by_First_Quarter_Result=Wins_by_First_Quarter_Result.round(4)\n",
    "Plotly_Bar_Plot(df=Wins_by_First_Quarter_Result,Fact1='Final Pick',slider_text='First Quarter Wins',\n",
    "                Color_Titler='Carson Final Snap %',Value='Percentage of Total Occurances (%)',titler='Projected Final Comp. Pick from Colts to Eagles by Wins at First Quarter')"
   ]
  },
  {
   "cell_type": "markdown",
   "id": "8d8c9df1",
   "metadata": {},
   "source": [
    "### Season Halfway Done"
   ]
  },
  {
   "cell_type": "code",
   "execution_count": null,
   "id": "0fc7e5a5",
   "metadata": {},
   "outputs": [],
   "source": [
    "Wins_by_First_Quarter_Result=IND_WINS.groupby(['Final Pick','Second Quarter Wins'],as_index=False)['Percentage of Total Occurances (%)'].sum()\n",
    "\n",
    "Carson_Final_Snap_Percentage=IND_WINS.groupby([\"Final Pick\",'Second Quarter Wins'],as_index=False)['Carson Final Snap %'].mean()\n",
    "Wins_by_First_Quarter_Result=pd.merge(Wins_by_First_Quarter_Result,Carson_Final_Snap_Percentage,how=\"inner\",\n",
    "        left_on=['Second Quarter Wins',\"Final Pick\"], right_on=['Second Quarter Wins',\"Final Pick\"])\n",
    "Plotly_Bar_Plot(df=Wins_by_First_Quarter_Result,Fact1='Final Pick',slider_text='Second Quarter Wins',\n",
    "                Color_Titler='Carson Final Snap %',Value='Percentage of Total Occurances (%)',titler='Projected Final Comp. Pick from Colts to Eagles by Wins at Halfway',vmax=2.3)"
   ]
  },
  {
   "cell_type": "markdown",
   "id": "3f05a006",
   "metadata": {},
   "source": [
    "### Third Quarter Done"
   ]
  },
  {
   "cell_type": "code",
   "execution_count": null,
   "id": "cd615752",
   "metadata": {
    "scrolled": true
   },
   "outputs": [],
   "source": [
    "Wins_by_First_Quarter_Result=IND_WINS.groupby(['Final Pick','Third Quarter Wins'],as_index=False)['Percentage of Total Occurances (%)'].sum()\n",
    "\n",
    "Carson_Final_Snap_Percentage=IND_WINS.groupby([\"Final Pick\",'Third Quarter Wins'],as_index=False)['Carson Final Snap %'].mean()\n",
    "Wins_by_First_Quarter_Result=pd.merge(Wins_by_First_Quarter_Result,Carson_Final_Snap_Percentage,how=\"inner\",\n",
    "        left_on=['Third Quarter Wins',\"Final Pick\"], right_on=['Third Quarter Wins',\"Final Pick\"])\n",
    "Plotly_Bar_Plot(df=Wins_by_First_Quarter_Result,Fact1='Final Pick',slider_text='Third Quarter Wins',\n",
    "                Color_Titler='Carson Final Snap %',Value='Percentage of Total Occurances (%)',titler='Projected Final Comp. Pick from Colts to Eagles by Wins at 3rd Quarter')"
   ]
  },
  {
   "cell_type": "markdown",
   "id": "7baeff42",
   "metadata": {},
   "source": [
    "## Jimmy Johnson's Draft Trade Value as a measure for Expected Trade Value Calculation"
   ]
  },
  {
   "cell_type": "markdown",
   "id": "30e6a211",
   "metadata": {},
   "source": [
    "Jimmy Johnson, notable Survivor contestant and coach I actually like quite a lot, created a rudimentary value assignment for each draft pick in the '90s. Is it accurate or good or founded on anything? Probably not. But it kind of resembles other draft pick value curves that are statistically calculated. "
   ]
  },
  {
   "cell_type": "code",
   "execution_count": null,
   "id": "77d4a142",
   "metadata": {},
   "outputs": [],
   "source": [
    "#Chance of Occurence Times Value\n",
    "print(\"The Average Trade Value of all simulated final picks is {} points\".format(IND_WINS['Draft Pick Points'].mean()))"
   ]
  },
  {
   "cell_type": "markdown",
   "id": "14eabf00",
   "metadata": {},
   "source": [
    "## Save CSV of simulation"
   ]
  },
  {
   "cell_type": "code",
   "execution_count": null,
   "id": "8710bf97",
   "metadata": {},
   "outputs": [],
   "source": [
    "IND_WINS.to_csv(\"Latest_Simulation_Dataframe.csv\")"
   ]
  },
  {
   "cell_type": "markdown",
   "id": "0d7428aa",
   "metadata": {},
   "source": [
    "## Analysis"
   ]
  },
  {
   "cell_type": "markdown",
   "id": "3d60f462",
   "metadata": {},
   "source": [
    "There is no guarantee that the rules of this simulation accurately map out the thought process of the Colts front office. The organization is famously incompetent and prone to misusing their players. Through the first few weeks of this 2021 season, Carson has played admirably under intense pressure from both the media and opposing defensive lines. As long as he is availible and healthy, he will be fighting for his starting job in the league, and the Colts may not be able to bench him so easily even in a losing season if his performance is this good.\n",
    "\n",
    "Regardless, even after an 1-3 start, this distribution should show Eagles fans that a pick in the top 5 is essentially a pipe dream. \n"
   ]
  }
 ],
 "metadata": {
  "kernelspec": {
   "display_name": "Python 3 (ipykernel)",
   "language": "python",
   "name": "python3"
  },
  "language_info": {
   "codemirror_mode": {
    "name": "ipython",
    "version": 3
   },
   "file_extension": ".py",
   "mimetype": "text/x-python",
   "name": "python",
   "nbconvert_exporter": "python",
   "pygments_lexer": "ipython3",
   "version": "3.8.10"
  }
 },
 "nbformat": 4,
 "nbformat_minor": 5
}
